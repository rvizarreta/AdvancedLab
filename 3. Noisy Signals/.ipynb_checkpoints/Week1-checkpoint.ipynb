{
 "cells": [
  {
   "cell_type": "code",
   "execution_count": null,
   "id": "b096bfcd-bf7e-4942-9345-d153885c9d10",
   "metadata": {},
   "outputs": [],
   "source": [
    "# OPERATIONAL PACKAGES ---------------------------------------\n",
    "import numpy as np\n",
    "import matplotlib.pyplot as plt\n",
    "import pandas as pd\n",
    "from math import inf\n",
    "import scipy as sp\n",
    "\n",
    "# STYLE RESOURCES ---------------------------------------\n",
    "plt.style.reload_library()\n",
    "plt.style.use(['science', 'grid'])"
   ]
  },
  {
   "cell_type": "code",
   "execution_count": null,
   "id": "f6113dea-feda-4515-8cd0-7594a22bf2c9",
   "metadata": {},
   "outputs": [],
   "source": []
  }
 ],
 "metadata": {
  "kernelspec": {
   "display_name": "Python 3",
   "language": "python",
   "name": "python3"
  },
  "language_info": {
   "codemirror_mode": {
    "name": "ipython",
    "version": 3
   },
   "file_extension": ".py",
   "mimetype": "text/x-python",
   "name": "python",
   "nbconvert_exporter": "python",
   "pygments_lexer": "ipython3",
   "version": "3.8.8"
  }
 },
 "nbformat": 4,
 "nbformat_minor": 5
}
