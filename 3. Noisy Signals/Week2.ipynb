{
 "cells": [
  {
   "cell_type": "code",
   "execution_count": 1,
   "id": "268882ba-e6e2-4668-9b62-44197e5f28a8",
   "metadata": {},
   "outputs": [],
   "source": [
    "# OPERATIONAL PACKAGES ---------------------------------------\n",
    "import numpy as np\n",
    "import matplotlib.pyplot as plt\n",
    "import pandas as pd\n",
    "from math import inf\n",
    "import scipy as sp\n",
    "\n",
    "# STYLE RESOURCES ---------------------------------------\n",
    "plt.style.reload_library()\n",
    "plt.style.use(['science', 'grid'])\n",
    "\n",
    "# FITTING PACKAGES ---------------------------------------\n",
    "from lmfit import Model, Parameters\n",
    "import scipy.optimize as optimization"
   ]
  },
  {
   "cell_type": "code",
   "execution_count": 150,
   "id": "3713eb5b-14e0-448d-b535-7ee833539a7b",
   "metadata": {},
   "outputs": [],
   "source": [
    "# DEFINING A FUNCTION THAT RETURNS THE UNCERTAINTY USING VARIATIONAL METHOD ---------------------------------------\n",
    "def uncertainty_var(values, deltas, function):\n",
    "    values, deltas = np.array(values), np.array(deltas)\n",
    "    delta_matrix = deltas*np.identity(values.shape[0])\n",
    "    sum = 0\n",
    "    for delta in delta_matrix:\n",
    "        sum += (0.5*(abs(function(values + delta) - function(values)) + abs(function(values-delta) - function(values))))**2\n",
    "    return np.sqrt(sum)\n",
    "\n",
    "# FUNCTION FOR PLOTTING A SCATTER PLOT ---------------------------------------\n",
    "def ScatterPlot(xdata,ydata,error_x,error_y,color,x_label,y_label):\n",
    "    \n",
    "    # SCATTER PLOT\n",
    "    fig = plt.figure(figsize=(5, 5), dpi=80)\n",
    "    plt.errorbar(xdata,ydata,yerr=error_y,capsize = 5,marker = 'o',markersize=4, linestyle = 'None',color='black')\n",
    "    plt.errorbar(xdata,ydata,xerr=error_x,capsize = 5,marker = 'o',markersize=4, linestyle = 'None',color='black')\n",
    "    \n",
    "    plt.xlabel(r'$\\textit{'+ x_label +'}$', fontsize = 16)\n",
    "    plt.ylabel(r'$\\textit{'+ y_label +'}$', fontsize = 16)\n",
    "    plt.ticklabel_format(axis=\"y\", style=\"sci\", scilimits=(0,0))\n",
    "    plt.xticks(fontsize=15)\n",
    "    plt.yticks(fontsize=15)\n",
    "    plt.savefig(\"Figures/figure1.png\")\n",
    "    \n",
    "# FUNCTION FOR PLOTTING A SCATTER LOG PLOT ---------------------------------------\n",
    "def ScatterLogPlot(xdata,ydata,error_x,error_y,color,x_label,y_label):\n",
    "    \n",
    "    # SCATTER PLOT\n",
    "    fig = plt.figure(figsize=(5, 5), dpi=80)\n",
    "    plt.errorbar(xdata,ydata,yerr=error_y,capsize = 5,marker = 'o',markersize=4, linestyle = 'None',color='black')\n",
    "    plt.errorbar(xdata,ydata,xerr=error_x,capsize = 5,marker = 'o',markersize=4, linestyle = 'None',color='black')\n",
    "    \n",
    "    plt.xlabel(r'$\\textit{'+ x_label +'}$', fontsize = 16)\n",
    "    plt.ylabel(r'$\\textit{'+ y_label +'}$', fontsize = 16)\n",
    "    plt.ticklabel_format(axis=\"y\", style=\"sci\", scilimits=(0,0))\n",
    "    plt.xticks(fontsize=15)\n",
    "    plt.yticks(fontsize=15)\n",
    "    plt.yscale('log')\n",
    "    plt.xscale('log')\n",
    "    plt.savefig(\"Figures/figure1.png\")\n",
    "\n",
    "# MANUAL EQ 10: JHONSON NOISE VARIANCE\n",
    "NoiseVariance = lambda param : (param[3]*10)/(param[0]*param[1]*param[2])**2 # G1,G2,GF,VDMM\n",
    "\n",
    "# DEFINING NYQUIST FUNCTION\n",
    "Nyquist = lambda R, k, T, f :4*k*R*T*f\n",
    "\n",
    "# DEFINING A LINEAR FUNCTION\n",
    "linear = lambda x, a, b : a*x + b\n",
    "\n",
    "# DEFINING A POWER LAW FUNCTION FOR FIT\n",
    "powerlaw = lambda x, a, b : a*x**b\n",
    "\n",
    "def FUNCTION_FIT_linear(xdata, ydata, error_x, error_y, color, x_label, y_label, function):\n",
    "    \n",
    "    # Plotting scatter plot first\n",
    "    ScatterPlot(xdata,ydata,error_x,error_y,color,x_label,y_label)\n",
    "    \n",
    "    # Finding best fit value\n",
    "    optimal = optimization.curve_fit(function, xdata, ydata, np.array([0.0, 0.0]), error_y)\n",
    "    a, b = optimal[0][0], optimal[0][1]\n",
    "    \n",
    "    # Fitting data using LMFIT\n",
    "    gModel = Model(function)\n",
    "    gModel.set_param_hint('a', value=a, min=0, max=inf)\n",
    "    gModel.set_param_hint('b', value=b, min=0, max=inf)\n",
    "    params = gModel.make_params()\n",
    "    result = gModel.fit(ydata, x=xdata, a=a, b=b, weights=1/error_y)\n",
    "    \n",
    "    # Plotting Fitted Function\n",
    "    a, b = result.params['a'].value, result.params['b'].value\n",
    "    da, db = result.params['a'].stderr, result.params['b'].stderr\n",
    "    label = r'$\\textit{Y = ' + str(\"{:.5}\".format(a)) + 'X + ' + str(\"{:.2}\".format(b)) + '}$'\n",
    "    #plt.plot(xdata,result.best_fit, color=color)\n",
    "    x = np.arange(xdata.min(), xdata.max(), (xdata.max()-xdata.min())/1000) \n",
    "    #plt.loglog(x, function(x, a ,b), color=color, label=label)\n",
    "    plt.plot(x, function(x, a ,b), color=color, label=label)\n",
    "    \n",
    "    #VERTICAL LINE \n",
    "    plt.legend(prop={'size': 12}, loc=2)\n",
    "    plt.savefig(\"Figures/figure.png\")\n",
    "    plt.show()\n",
    "    \n",
    "    # CALCULATING THE P-VALUE\n",
    "    print('Corresponding p-value:',1.000-sp.stats.chi2.cdf(result.chisqr,result.nfree))\n",
    "    print('Degrees of freedom:',result.nfree)\n",
    "\n",
    "    return result    \n",
    "\n",
    "def FUNCTION_FIT_powerlaw(xdata, ydata, error_x, error_y, color, x_label, y_label, function):\n",
    "    \n",
    "    # Plotting scatter plot first\n",
    "    ScatterPlot(xdata,ydata,error_x,error_y,color,x_label,y_label)\n",
    "    \n",
    "    # Finding best fit value\n",
    "    optimal = optimization.curve_fit(function, xdata, ydata, np.array([0.0, 0.0]), error_y)\n",
    "    a, b = optimal[0][0], optimal[0][1]\n",
    "    \n",
    "    # Fitting data using LMFIT\n",
    "    gModel = Model(function)\n",
    "    gModel.set_param_hint('a', value=a, min=0, max=inf)\n",
    "    gModel.set_param_hint('b', value=b, min=0, max=inf)\n",
    "    params = gModel.make_params()\n",
    "    result = gModel.fit(ydata, x=xdata, a=a, b=b, weights=1/error_y)\n",
    "    \n",
    "    # Plotting Fitted Function\n",
    "    a, b = result.params['a'].value, result.params['b'].value\n",
    "    da, db = result.params['a'].stderr, result.params['b'].stderr\n",
    "    label = r'$\\textit{Y = ' + str(\"{:.5}\".format(a)) + 'X(' + str(\"{:.2}\".format(b)) + ')}$'\n",
    "    #plt.plot(xdata,result.best_fit, color=color)\n",
    "    x = np.arange(xdata.min(), xdata.max(), (xdata.max()-xdata.min())/1000) \n",
    "    plt.loglog(x, function(x, a ,b), color=color, label=label)\n",
    "    #plt.plot(x, function(x, a ,b), color=color, label=label)\n",
    "    \n",
    "    #VERTICAL LINE \n",
    "    plt.legend(prop={'size': 12}, loc=2)\n",
    "    plt.savefig(\"Figures/figure.png\")\n",
    "    plt.show()\n",
    "    \n",
    "    # CALCULATING THE P-VALUE\n",
    "    print('Corresponding p-value:',1.000-sp.stats.chi2.cdf(result.chisqr,result.nfree))\n",
    "    print('Degrees of freedom:',result.nfree)\n",
    "\n",
    "    return result   \n",
    "\n",
    "# DEFINING A FUNCTION THAT RETURNS THE WEIGHTED AVERAGE WITH UNCERTAINTY\n",
    "def weighted_avgs(values, deltas):\n",
    "    weights = np.array(list(map(lambda x : 1/x**2, deltas)))\n",
    "    best_val = np.dot(np.array(values), weights)/weights.sum()\n",
    "    uncert = 1/np.sqrt(weights.sum())\n",
    "    return [best_val, uncert]"
   ]
  },
  {
   "cell_type": "code",
   "execution_count": 159,
   "id": "088c6efa-c1c2-4229-bc7c-89bc33a3298a",
   "metadata": {
    "tags": []
   },
   "outputs": [
    {
     "data": {
      "text/html": [
       "<div>\n",
       "<style scoped>\n",
       "    .dataframe tbody tr th:only-of-type {\n",
       "        vertical-align: middle;\n",
       "    }\n",
       "\n",
       "    .dataframe tbody tr th {\n",
       "        vertical-align: top;\n",
       "    }\n",
       "\n",
       "    .dataframe thead th {\n",
       "        text-align: right;\n",
       "    }\n",
       "</style>\n",
       "<table border=\"1\" class=\"dataframe\">\n",
       "  <thead>\n",
       "    <tr style=\"text-align: right;\">\n",
       "      <th></th>\n",
       "      <th>Resistance  ($\\Omega$)</th>\n",
       "      <th>G2</th>\n",
       "      <th>$V_{DMM}$ Voltage (V)</th>\n",
       "      <th>$V_{DMM}$ Uncertainty (V)</th>\n",
       "      <th>Noise Variance (nV)^2</th>\n",
       "      <th>NV_Uncert (nV)^2</th>\n",
       "    </tr>\n",
       "  </thead>\n",
       "  <tbody>\n",
       "    <tr>\n",
       "      <th>0</th>\n",
       "      <td>1</td>\n",
       "      <td>2000</td>\n",
       "      <td>0.9590</td>\n",
       "      <td>0.0010</td>\n",
       "      <td>6.659722e+06</td>\n",
       "      <td>6944.444444</td>\n",
       "    </tr>\n",
       "    <tr>\n",
       "      <th>1</th>\n",
       "      <td>1</td>\n",
       "      <td>1500</td>\n",
       "      <td>0.5400</td>\n",
       "      <td>0.0005</td>\n",
       "      <td>6.666667e+06</td>\n",
       "      <td>6172.839506</td>\n",
       "    </tr>\n",
       "    <tr>\n",
       "      <th>2</th>\n",
       "      <td>1</td>\n",
       "      <td>1000</td>\n",
       "      <td>0.2380</td>\n",
       "      <td>0.0005</td>\n",
       "      <td>6.611111e+06</td>\n",
       "      <td>13888.888889</td>\n",
       "    </tr>\n",
       "    <tr>\n",
       "      <th>3</th>\n",
       "      <td>1</td>\n",
       "      <td>500</td>\n",
       "      <td>0.0572</td>\n",
       "      <td>0.0005</td>\n",
       "      <td>6.355556e+06</td>\n",
       "      <td>55555.555556</td>\n",
       "    </tr>\n",
       "    <tr>\n",
       "      <th>4</th>\n",
       "      <td>10</td>\n",
       "      <td>2000</td>\n",
       "      <td>0.9660</td>\n",
       "      <td>0.0010</td>\n",
       "      <td>6.708333e+06</td>\n",
       "      <td>6944.444444</td>\n",
       "    </tr>\n",
       "    <tr>\n",
       "      <th>5</th>\n",
       "      <td>10</td>\n",
       "      <td>1500</td>\n",
       "      <td>0.5420</td>\n",
       "      <td>0.0005</td>\n",
       "      <td>6.691358e+06</td>\n",
       "      <td>6172.839506</td>\n",
       "    </tr>\n",
       "    <tr>\n",
       "      <th>6</th>\n",
       "      <td>10</td>\n",
       "      <td>1000</td>\n",
       "      <td>0.2390</td>\n",
       "      <td>0.0005</td>\n",
       "      <td>6.638889e+06</td>\n",
       "      <td>13888.888889</td>\n",
       "    </tr>\n",
       "    <tr>\n",
       "      <th>7</th>\n",
       "      <td>10</td>\n",
       "      <td>500</td>\n",
       "      <td>0.0574</td>\n",
       "      <td>0.0005</td>\n",
       "      <td>6.377778e+06</td>\n",
       "      <td>55555.555556</td>\n",
       "    </tr>\n",
       "    <tr>\n",
       "      <th>8</th>\n",
       "      <td>100</td>\n",
       "      <td>2000</td>\n",
       "      <td>0.9890</td>\n",
       "      <td>0.0010</td>\n",
       "      <td>6.868056e+06</td>\n",
       "      <td>6944.444444</td>\n",
       "    </tr>\n",
       "    <tr>\n",
       "      <th>9</th>\n",
       "      <td>100</td>\n",
       "      <td>1500</td>\n",
       "      <td>0.5564</td>\n",
       "      <td>0.0005</td>\n",
       "      <td>6.869136e+06</td>\n",
       "      <td>6172.839506</td>\n",
       "    </tr>\n",
       "    <tr>\n",
       "      <th>10</th>\n",
       "      <td>100</td>\n",
       "      <td>1000</td>\n",
       "      <td>0.2456</td>\n",
       "      <td>0.0005</td>\n",
       "      <td>6.822222e+06</td>\n",
       "      <td>13888.888889</td>\n",
       "    </tr>\n",
       "    <tr>\n",
       "      <th>11</th>\n",
       "      <td>100</td>\n",
       "      <td>500</td>\n",
       "      <td>0.0590</td>\n",
       "      <td>0.0005</td>\n",
       "      <td>6.555556e+06</td>\n",
       "      <td>55555.555556</td>\n",
       "    </tr>\n",
       "    <tr>\n",
       "      <th>12</th>\n",
       "      <td>1000</td>\n",
       "      <td>1500</td>\n",
       "      <td>0.6930</td>\n",
       "      <td>0.0010</td>\n",
       "      <td>8.555556e+06</td>\n",
       "      <td>12345.679012</td>\n",
       "    </tr>\n",
       "    <tr>\n",
       "      <th>13</th>\n",
       "      <td>1000</td>\n",
       "      <td>1000</td>\n",
       "      <td>0.3067</td>\n",
       "      <td>0.0005</td>\n",
       "      <td>8.519444e+06</td>\n",
       "      <td>13888.888889</td>\n",
       "    </tr>\n",
       "    <tr>\n",
       "      <th>14</th>\n",
       "      <td>1000</td>\n",
       "      <td>500</td>\n",
       "      <td>0.0742</td>\n",
       "      <td>0.0005</td>\n",
       "      <td>8.244444e+06</td>\n",
       "      <td>55555.555556</td>\n",
       "    </tr>\n",
       "    <tr>\n",
       "      <th>15</th>\n",
       "      <td>1000</td>\n",
       "      <td>300</td>\n",
       "      <td>0.0246</td>\n",
       "      <td>0.0005</td>\n",
       "      <td>7.592593e+06</td>\n",
       "      <td>154320.987654</td>\n",
       "    </tr>\n",
       "    <tr>\n",
       "      <th>16</th>\n",
       "      <td>10000</td>\n",
       "      <td>1000</td>\n",
       "      <td>0.9200</td>\n",
       "      <td>0.0010</td>\n",
       "      <td>2.555556e+07</td>\n",
       "      <td>27777.777778</td>\n",
       "    </tr>\n",
       "    <tr>\n",
       "      <th>17</th>\n",
       "      <td>10000</td>\n",
       "      <td>800</td>\n",
       "      <td>0.5882</td>\n",
       "      <td>0.0005</td>\n",
       "      <td>2.552951e+07</td>\n",
       "      <td>21701.388889</td>\n",
       "    </tr>\n",
       "    <tr>\n",
       "      <th>18</th>\n",
       "      <td>10000</td>\n",
       "      <td>600</td>\n",
       "      <td>0.3292</td>\n",
       "      <td>0.0005</td>\n",
       "      <td>2.540123e+07</td>\n",
       "      <td>38580.246914</td>\n",
       "    </tr>\n",
       "    <tr>\n",
       "      <th>19</th>\n",
       "      <td>10000</td>\n",
       "      <td>400</td>\n",
       "      <td>0.1445</td>\n",
       "      <td>0.0005</td>\n",
       "      <td>2.508681e+07</td>\n",
       "      <td>86805.555556</td>\n",
       "    </tr>\n",
       "    <tr>\n",
       "      <th>20</th>\n",
       "      <td>100000</td>\n",
       "      <td>400</td>\n",
       "      <td>0.8793</td>\n",
       "      <td>0.0010</td>\n",
       "      <td>1.526562e+08</td>\n",
       "      <td>173611.111111</td>\n",
       "    </tr>\n",
       "    <tr>\n",
       "      <th>21</th>\n",
       "      <td>100000</td>\n",
       "      <td>300</td>\n",
       "      <td>0.4930</td>\n",
       "      <td>0.0010</td>\n",
       "      <td>1.521605e+08</td>\n",
       "      <td>308641.975309</td>\n",
       "    </tr>\n",
       "    <tr>\n",
       "      <th>22</th>\n",
       "      <td>100000</td>\n",
       "      <td>200</td>\n",
       "      <td>0.2175</td>\n",
       "      <td>0.0005</td>\n",
       "      <td>1.510417e+08</td>\n",
       "      <td>347222.222222</td>\n",
       "    </tr>\n",
       "    <tr>\n",
       "      <th>23</th>\n",
       "      <td>100000</td>\n",
       "      <td>150</td>\n",
       "      <td>0.1209</td>\n",
       "      <td>0.0005</td>\n",
       "      <td>1.492593e+08</td>\n",
       "      <td>617283.950617</td>\n",
       "    </tr>\n",
       "  </tbody>\n",
       "</table>\n",
       "</div>"
      ],
      "text/plain": [
       "    Resistance  ($\\Omega$)    G2  $V_{DMM}$ Voltage (V)  \\\n",
       "0                        1  2000                 0.9590   \n",
       "1                        1  1500                 0.5400   \n",
       "2                        1  1000                 0.2380   \n",
       "3                        1   500                 0.0572   \n",
       "4                       10  2000                 0.9660   \n",
       "5                       10  1500                 0.5420   \n",
       "6                       10  1000                 0.2390   \n",
       "7                       10   500                 0.0574   \n",
       "8                      100  2000                 0.9890   \n",
       "9                      100  1500                 0.5564   \n",
       "10                     100  1000                 0.2456   \n",
       "11                     100   500                 0.0590   \n",
       "12                    1000  1500                 0.6930   \n",
       "13                    1000  1000                 0.3067   \n",
       "14                    1000   500                 0.0742   \n",
       "15                    1000   300                 0.0246   \n",
       "16                   10000  1000                 0.9200   \n",
       "17                   10000   800                 0.5882   \n",
       "18                   10000   600                 0.3292   \n",
       "19                   10000   400                 0.1445   \n",
       "20                  100000   400                 0.8793   \n",
       "21                  100000   300                 0.4930   \n",
       "22                  100000   200                 0.2175   \n",
       "23                  100000   150                 0.1209   \n",
       "\n",
       "    $V_{DMM}$ Uncertainty (V)  Noise Variance (nV)^2  NV_Uncert (nV)^2  \n",
       "0                      0.0010           6.659722e+06       6944.444444  \n",
       "1                      0.0005           6.666667e+06       6172.839506  \n",
       "2                      0.0005           6.611111e+06      13888.888889  \n",
       "3                      0.0005           6.355556e+06      55555.555556  \n",
       "4                      0.0010           6.708333e+06       6944.444444  \n",
       "5                      0.0005           6.691358e+06       6172.839506  \n",
       "6                      0.0005           6.638889e+06      13888.888889  \n",
       "7                      0.0005           6.377778e+06      55555.555556  \n",
       "8                      0.0010           6.868056e+06       6944.444444  \n",
       "9                      0.0005           6.869136e+06       6172.839506  \n",
       "10                     0.0005           6.822222e+06      13888.888889  \n",
       "11                     0.0005           6.555556e+06      55555.555556  \n",
       "12                     0.0010           8.555556e+06      12345.679012  \n",
       "13                     0.0005           8.519444e+06      13888.888889  \n",
       "14                     0.0005           8.244444e+06      55555.555556  \n",
       "15                     0.0005           7.592593e+06     154320.987654  \n",
       "16                     0.0010           2.555556e+07      27777.777778  \n",
       "17                     0.0005           2.552951e+07      21701.388889  \n",
       "18                     0.0005           2.540123e+07      38580.246914  \n",
       "19                     0.0005           2.508681e+07      86805.555556  \n",
       "20                     0.0010           1.526562e+08     173611.111111  \n",
       "21                     0.0010           1.521605e+08     308641.975309  \n",
       "22                     0.0005           1.510417e+08     347222.222222  \n",
       "23                     0.0005           1.492593e+08     617283.950617  "
      ]
     },
     "execution_count": 159,
     "metadata": {},
     "output_type": "execute_result"
    }
   ],
   "source": [
    "# READING THE DATA FROM GOOGLE SHEETS ---------------------------------------\n",
    "googleSheetId = '1M3q4vDcs5wu9C4umDq8SBvYUmYqljXlFabl7yYq-CUE'\n",
    "workSheetName = 'Sheet1'\n",
    "URL = 'https://docs.google.com/spreadsheets/d/{0}/gviz/tq?tqx=out:csv&sheet={1}'.format(googleSheetId, workSheetName)\n",
    "df = pd.read_csv(URL)\n",
    "df = df.iloc[: , :4]\n",
    "\n",
    "df['Noise Variance (nV)^2'] = NoiseVariance([600,df['G2'],1,df['$V_{DMM}$ Voltage (V)']])*10**(18)\n",
    "df['NV_Uncert (nV)^2'] = df.apply(lambda x: uncertainty_var([600,x['G2'],1,x['$V_{DMM}$ Voltage (V)']], [0,0,0,x['$V_{DMM}$ Uncertainty (V)']], NoiseVariance), axis=1)*10**(18)\n",
    "df"
   ]
  },
  {
   "cell_type": "markdown",
   "id": "bffde049-94c8-4886-a11a-3cc2ec4ded5c",
   "metadata": {},
   "source": [
    "---\n",
    "### First try: using all the datapoints\n",
    "---"
   ]
  },
  {
   "cell_type": "code",
   "execution_count": 160,
   "id": "c4fee4b8-9c13-4729-a5fd-6f4c175d128b",
   "metadata": {},
   "outputs": [
    {
     "data": {
      "text/html": [
       "<div>\n",
       "<style scoped>\n",
       "    .dataframe tbody tr th:only-of-type {\n",
       "        vertical-align: middle;\n",
       "    }\n",
       "\n",
       "    .dataframe tbody tr th {\n",
       "        vertical-align: top;\n",
       "    }\n",
       "\n",
       "    .dataframe thead th {\n",
       "        text-align: right;\n",
       "    }\n",
       "</style>\n",
       "<table border=\"1\" class=\"dataframe\">\n",
       "  <thead>\n",
       "    <tr style=\"text-align: right;\">\n",
       "      <th></th>\n",
       "      <th>Noise Variance (nV)^2</th>\n",
       "      <th>NV_Uncert (nV)^2</th>\n",
       "      <th>Resistance  ($\\Omega$)</th>\n",
       "    </tr>\n",
       "  </thead>\n",
       "  <tbody>\n",
       "    <tr>\n",
       "      <th>0</th>\n",
       "      <td>6.656516e+06</td>\n",
       "      <td>4364.856674</td>\n",
       "      <td>1</td>\n",
       "    </tr>\n",
       "    <tr>\n",
       "      <th>1</th>\n",
       "      <td>6.690947e+06</td>\n",
       "      <td>4364.856674</td>\n",
       "      <td>10</td>\n",
       "    </tr>\n",
       "    <tr>\n",
       "      <th>2</th>\n",
       "      <td>6.862140e+06</td>\n",
       "      <td>4364.856674</td>\n",
       "      <td>100</td>\n",
       "    </tr>\n",
       "    <tr>\n",
       "      <th>3</th>\n",
       "      <td>8.528437e+06</td>\n",
       "      <td>9086.783276</td>\n",
       "      <td>1000</td>\n",
       "    </tr>\n",
       "    <tr>\n",
       "      <th>4</th>\n",
       "      <td>2.550319e+07</td>\n",
       "      <td>15386.576251</td>\n",
       "      <td>10000</td>\n",
       "    </tr>\n",
       "    <tr>\n",
       "      <th>5</th>\n",
       "      <td>1.521523e+08</td>\n",
       "      <td>135340.426982</td>\n",
       "      <td>100000</td>\n",
       "    </tr>\n",
       "  </tbody>\n",
       "</table>\n",
       "</div>"
      ],
      "text/plain": [
       "   Noise Variance (nV)^2  NV_Uncert (nV)^2  Resistance  ($\\Omega$)\n",
       "0           6.656516e+06       4364.856674                       1\n",
       "1           6.690947e+06       4364.856674                      10\n",
       "2           6.862140e+06       4364.856674                     100\n",
       "3           8.528437e+06       9086.783276                    1000\n",
       "4           2.550319e+07      15386.576251                   10000\n",
       "5           1.521523e+08     135340.426982                  100000"
      ]
     },
     "execution_count": 160,
     "metadata": {},
     "output_type": "execute_result"
    }
   ],
   "source": [
    "# GROUPING BY RESISTANCE ---------------------------------------\n",
    "# Taking the average using weighted averages\n",
    "resistances = [1,10,100,1000,10000,100000]\n",
    "data_final = []\n",
    "for resistance in resistances:\n",
    "    df_temporal = df[df['Resistance  ($\\Omega$)']==resistance]\n",
    "    avg = weighted_avgs(df_temporal['Noise Variance (nV)^2'], df_temporal['NV_Uncert (nV)^2'])\n",
    "    data_final.append([avg[0], avg[1], resistance])\n",
    "df2 = pd.DataFrame(data_final, columns=['Noise Variance (nV)^2', 'NV_Uncert (nV)^2', 'Resistance  ($\\Omega$)'])\n",
    "df2"
   ]
  },
  {
   "cell_type": "code",
   "execution_count": 1,
   "id": "6670c0b7-ac06-406b-b957-dc01e58baaad",
   "metadata": {},
   "outputs": [
    {
     "ename": "NameError",
     "evalue": "name 'df2' is not defined",
     "output_type": "error",
     "traceback": [
      "\u001b[0;31m---------------------------------------------------------------------------\u001b[0m",
      "\u001b[0;31mNameError\u001b[0m                                 Traceback (most recent call last)",
      "\u001b[0;32m<ipython-input-1-bcbf9380410f>\u001b[0m in \u001b[0;36m<module>\u001b[0;34m\u001b[0m\n\u001b[1;32m      1\u001b[0m \u001b[0;31m# PLOTTING OUR DATA ---------------------------------------\u001b[0m\u001b[0;34m\u001b[0m\u001b[0;34m\u001b[0m\u001b[0;34m\u001b[0m\u001b[0m\n\u001b[0;32m----> 2\u001b[0;31m \u001b[0mxdata\u001b[0m\u001b[0;34m,\u001b[0m \u001b[0mydata\u001b[0m\u001b[0;34m,\u001b[0m \u001b[0merror_x\u001b[0m\u001b[0;34m,\u001b[0m \u001b[0merror_y\u001b[0m \u001b[0;34m=\u001b[0m \u001b[0mdf2\u001b[0m\u001b[0;34m[\u001b[0m\u001b[0;34m'Resistance  ($\\Omega$)'\u001b[0m\u001b[0;34m]\u001b[0m\u001b[0;34m,\u001b[0m \u001b[0mdf2\u001b[0m\u001b[0;34m[\u001b[0m\u001b[0;34m'Noise Variance (nV)^2'\u001b[0m\u001b[0;34m]\u001b[0m\u001b[0;34m,\u001b[0m \u001b[0;36m0\u001b[0m\u001b[0;34m,\u001b[0m \u001b[0mdf2\u001b[0m\u001b[0;34m[\u001b[0m\u001b[0;34m'NV_Uncert (nV)^2'\u001b[0m\u001b[0;34m]\u001b[0m\u001b[0;34m\u001b[0m\u001b[0;34m\u001b[0m\u001b[0m\n\u001b[0m\u001b[1;32m      3\u001b[0m \u001b[0mresult\u001b[0m \u001b[0;34m=\u001b[0m \u001b[0mFUNCTION_FIT_linear\u001b[0m\u001b[0;34m(\u001b[0m\u001b[0mxdata\u001b[0m\u001b[0;34m,\u001b[0m \u001b[0mydata\u001b[0m\u001b[0;34m,\u001b[0m \u001b[0merror_x\u001b[0m\u001b[0;34m,\u001b[0m \u001b[0merror_y\u001b[0m\u001b[0;34m,\u001b[0m \u001b[0;34m'blue'\u001b[0m\u001b[0;34m,\u001b[0m \u001b[0;34m'$R_{in}$  ($\\Omega$)'\u001b[0m\u001b[0;34m,\u001b[0m \u001b[0;34m'$<V_J^2 + V_N^2>  (nV)^2$'\u001b[0m\u001b[0;34m,\u001b[0m \u001b[0mlinear\u001b[0m\u001b[0;34m)\u001b[0m\u001b[0;34m\u001b[0m\u001b[0;34m\u001b[0m\u001b[0m\n\u001b[1;32m      4\u001b[0m \u001b[0mresult\u001b[0m\u001b[0;34m\u001b[0m\u001b[0;34m\u001b[0m\u001b[0m\n",
      "\u001b[0;31mNameError\u001b[0m: name 'df2' is not defined"
     ]
    }
   ],
   "source": [
    "# PLOTTING OUR DATA ---------------------------------------\n",
    "xdata, ydata, error_x, error_y = df2['Resistance  ($\\Omega$)'], df2['Noise Variance (nV)^2'], 0, df2['NV_Uncert (nV)^2']\n",
    "result = FUNCTION_FIT_linear(xdata, ydata, error_x, error_y, 'blue', '$R_{in}$  ($\\Omega$)', '$<V_J^2 + V_N^2>  (nV)^2$', linear)\n",
    "result"
   ]
  },
  {
   "cell_type": "code",
   "execution_count": 162,
   "id": "49da527d-3199-4e4b-a3a0-bca32914431f",
   "metadata": {},
   "outputs": [
    {
     "data": {
      "text/plain": [
       "(6743966.465337124, 253071.53285982652)"
      ]
     },
     "execution_count": 162,
     "metadata": {},
     "output_type": "execute_result"
    }
   ],
   "source": [
    "# Finding y-intercept <V_N^2 (t)> ---------------------------------------\n",
    "y_intercept = result.params['b'].value\n",
    "y_intercept_uncert = result.params['b'].stderr\n",
    "y_intercept, y_intercept_uncert"
   ]
  },
  {
   "cell_type": "code",
   "execution_count": 163,
   "id": "1946c448-12b3-4975-815e-bf004440be64",
   "metadata": {},
   "outputs": [
    {
     "data": {
      "text/html": [
       "<div>\n",
       "<style scoped>\n",
       "    .dataframe tbody tr th:only-of-type {\n",
       "        vertical-align: middle;\n",
       "    }\n",
       "\n",
       "    .dataframe tbody tr th {\n",
       "        vertical-align: top;\n",
       "    }\n",
       "\n",
       "    .dataframe thead th {\n",
       "        text-align: right;\n",
       "    }\n",
       "</style>\n",
       "<table border=\"1\" class=\"dataframe\">\n",
       "  <thead>\n",
       "    <tr style=\"text-align: right;\">\n",
       "      <th></th>\n",
       "      <th>Noise Variance (nV)^2</th>\n",
       "      <th>NV_Uncert (nV)^2</th>\n",
       "      <th>Resistance  ($\\Omega$)</th>\n",
       "      <th>Johnson Noise (nV)^2</th>\n",
       "      <th>Uncert Johnson Noise (nV)^2</th>\n",
       "    </tr>\n",
       "  </thead>\n",
       "  <tbody>\n",
       "    <tr>\n",
       "      <th>0</th>\n",
       "      <td>6.656516e+06</td>\n",
       "      <td>4364.856674</td>\n",
       "      <td>1</td>\n",
       "      <td>-8.745069e+04</td>\n",
       "      <td>253109.171540</td>\n",
       "    </tr>\n",
       "    <tr>\n",
       "      <th>1</th>\n",
       "      <td>6.690947e+06</td>\n",
       "      <td>4364.856674</td>\n",
       "      <td>10</td>\n",
       "      <td>-5.301996e+04</td>\n",
       "      <td>253109.171540</td>\n",
       "    </tr>\n",
       "    <tr>\n",
       "      <th>2</th>\n",
       "      <td>6.862140e+06</td>\n",
       "      <td>4364.856674</td>\n",
       "      <td>100</td>\n",
       "      <td>1.181735e+05</td>\n",
       "      <td>253109.171540</td>\n",
       "    </tr>\n",
       "    <tr>\n",
       "      <th>3</th>\n",
       "      <td>8.528437e+06</td>\n",
       "      <td>9086.783276</td>\n",
       "      <td>1000</td>\n",
       "      <td>1.784470e+06</td>\n",
       "      <td>253234.615277</td>\n",
       "    </tr>\n",
       "    <tr>\n",
       "      <th>4</th>\n",
       "      <td>2.550319e+07</td>\n",
       "      <td>15386.576251</td>\n",
       "      <td>10000</td>\n",
       "      <td>1.875922e+07</td>\n",
       "      <td>253538.848054</td>\n",
       "    </tr>\n",
       "    <tr>\n",
       "      <th>5</th>\n",
       "      <td>1.521523e+08</td>\n",
       "      <td>135340.426982</td>\n",
       "      <td>100000</td>\n",
       "      <td>1.454084e+08</td>\n",
       "      <td>286988.208677</td>\n",
       "    </tr>\n",
       "  </tbody>\n",
       "</table>\n",
       "</div>"
      ],
      "text/plain": [
       "   Noise Variance (nV)^2  NV_Uncert (nV)^2  Resistance  ($\\Omega$)  \\\n",
       "0           6.656516e+06       4364.856674                       1   \n",
       "1           6.690947e+06       4364.856674                      10   \n",
       "2           6.862140e+06       4364.856674                     100   \n",
       "3           8.528437e+06       9086.783276                    1000   \n",
       "4           2.550319e+07      15386.576251                   10000   \n",
       "5           1.521523e+08     135340.426982                  100000   \n",
       "\n",
       "   Johnson Noise (nV)^2  Uncert Johnson Noise (nV)^2  \n",
       "0         -8.745069e+04                253109.171540  \n",
       "1         -5.301996e+04                253109.171540  \n",
       "2          1.181735e+05                253109.171540  \n",
       "3          1.784470e+06                253234.615277  \n",
       "4          1.875922e+07                253538.848054  \n",
       "5          1.454084e+08                286988.208677  "
      ]
     },
     "execution_count": 163,
     "metadata": {},
     "output_type": "execute_result"
    }
   ],
   "source": [
    "# Calculating Johnson Noise\n",
    "df2['Johnson Noise (nV)^2'] = df2['Noise Variance (nV)^2'] - y_intercept\n",
    "df2['Uncert Johnson Noise (nV)^2'] = np.sqrt(df2['NV_Uncert (nV)^2']**2 + y_intercept_uncert**2)\n",
    "df2"
   ]
  },
  {
   "cell_type": "code",
   "execution_count": 164,
   "id": "23bfeccf-fccb-4457-ab07-8b3b7c4b166b",
   "metadata": {},
   "outputs": [
    {
     "data": {
      "image/png": "[encoded data removed]",
      "text/plain": [
       "<Figure size 400x400 with 1 Axes>"
      ]
     },
     "metadata": {
      "needs_background": "light"
     },
     "output_type": "display_data"
    },
    {
     "name": "stdout",
     "output_type": "stream",
     "text": [
      "Corresponding p-value: 0.0\n",
      "Degrees of freedom: 4\n"
     ]
    },
    {
     "data": {
      "text/html": [
       "<h2> Model</h2> Model(<lambda>) <h2>Fit Statistics</h2><table><tr><td>fitting method</td><td>leastsq</td><td></td></tr><tr><td># function evals</td><td>3</td><td></td></tr><tr><td># data points</td><td>6</td><td></td></tr><tr><td># variables</td><td>2</td><td></td></tr><tr><td>chi-square</td><td> 226.112604</td><td></td></tr><tr><td>reduced chi-square</td><td> 56.5281511</td><td></td></tr><tr><td>Akaike info crit.</td><td> 25.7756419</td><td></td></tr><tr><td>Bayesian info crit.</td><td> 25.3591609</td><td></td></tr></table><h2>Variables</h2><table><tr><th> name </th><th> value </th><th> standard error </th><th> relative error </th><th> initial value </th><th> min </th><th> max </th><th> vary </th></tr><tr><td> a </td><td>  1450.30702 </td><td>  23.5832571 </td><td> (1.63%) </td><td> 1450.3070157951763 </td><td>  0.00000000 </td><td>         inf </td><td> True </td></tr><tr><td> b </td><td>  811653.151 </td><td>  871208.266 </td><td> (107.34%) </td><td> 811653.1511224118 </td><td>  0.00000000 </td><td>         inf </td><td> True </td></tr></table><h2>Correlations (unreported correlations are < 0.100)</h2><table><tr><td>a</td><td>b</td><td>-0.4166</td></tr></table>"
      ],
      "text/plain": [
       "<lmfit.model.ModelResult at 0x7fc9014a2e50>"
      ]
     },
     "execution_count": 164,
     "metadata": {},
     "output_type": "execute_result"
    }
   ],
   "source": [
    "#### PLOTTING OUR DATA ---------------------------------------\n",
    "xdata, ydata, error_x, error_y = df2['Resistance  ($\\Omega$)'], df2['Johnson Noise (nV)^2'], 0, df2['Uncert Johnson Noise (nV)^2']\n",
    "result = FUNCTION_FIT_linear(xdata, ydata, error_x, error_y, 'blue', '$R_{in}$  ($\\Omega$)', '$<V_J^2>  (nV)^2$', linear)\n",
    "result"
   ]
  },
  {
   "cell_type": "code",
   "execution_count": 165,
   "id": "c78c26b3-ac4f-4a6b-a7da-57ca8fd8c4e7",
   "metadata": {},
   "outputs": [
    {
     "name": "stdout",
     "output_type": "stream",
     "text": [
      "1.4503070157951764e-15 2.358325708263135e-17\n",
      "1.2323928476822972e-23 8.0159130548651685e-25\n"
     ]
    }
   ],
   "source": [
    "# Finding the Boltzmann constant\n",
    "from scipy.constants import k\n",
    "T, ENBW = 294.5, 99.9e3\n",
    "slope = result.params['a'].value*1e-18\n",
    "slope_error = result.params['a'].stderr*1e-18\n",
    "kb = slope/(4*T*ENBW)\n",
    "kb_uncert = uncertainty_var([slope, T, ENBW], [slope_error, 0, 0], boltzmann)\n",
    "\n",
    "print(slope, slope_error)\n",
    "print(kb, kb_uncert)"
   ]
  },
  {
   "cell_type": "code",
   "execution_count": 166,
   "id": "2ad51173-c152-42bb-a587-fb8fc204dc79",
   "metadata": {},
   "outputs": [
    {
     "name": "stdout",
     "output_type": "stream",
     "text": [
      "Percentage error:  10.738149400586451 %\n",
      "Experimental precision: 1.626087223311203 %\n",
      "Sigmas: 6.603673681612446\n"
     ]
    }
   ],
   "source": [
    "# DETERMING THE %ERROR\n",
    "error = abs((kb-k)/k)*100\n",
    "print(\"Percentage error: \", error, \"%\")\n",
    "exp_precision = 100*slope_error/slope\n",
    "print('Experimental precision:', exp_precision, '%')\n",
    "print('Sigmas:', error/exp_precision)"
   ]
  },
  {
   "cell_type": "markdown",
   "id": "e307dfe3-ee3d-4344-9b78-ade2d690c558",
   "metadata": {},
   "source": [
    "---\n",
    "### Second try: dropping highest resistance datapoint\n",
    "---"
   ]
  },
  {
   "cell_type": "code",
   "execution_count": 142,
   "id": "fc0878b4-0619-4d19-bc2b-90f0d65602af",
   "metadata": {},
   "outputs": [
    {
     "data": {
      "text/html": [
       "<div>\n",
       "<style scoped>\n",
       "    .dataframe tbody tr th:only-of-type {\n",
       "        vertical-align: middle;\n",
       "    }\n",
       "\n",
       "    .dataframe tbody tr th {\n",
       "        vertical-align: top;\n",
       "    }\n",
       "\n",
       "    .dataframe thead th {\n",
       "        text-align: right;\n",
       "    }\n",
       "</style>\n",
       "<table border=\"1\" class=\"dataframe\">\n",
       "  <thead>\n",
       "    <tr style=\"text-align: right;\">\n",
       "      <th></th>\n",
       "      <th>Noise Variance (nV)^2</th>\n",
       "      <th>NV_Uncert (nV)^2</th>\n",
       "      <th>Resistance  ($\\Omega$)</th>\n",
       "    </tr>\n",
       "  </thead>\n",
       "  <tbody>\n",
       "    <tr>\n",
       "      <th>0</th>\n",
       "      <td>6.656516e+06</td>\n",
       "      <td>4364.856674</td>\n",
       "      <td>1</td>\n",
       "    </tr>\n",
       "    <tr>\n",
       "      <th>1</th>\n",
       "      <td>6.690947e+06</td>\n",
       "      <td>4364.856674</td>\n",
       "      <td>10</td>\n",
       "    </tr>\n",
       "    <tr>\n",
       "      <th>2</th>\n",
       "      <td>6.862140e+06</td>\n",
       "      <td>4364.856674</td>\n",
       "      <td>100</td>\n",
       "    </tr>\n",
       "    <tr>\n",
       "      <th>3</th>\n",
       "      <td>8.528437e+06</td>\n",
       "      <td>9086.783276</td>\n",
       "      <td>1000</td>\n",
       "    </tr>\n",
       "    <tr>\n",
       "      <th>4</th>\n",
       "      <td>2.550319e+07</td>\n",
       "      <td>15386.576251</td>\n",
       "      <td>10000</td>\n",
       "    </tr>\n",
       "    <tr>\n",
       "      <th>5</th>\n",
       "      <td>1.521523e+08</td>\n",
       "      <td>135340.426982</td>\n",
       "      <td>100000</td>\n",
       "    </tr>\n",
       "  </tbody>\n",
       "</table>\n",
       "</div>"
      ],
      "text/plain": [
       "   Noise Variance (nV)^2  NV_Uncert (nV)^2  Resistance  ($\\Omega$)\n",
       "0           6.656516e+06       4364.856674                       1\n",
       "1           6.690947e+06       4364.856674                      10\n",
       "2           6.862140e+06       4364.856674                     100\n",
       "3           8.528437e+06       9086.783276                    1000\n",
       "4           2.550319e+07      15386.576251                   10000\n",
       "5           1.521523e+08     135340.426982                  100000"
      ]
     },
     "execution_count": 142,
     "metadata": {},
     "output_type": "execute_result"
    }
   ],
   "source": [
    "# GROUPING BY RESISTANCE ---------------------------------------\n",
    "# Taking the average using weighted averages\n",
    "resistances = [1,10,100,1000,10000,100000]\n",
    "data_final = []\n",
    "for resistance in resistances:\n",
    "    df_temporal = df[df['Resistance  ($\\Omega$)']==resistance]\n",
    "    avg = weighted_avgs(df_temporal['Noise Variance (nV)^2'], df_temporal['NV_Uncert (nV)^2'])\n",
    "    data_final.append([avg[0], avg[1], resistance])\n",
    "df2 = pd.DataFrame(data_final, columns=['Noise Variance (nV)^2', 'NV_Uncert (nV)^2', 'Resistance  ($\\Omega$)'])\n",
    "df2"
   ]
  },
  {
   "cell_type": "code",
   "execution_count": 143,
   "id": "52a33673-2a4c-4b6f-a82d-09585533a218",
   "metadata": {},
   "outputs": [
    {
     "data": {
      "text/html": [
       "<div>\n",
       "<style scoped>\n",
       "    .dataframe tbody tr th:only-of-type {\n",
       "        vertical-align: middle;\n",
       "    }\n",
       "\n",
       "    .dataframe tbody tr th {\n",
       "        vertical-align: top;\n",
       "    }\n",
       "\n",
       "    .dataframe thead th {\n",
       "        text-align: right;\n",
       "    }\n",
       "</style>\n",
       "<table border=\"1\" class=\"dataframe\">\n",
       "  <thead>\n",
       "    <tr style=\"text-align: right;\">\n",
       "      <th></th>\n",
       "      <th>Noise Variance (nV)^2</th>\n",
       "      <th>NV_Uncert (nV)^2</th>\n",
       "      <th>Resistance  ($\\Omega$)</th>\n",
       "    </tr>\n",
       "  </thead>\n",
       "  <tbody>\n",
       "    <tr>\n",
       "      <th>0</th>\n",
       "      <td>6.656516e+06</td>\n",
       "      <td>4364.856674</td>\n",
       "      <td>1</td>\n",
       "    </tr>\n",
       "    <tr>\n",
       "      <th>1</th>\n",
       "      <td>6.690947e+06</td>\n",
       "      <td>4364.856674</td>\n",
       "      <td>10</td>\n",
       "    </tr>\n",
       "    <tr>\n",
       "      <th>2</th>\n",
       "      <td>6.862140e+06</td>\n",
       "      <td>4364.856674</td>\n",
       "      <td>100</td>\n",
       "    </tr>\n",
       "    <tr>\n",
       "      <th>3</th>\n",
       "      <td>8.528437e+06</td>\n",
       "      <td>9086.783276</td>\n",
       "      <td>1000</td>\n",
       "    </tr>\n",
       "    <tr>\n",
       "      <th>4</th>\n",
       "      <td>2.550319e+07</td>\n",
       "      <td>15386.576251</td>\n",
       "      <td>10000</td>\n",
       "    </tr>\n",
       "  </tbody>\n",
       "</table>\n",
       "</div>"
      ],
      "text/plain": [
       "   Noise Variance (nV)^2  NV_Uncert (nV)^2  Resistance  ($\\Omega$)\n",
       "0           6.656516e+06       4364.856674                       1\n",
       "1           6.690947e+06       4364.856674                      10\n",
       "2           6.862140e+06       4364.856674                     100\n",
       "3           8.528437e+06       9086.783276                    1000\n",
       "4           2.550319e+07      15386.576251                   10000"
      ]
     },
     "execution_count": 143,
     "metadata": {},
     "output_type": "execute_result"
    }
   ],
   "source": [
    "# Dropping higuest resistance:\n",
    "df2.drop(df2.tail(1).index,inplace=True)\n",
    "df2"
   ]
  },
  {
   "cell_type": "code",
   "execution_count": 153,
   "id": "e39c83d9-8a04-4aad-a2b1-f85d4e8f012d",
   "metadata": {},
   "outputs": [
    {
     "data": {
      "image/png": "[encoded data removed]",
      "text/plain": [
       "<Figure size 400x400 with 1 Axes>"
      ]
     },
     "metadata": {
      "needs_background": "light"
     },
     "output_type": "display_data"
    },
    {
     "name": "stdout",
     "output_type": "stream",
     "text": [
      "Corresponding p-value: 0.0006328719533776894\n",
      "Degrees of freedom: 3\n"
     ]
    },
    {
     "data": {
      "text/html": [
       "<h2> Model</h2> Model(<lambda>) <h2>Fit Statistics</h2><table><tr><td>fitting method</td><td>leastsq</td><td></td></tr><tr><td># function evals</td><td>3</td><td></td></tr><tr><td># data points</td><td>5</td><td></td></tr><tr><td># variables</td><td>2</td><td></td></tr><tr><td>chi-square</td><td> 17.2330465</td><td></td></tr><tr><td>reduced chi-square</td><td> 5.74434882</td><td></td></tr><tr><td>Akaike info crit.</td><td> 10.1869547</td><td></td></tr><tr><td>Bayesian info crit.</td><td> 9.40583049</td><td></td></tr></table><h2>Variables</h2><table><tr><th> name </th><th> value </th><th> standard error </th><th> relative error </th><th> initial value </th><th> min </th><th> max </th><th> vary </th></tr><tr><td> a </td><td>  1883.30691 </td><td>  3.72405803 </td><td> (0.20%) </td><td> 1883.306908059927 </td><td>  0.00000000 </td><td>         inf </td><td> True </td></tr><tr><td> b </td><td>  6665417.52 </td><td>  5891.88492 </td><td> (0.09%) </td><td> 6665417.523387112 </td><td>  0.00000000 </td><td>         inf </td><td> True </td></tr></table><h2>Correlations (unreported correlations are < 0.100)</h2><table><tr><td>a</td><td>b</td><td>-0.2188</td></tr></table>"
      ],
      "text/plain": [
       "<lmfit.model.ModelResult at 0x7fc9014c1ca0>"
      ]
     },
     "execution_count": 153,
     "metadata": {},
     "output_type": "execute_result"
    }
   ],
   "source": [
    "# PLOTTING OUR DATA ---------------------------------------\n",
    "xdata, ydata, error_x, error_y = df2['Resistance  ($\\Omega$)'], df2['Noise Variance (nV)^2'], 0, df2['NV_Uncert (nV)^2']\n",
    "result = FUNCTION_FIT_linear(xdata, ydata, error_x, error_y, 'blue', '$R_{in}$  ($\\Omega$)', '$<V_J^2 + V_N^2>  (nV)^2$', linear)\n",
    "result"
   ]
  },
  {
   "cell_type": "code",
   "execution_count": 154,
   "id": "2488d563-13c0-4aee-a2c9-99a64659965c",
   "metadata": {},
   "outputs": [
    {
     "data": {
      "text/plain": [
       "(6665417.523387111, 5891.884915659035)"
      ]
     },
     "execution_count": 154,
     "metadata": {},
     "output_type": "execute_result"
    }
   ],
   "source": [
    "# Finding y-intercept <V_N^2 (t)> ---------------------------------------\n",
    "y_intercept = result.params['b'].value\n",
    "y_intercept_uncert = result.params['b'].stderr\n",
    "y_intercept, y_intercept_uncert"
   ]
  },
  {
   "cell_type": "code",
   "execution_count": 155,
   "id": "cdd82150-26f7-4930-8e34-546b81b30c4b",
   "metadata": {},
   "outputs": [
    {
     "data": {
      "text/html": [
       "<div>\n",
       "<style scoped>\n",
       "    .dataframe tbody tr th:only-of-type {\n",
       "        vertical-align: middle;\n",
       "    }\n",
       "\n",
       "    .dataframe tbody tr th {\n",
       "        vertical-align: top;\n",
       "    }\n",
       "\n",
       "    .dataframe thead th {\n",
       "        text-align: right;\n",
       "    }\n",
       "</style>\n",
       "<table border=\"1\" class=\"dataframe\">\n",
       "  <thead>\n",
       "    <tr style=\"text-align: right;\">\n",
       "      <th></th>\n",
       "      <th>Noise Variance (nV)^2</th>\n",
       "      <th>NV_Uncert (nV)^2</th>\n",
       "      <th>Resistance  ($\\Omega$)</th>\n",
       "      <th>Johnson Noise (nV)^2</th>\n",
       "      <th>Uncert Johnson Noise (nV)^2</th>\n",
       "    </tr>\n",
       "  </thead>\n",
       "  <tbody>\n",
       "    <tr>\n",
       "      <th>0</th>\n",
       "      <td>6.656516e+06</td>\n",
       "      <td>4364.856674</td>\n",
       "      <td>1</td>\n",
       "      <td>-8.901748e+03</td>\n",
       "      <td>7332.549464</td>\n",
       "    </tr>\n",
       "    <tr>\n",
       "      <th>1</th>\n",
       "      <td>6.690947e+06</td>\n",
       "      <td>4364.856674</td>\n",
       "      <td>10</td>\n",
       "      <td>2.552898e+04</td>\n",
       "      <td>7332.549464</td>\n",
       "    </tr>\n",
       "    <tr>\n",
       "      <th>2</th>\n",
       "      <td>6.862140e+06</td>\n",
       "      <td>4364.856674</td>\n",
       "      <td>100</td>\n",
       "      <td>1.967224e+05</td>\n",
       "      <td>7332.549464</td>\n",
       "    </tr>\n",
       "    <tr>\n",
       "      <th>3</th>\n",
       "      <td>8.528437e+06</td>\n",
       "      <td>9086.783276</td>\n",
       "      <td>1000</td>\n",
       "      <td>1.863019e+06</td>\n",
       "      <td>10829.770919</td>\n",
       "    </tr>\n",
       "    <tr>\n",
       "      <th>4</th>\n",
       "      <td>2.550319e+07</td>\n",
       "      <td>15386.576251</td>\n",
       "      <td>10000</td>\n",
       "      <td>1.883777e+07</td>\n",
       "      <td>16476.074672</td>\n",
       "    </tr>\n",
       "  </tbody>\n",
       "</table>\n",
       "</div>"
      ],
      "text/plain": [
       "   Noise Variance (nV)^2  NV_Uncert (nV)^2  Resistance  ($\\Omega$)  \\\n",
       "0           6.656516e+06       4364.856674                       1   \n",
       "1           6.690947e+06       4364.856674                      10   \n",
       "2           6.862140e+06       4364.856674                     100   \n",
       "3           8.528437e+06       9086.783276                    1000   \n",
       "4           2.550319e+07      15386.576251                   10000   \n",
       "\n",
       "   Johnson Noise (nV)^2  Uncert Johnson Noise (nV)^2  \n",
       "0         -8.901748e+03                  7332.549464  \n",
       "1          2.552898e+04                  7332.549464  \n",
       "2          1.967224e+05                  7332.549464  \n",
       "3          1.863019e+06                 10829.770919  \n",
       "4          1.883777e+07                 16476.074672  "
      ]
     },
     "execution_count": 155,
     "metadata": {},
     "output_type": "execute_result"
    }
   ],
   "source": [
    "# Calculating Johnson Noise\n",
    "df2['Johnson Noise (nV)^2'] = df2['Noise Variance (nV)^2'] - y_intercept\n",
    "df2['Uncert Johnson Noise (nV)^2'] = np.sqrt(df2['NV_Uncert (nV)^2']**2 + y_intercept_uncert**2)\n",
    "df2"
   ]
  },
  {
   "cell_type": "code",
   "execution_count": 156,
   "id": "f5069a68-9898-4d07-ab95-c2c53252a209",
   "metadata": {},
   "outputs": [
    {
     "data": {
      "image/png": "[encoded data removed]",
      "text/plain": [
       "<Figure size 400x400 with 1 Axes>"
      ]
     },
     "metadata": {
      "needs_background": "light"
     },
     "output_type": "display_data"
    },
    {
     "name": "stdout",
     "output_type": "stream",
     "text": [
      "Corresponding p-value: 0.04818618183909196\n",
      "Degrees of freedom: 3\n"
     ]
    },
    {
     "data": {
      "text/html": [
       "<h2> Model</h2> Model(<lambda>) <h2>Fit Statistics</h2><table><tr><td>fitting method</td><td>leastsq</td><td></td></tr><tr><td># function evals</td><td>6</td><td></td></tr><tr><td># data points</td><td>5</td><td></td></tr><tr><td># variables</td><td>2</td><td></td></tr><tr><td>chi-square</td><td> 7.89713339</td><td></td></tr><tr><td>reduced chi-square</td><td> 2.63237780</td><td></td></tr><tr><td>Akaike info crit.</td><td> 6.28530960</td><td></td></tr><tr><td>Bayesian info crit.</td><td> 5.50418542</td><td></td></tr></table><h2>Variables</h2><table><tr><th> name </th><th> value </th><th> initial value </th><th> min </th><th> max </th><th> vary </th></tr><tr><td> a </td><td>  1883.35191 </td><td> 1883.5095586305615 </td><td>  0.00000000 </td><td>         inf </td><td> True </td></tr><tr><td> b </td><td>  0.00000000 </td><td> 0 </td><td>  0.00000000 </td><td>         inf </td><td> True </td></tr></table>"
      ],
      "text/plain": [
       "<lmfit.model.ModelResult at 0x7fc8f11ea8e0>"
      ]
     },
     "execution_count": 156,
     "metadata": {},
     "output_type": "execute_result"
    }
   ],
   "source": [
    "#### PLOTTING OUR DATA ---------------------------------------\n",
    "xdata, ydata, error_x, error_y = df2['Resistance  ($\\Omega$)'], df2['Johnson Noise (nV)^2'], 0, df2['Uncert Johnson Noise (nV)^2']\n",
    "result = FUNCTION_FIT_linear(xdata, ydata, error_x, error_y, 'blue', '$R_{in}$  ($\\Omega$)', '$<V_J^2>  (nV)^2$', linear)\n",
    "result"
   ]
  },
  {
   "cell_type": "code",
   "execution_count": 157,
   "id": "4ba86b85-d1f4-4654-8649-8ff1a43526b6",
   "metadata": {},
   "outputs": [
    {
     "name": "stdout",
     "output_type": "stream",
     "text": [
      "1.883351914466653e-15 2.358325708263135e-17\n",
      "1.6003710964501452e-23 8.015913054865198e-25\n"
     ]
    }
   ],
   "source": [
    "# Finding the Boltzmann constant\n",
    "from scipy.constants import k\n",
    "\n",
    "boltzmann = lambda params : params[0]/(params[1]*params[2]) # slope, T, ENBW\n",
    "\n",
    "T, ENBW = 294.5, 99.9e3\n",
    "slope = result.params['a'].value*1e-18\n",
    "#slope_error = result.params['a'].stderr*1e-18\n",
    "kb = slope/(4*T*ENBW)\n",
    "kb_uncert = uncertainty_var([slope, T, ENBW], [slope_error, 0, 0], boltzmann)\n",
    "\n",
    "print(slope, slope_error)\n",
    "print(kb, kb_uncert)"
   ]
  },
  {
   "cell_type": "code",
   "execution_count": 158,
   "id": "3f6fe96d-cb57-48ee-bf8d-df833a9feb03",
   "metadata": {},
   "outputs": [
    {
     "name": "stdout",
     "output_type": "stream",
     "text": [
      "Percentage error:  15.914406663108805 %\n",
      "Experimental precision: 1996.4925835601623 %\n",
      "Sigmas: 0.00797118245975655\n"
     ]
    }
   ],
   "source": [
    "# DETERMING THE %ERROR\n",
    "error = abs((kb-k)/k)*100\n",
    "print(\"Percentage error: \", error, \"%\")\n",
    "exp_precision = 100*kb/kb_uncert\n",
    "print('Experimental precision:', exp_precision, '%')\n",
    "print('Sigmas:', error/exp_precision)"
   ]
  },
  {
   "cell_type": "markdown",
   "id": "6774e083-7a7e-40fe-922d-3b1edf1403b0",
   "metadata": {},
   "source": [
    "---\n",
    "### Third try: dropping the first two low resistance datapoints\n",
    "---"
   ]
  },
  {
   "cell_type": "code",
   "execution_count": 167,
   "id": "06a47387-b1fc-4dff-9d6f-fcc8f60ab534",
   "metadata": {},
   "outputs": [
    {
     "data": {
      "text/html": [
       "<div>\n",
       "<style scoped>\n",
       "    .dataframe tbody tr th:only-of-type {\n",
       "        vertical-align: middle;\n",
       "    }\n",
       "\n",
       "    .dataframe tbody tr th {\n",
       "        vertical-align: top;\n",
       "    }\n",
       "\n",
       "    .dataframe thead th {\n",
       "        text-align: right;\n",
       "    }\n",
       "</style>\n",
       "<table border=\"1\" class=\"dataframe\">\n",
       "  <thead>\n",
       "    <tr style=\"text-align: right;\">\n",
       "      <th></th>\n",
       "      <th>Noise Variance (nV)^2</th>\n",
       "      <th>NV_Uncert (nV)^2</th>\n",
       "      <th>Resistance  ($\\Omega$)</th>\n",
       "    </tr>\n",
       "  </thead>\n",
       "  <tbody>\n",
       "    <tr>\n",
       "      <th>0</th>\n",
       "      <td>6.656516e+06</td>\n",
       "      <td>4364.856674</td>\n",
       "      <td>1</td>\n",
       "    </tr>\n",
       "    <tr>\n",
       "      <th>1</th>\n",
       "      <td>6.690947e+06</td>\n",
       "      <td>4364.856674</td>\n",
       "      <td>10</td>\n",
       "    </tr>\n",
       "    <tr>\n",
       "      <th>2</th>\n",
       "      <td>6.862140e+06</td>\n",
       "      <td>4364.856674</td>\n",
       "      <td>100</td>\n",
       "    </tr>\n",
       "    <tr>\n",
       "      <th>3</th>\n",
       "      <td>8.528437e+06</td>\n",
       "      <td>9086.783276</td>\n",
       "      <td>1000</td>\n",
       "    </tr>\n",
       "    <tr>\n",
       "      <th>4</th>\n",
       "      <td>2.550319e+07</td>\n",
       "      <td>15386.576251</td>\n",
       "      <td>10000</td>\n",
       "    </tr>\n",
       "    <tr>\n",
       "      <th>5</th>\n",
       "      <td>1.521523e+08</td>\n",
       "      <td>135340.426982</td>\n",
       "      <td>100000</td>\n",
       "    </tr>\n",
       "  </tbody>\n",
       "</table>\n",
       "</div>"
      ],
      "text/plain": [
       "   Noise Variance (nV)^2  NV_Uncert (nV)^2  Resistance  ($\\Omega$)\n",
       "0           6.656516e+06       4364.856674                       1\n",
       "1           6.690947e+06       4364.856674                      10\n",
       "2           6.862140e+06       4364.856674                     100\n",
       "3           8.528437e+06       9086.783276                    1000\n",
       "4           2.550319e+07      15386.576251                   10000\n",
       "5           1.521523e+08     135340.426982                  100000"
      ]
     },
     "execution_count": 167,
     "metadata": {},
     "output_type": "execute_result"
    }
   ],
   "source": [
    "# GROUPING BY RESISTANCE ---------------------------------------\n",
    "# Taking the average using weighted averages\n",
    "resistances = [1,10,100,1000,10000,100000]\n",
    "data_final = []\n",
    "for resistance in resistances:\n",
    "    df_temporal = df[df['Resistance  ($\\Omega$)']==resistance]\n",
    "    avg = weighted_avgs(df_temporal['Noise Variance (nV)^2'], df_temporal['NV_Uncert (nV)^2'])\n",
    "    data_final.append([avg[0], avg[1], resistance])\n",
    "df2 = pd.DataFrame(data_final, columns=['Noise Variance (nV)^2', 'NV_Uncert (nV)^2', 'Resistance  ($\\Omega$)'])\n",
    "df2"
   ]
  },
  {
   "cell_type": "code",
   "execution_count": 168,
   "id": "1e4a2926-8be2-46f1-b4bb-1bc90218f858",
   "metadata": {},
   "outputs": [
    {
     "data": {
      "text/html": [
       "<div>\n",
       "<style scoped>\n",
       "    .dataframe tbody tr th:only-of-type {\n",
       "        vertical-align: middle;\n",
       "    }\n",
       "\n",
       "    .dataframe tbody tr th {\n",
       "        vertical-align: top;\n",
       "    }\n",
       "\n",
       "    .dataframe thead th {\n",
       "        text-align: right;\n",
       "    }\n",
       "</style>\n",
       "<table border=\"1\" class=\"dataframe\">\n",
       "  <thead>\n",
       "    <tr style=\"text-align: right;\">\n",
       "      <th></th>\n",
       "      <th>Noise Variance (nV)^2</th>\n",
       "      <th>NV_Uncert (nV)^2</th>\n",
       "      <th>Resistance  ($\\Omega$)</th>\n",
       "    </tr>\n",
       "  </thead>\n",
       "  <tbody>\n",
       "    <tr>\n",
       "      <th>2</th>\n",
       "      <td>6.862140e+06</td>\n",
       "      <td>4364.856674</td>\n",
       "      <td>100</td>\n",
       "    </tr>\n",
       "    <tr>\n",
       "      <th>3</th>\n",
       "      <td>8.528437e+06</td>\n",
       "      <td>9086.783276</td>\n",
       "      <td>1000</td>\n",
       "    </tr>\n",
       "    <tr>\n",
       "      <th>4</th>\n",
       "      <td>2.550319e+07</td>\n",
       "      <td>15386.576251</td>\n",
       "      <td>10000</td>\n",
       "    </tr>\n",
       "    <tr>\n",
       "      <th>5</th>\n",
       "      <td>1.521523e+08</td>\n",
       "      <td>135340.426982</td>\n",
       "      <td>100000</td>\n",
       "    </tr>\n",
       "  </tbody>\n",
       "</table>\n",
       "</div>"
      ],
      "text/plain": [
       "   Noise Variance (nV)^2  NV_Uncert (nV)^2  Resistance  ($\\Omega$)\n",
       "2           6.862140e+06       4364.856674                     100\n",
       "3           8.528437e+06       9086.783276                    1000\n",
       "4           2.550319e+07      15386.576251                   10000\n",
       "5           1.521523e+08     135340.426982                  100000"
      ]
     },
     "execution_count": 168,
     "metadata": {},
     "output_type": "execute_result"
    }
   ],
   "source": [
    "# Dropping 2 lowest resistances:\n",
    "df2.drop(df2.head(2).index,inplace=True)\n",
    "df2"
   ]
  },
  {
   "cell_type": "code",
   "execution_count": 169,
   "id": "a91039b6-ab97-4d84-9ac0-7a264fa912e6",
   "metadata": {},
   "outputs": [
    {
     "data": {
      "image/png": "[encoded data removed]",
      "text/plain": [
       "<Figure size 400x400 with 1 Axes>"
      ]
     },
     "metadata": {
      "needs_background": "light"
     },
     "output_type": "display_data"
    },
    {
     "name": "stdout",
     "output_type": "stream",
     "text": [
      "Corresponding p-value: 0.0\n",
      "Degrees of freedom: 2\n"
     ]
    },
    {
     "data": {
      "text/html": [
       "<h2> Model</h2> Model(<lambda>) <h2>Fit Statistics</h2><table><tr><td>fitting method</td><td>leastsq</td><td></td></tr><tr><td># function evals</td><td>3</td><td></td></tr><tr><td># data points</td><td>4</td><td></td></tr><tr><td># variables</td><td>2</td><td></td></tr><tr><td>chi-square</td><td> 41671.9749</td><td></td></tr><tr><td>reduced chi-square</td><td> 20835.9874</td><td></td></tr><tr><td>Akaike info crit.</td><td> 41.0051590</td><td></td></tr><tr><td>Bayesian info crit.</td><td> 39.7777477</td><td></td></tr></table><h2>Variables</h2><table><tr><th> name </th><th> value </th><th> standard error </th><th> relative error </th><th> initial value </th><th> min </th><th> max </th><th> vary </th></tr><tr><td> a </td><td>  1631.11180 </td><td>  150.531415 </td><td> (9.23%) </td><td> 1631.1118023321628 </td><td>  0.00000000 </td><td>         inf </td><td> True </td></tr><tr><td> b </td><td>  6872786.13 </td><td>  568088.360 </td><td> (8.27%) </td><td> 6872786.129159695 </td><td>  0.00000000 </td><td>         inf </td><td> True </td></tr></table><h2>Correlations (unreported correlations are < 0.100)</h2><table><tr><td>a</td><td>b</td><td>-0.2503</td></tr></table>"
      ],
      "text/plain": [
       "<lmfit.model.ModelResult at 0x7fc9123487c0>"
      ]
     },
     "execution_count": 169,
     "metadata": {},
     "output_type": "execute_result"
    }
   ],
   "source": [
    "# PLOTTING OUR DATA ---------------------------------------\n",
    "xdata, ydata, error_x, error_y = df2['Resistance  ($\\Omega$)'], df2['Noise Variance (nV)^2'], 0, df2['NV_Uncert (nV)^2']\n",
    "result = FUNCTION_FIT_linear(xdata, ydata, error_x, error_y, 'blue', '$R_{in}$  ($\\Omega$)', '$<V_J^2 + V_N^2>  (nV)^2$', linear)\n",
    "result"
   ]
  },
  {
   "cell_type": "code",
   "execution_count": 170,
   "id": "470a8838-0b04-4a6a-aafd-c7cff283fa5c",
   "metadata": {},
   "outputs": [
    {
     "data": {
      "text/plain": [
       "(6872786.129159695, 568088.3602610474)"
      ]
     },
     "execution_count": 170,
     "metadata": {},
     "output_type": "execute_result"
    }
   ],
   "source": [
    "# Finding y-intercept <V_N^2 (t)> ---------------------------------------\n",
    "y_intercept = result.params['b'].value\n",
    "y_intercept_uncert = result.params['b'].stderr\n",
    "y_intercept, y_intercept_uncert"
   ]
  },
  {
   "cell_type": "code",
   "execution_count": 171,
   "id": "962599d4-b5aa-4ba0-92ce-10084cb415d9",
   "metadata": {},
   "outputs": [
    {
     "data": {
      "text/html": [
       "<div>\n",
       "<style scoped>\n",
       "    .dataframe tbody tr th:only-of-type {\n",
       "        vertical-align: middle;\n",
       "    }\n",
       "\n",
       "    .dataframe tbody tr th {\n",
       "        vertical-align: top;\n",
       "    }\n",
       "\n",
       "    .dataframe thead th {\n",
       "        text-align: right;\n",
       "    }\n",
       "</style>\n",
       "<table border=\"1\" class=\"dataframe\">\n",
       "  <thead>\n",
       "    <tr style=\"text-align: right;\">\n",
       "      <th></th>\n",
       "      <th>Noise Variance (nV)^2</th>\n",
       "      <th>NV_Uncert (nV)^2</th>\n",
       "      <th>Resistance  ($\\Omega$)</th>\n",
       "      <th>Johnson Noise (nV)^2</th>\n",
       "      <th>Uncert Johnson Noise (nV)^2</th>\n",
       "    </tr>\n",
       "  </thead>\n",
       "  <tbody>\n",
       "    <tr>\n",
       "      <th>2</th>\n",
       "      <td>6.862140e+06</td>\n",
       "      <td>4364.856674</td>\n",
       "      <td>100</td>\n",
       "      <td>-1.064621e+04</td>\n",
       "      <td>568105.128509</td>\n",
       "    </tr>\n",
       "    <tr>\n",
       "      <th>3</th>\n",
       "      <td>8.528437e+06</td>\n",
       "      <td>9086.783276</td>\n",
       "      <td>1000</td>\n",
       "      <td>1.655651e+06</td>\n",
       "      <td>568161.028842</td>\n",
       "    </tr>\n",
       "    <tr>\n",
       "      <th>4</th>\n",
       "      <td>2.550319e+07</td>\n",
       "      <td>15386.576251</td>\n",
       "      <td>10000</td>\n",
       "      <td>1.863040e+07</td>\n",
       "      <td>568296.693456</td>\n",
       "    </tr>\n",
       "    <tr>\n",
       "      <th>5</th>\n",
       "      <td>1.521523e+08</td>\n",
       "      <td>135340.426982</td>\n",
       "      <td>100000</td>\n",
       "      <td>1.452795e+08</td>\n",
       "      <td>583987.513770</td>\n",
       "    </tr>\n",
       "  </tbody>\n",
       "</table>\n",
       "</div>"
      ],
      "text/plain": [
       "   Noise Variance (nV)^2  NV_Uncert (nV)^2  Resistance  ($\\Omega$)  \\\n",
       "2           6.862140e+06       4364.856674                     100   \n",
       "3           8.528437e+06       9086.783276                    1000   \n",
       "4           2.550319e+07      15386.576251                   10000   \n",
       "5           1.521523e+08     135340.426982                  100000   \n",
       "\n",
       "   Johnson Noise (nV)^2  Uncert Johnson Noise (nV)^2  \n",
       "2         -1.064621e+04                568105.128509  \n",
       "3          1.655651e+06                568161.028842  \n",
       "4          1.863040e+07                568296.693456  \n",
       "5          1.452795e+08                583987.513770  "
      ]
     },
     "execution_count": 171,
     "metadata": {},
     "output_type": "execute_result"
    }
   ],
   "source": [
    "# Calculating Johnson Noise\n",
    "df2['Johnson Noise (nV)^2'] = df2['Noise Variance (nV)^2'] - y_intercept\n",
    "df2['Uncert Johnson Noise (nV)^2'] = np.sqrt(df2['NV_Uncert (nV)^2']**2 + y_intercept_uncert**2)\n",
    "df2"
   ]
  },
  {
   "cell_type": "code",
   "execution_count": 172,
   "id": "1e2ea909-d4ad-4ec8-9cb4-727b66540372",
   "metadata": {},
   "outputs": [
    {
     "data": {
      "image/png": "[encoded data removed]",
      "text/plain": [
       "<Figure size 400x400 with 1 Axes>"
      ]
     },
     "metadata": {
      "needs_background": "light"
     },
     "output_type": "display_data"
    },
    {
     "name": "stdout",
     "output_type": "stream",
     "text": [
      "Corresponding p-value: 1.150631301349847e-08\n",
      "Degrees of freedom: 2\n"
     ]
    },
    {
     "data": {
      "text/html": [
       "<h2> Model</h2> Model(<lambda>) <h2>Fit Statistics</h2><table><tr><td>fitting method</td><td>leastsq</td><td></td></tr><tr><td># function evals</td><td>3</td><td></td></tr><tr><td># data points</td><td>4</td><td></td></tr><tr><td># variables</td><td>2</td><td></td></tr><tr><td>chi-square</td><td> 36.5607400</td><td></td></tr><tr><td>reduced chi-square</td><td> 18.2803700</td><td></td></tr><tr><td>Akaike info crit.</td><td> 12.8507225</td><td></td></tr><tr><td>Bayesian info crit.</td><td> 11.6233112</td><td></td></tr></table><h2>Variables</h2><table><tr><th> name </th><th> value </th><th> standard error </th><th> relative error </th><th> initial value </th><th> min </th><th> max </th><th> vary </th></tr><tr><td> a </td><td>  1442.40607 </td><td>  29.6056752 </td><td> (2.05%) </td><td> 1442.4060702810407 </td><td>  0.00000000 </td><td>         inf </td><td> True </td></tr><tr><td> b </td><td>  1329374.19 </td><td>  1457653.53 </td><td> (109.65%) </td><td> 1329374.1887734951 </td><td>  0.00000000 </td><td>         inf </td><td> True </td></tr></table><h2>Correlations (unreported correlations are < 0.100)</h2><table><tr><td>a</td><td>b</td><td>-0.5443</td></tr></table>"
      ],
      "text/plain": [
       "<lmfit.model.ModelResult at 0x7fc912360070>"
      ]
     },
     "execution_count": 172,
     "metadata": {},
     "output_type": "execute_result"
    }
   ],
   "source": [
    "#### PLOTTING OUR DATA ---------------------------------------\n",
    "xdata, ydata, error_x, error_y = df2['Resistance  ($\\Omega$)'], df2['Johnson Noise (nV)^2'], 0, df2['Uncert Johnson Noise (nV)^2']\n",
    "result = FUNCTION_FIT_linear(xdata, ydata, error_x, error_y, 'blue', '$R_{in}$  ($\\Omega$)', '$<V_J^2>  (nV)^2$', linear)\n",
    "result"
   ]
  },
  {
   "cell_type": "code",
   "execution_count": 175,
   "id": "ffdd0f14-c793-46bb-93fb-2d0ad8411acc",
   "metadata": {},
   "outputs": [
    {
     "name": "stdout",
     "output_type": "stream",
     "text": [
      "1.4424060702810408e-15 2.960567523443679e-17\n",
      "1.2256790494068268e-23 1.0062923784374111e-24\n"
     ]
    }
   ],
   "source": [
    "# Finding the Boltzmann constant\n",
    "from scipy.constants import k\n",
    "\n",
    "boltzmann = lambda params : params[0]/(params[1]*params[2]) # slope, T, ENBW\n",
    "\n",
    "T, ENBW = 294.5, 99.9e3\n",
    "slope = result.params['a'].value*1e-18\n",
    "slope_error = result.params['a'].stderr*1e-18\n",
    "kb = slope/(4*T*ENBW)\n",
    "kb_uncert = uncertainty_var([slope, T, ENBW], [slope_error, 0, 0], boltzmann)\n",
    "\n",
    "print(slope, slope_error)\n",
    "print(kb, kb_uncert)"
   ]
  },
  {
   "cell_type": "code",
   "execution_count": 176,
   "id": "d29dd2b0-6f77-433c-b007-d5faa6a7dff8",
   "metadata": {},
   "outputs": [
    {
     "name": "stdout",
     "output_type": "stream",
     "text": [
      "Percentage error:  11.224427830185173 %\n",
      "Experimental precision: 1218.014839096847 %\n",
      "Sigmas: 0.00921534571656618\n"
     ]
    }
   ],
   "source": [
    "# DETERMING THE %ERROR\n",
    "error = abs((kb-k)/k)*100\n",
    "print(\"Percentage error: \", error, \"%\")\n",
    "exp_precision = 100*kb/kb_uncert\n",
    "print('Experimental precision:', exp_precision, '%')\n",
    "print('Sigmas:', error/exp_precision)"
   ]
  },
  {
   "cell_type": "markdown",
   "id": "e2ccdedc-f819-43a0-8e35-c8b4055d8f74",
   "metadata": {},
   "source": [
    "---\n",
    "### Fourth try: dropping the first three low resistance datapoints\n",
    "---"
   ]
  },
  {
   "cell_type": "code",
   "execution_count": 186,
   "id": "cc9f1689-3438-4052-b576-82e619833805",
   "metadata": {},
   "outputs": [
    {
     "data": {
      "text/html": [
       "<div>\n",
       "<style scoped>\n",
       "    .dataframe tbody tr th:only-of-type {\n",
       "        vertical-align: middle;\n",
       "    }\n",
       "\n",
       "    .dataframe tbody tr th {\n",
       "        vertical-align: top;\n",
       "    }\n",
       "\n",
       "    .dataframe thead th {\n",
       "        text-align: right;\n",
       "    }\n",
       "</style>\n",
       "<table border=\"1\" class=\"dataframe\">\n",
       "  <thead>\n",
       "    <tr style=\"text-align: right;\">\n",
       "      <th></th>\n",
       "      <th>Noise Variance (nV)^2</th>\n",
       "      <th>NV_Uncert (nV)^2</th>\n",
       "      <th>Resistance  ($\\Omega$)</th>\n",
       "    </tr>\n",
       "  </thead>\n",
       "  <tbody>\n",
       "    <tr>\n",
       "      <th>0</th>\n",
       "      <td>6.656516e+06</td>\n",
       "      <td>4364.856674</td>\n",
       "      <td>1</td>\n",
       "    </tr>\n",
       "    <tr>\n",
       "      <th>1</th>\n",
       "      <td>6.690947e+06</td>\n",
       "      <td>4364.856674</td>\n",
       "      <td>10</td>\n",
       "    </tr>\n",
       "    <tr>\n",
       "      <th>2</th>\n",
       "      <td>6.862140e+06</td>\n",
       "      <td>4364.856674</td>\n",
       "      <td>100</td>\n",
       "    </tr>\n",
       "    <tr>\n",
       "      <th>3</th>\n",
       "      <td>8.528437e+06</td>\n",
       "      <td>9086.783276</td>\n",
       "      <td>1000</td>\n",
       "    </tr>\n",
       "    <tr>\n",
       "      <th>4</th>\n",
       "      <td>2.550319e+07</td>\n",
       "      <td>15386.576251</td>\n",
       "      <td>10000</td>\n",
       "    </tr>\n",
       "    <tr>\n",
       "      <th>5</th>\n",
       "      <td>1.521523e+08</td>\n",
       "      <td>135340.426982</td>\n",
       "      <td>100000</td>\n",
       "    </tr>\n",
       "  </tbody>\n",
       "</table>\n",
       "</div>"
      ],
      "text/plain": [
       "   Noise Variance (nV)^2  NV_Uncert (nV)^2  Resistance  ($\\Omega$)\n",
       "0           6.656516e+06       4364.856674                       1\n",
       "1           6.690947e+06       4364.856674                      10\n",
       "2           6.862140e+06       4364.856674                     100\n",
       "3           8.528437e+06       9086.783276                    1000\n",
       "4           2.550319e+07      15386.576251                   10000\n",
       "5           1.521523e+08     135340.426982                  100000"
      ]
     },
     "execution_count": 186,
     "metadata": {},
     "output_type": "execute_result"
    }
   ],
   "source": [
    "# GROUPING BY RESISTANCE ---------------------------------------\n",
    "# Taking the average using weighted averages\n",
    "resistances = [1,10,100,1000,10000,100000]\n",
    "data_final = []\n",
    "for resistance in resistances:\n",
    "    df_temporal = df[df['Resistance  ($\\Omega$)']==resistance]\n",
    "    avg = weighted_avgs(df_temporal['Noise Variance (nV)^2'], df_temporal['NV_Uncert (nV)^2'])\n",
    "    data_final.append([avg[0], avg[1], resistance])\n",
    "df2 = pd.DataFrame(data_final, columns=['Noise Variance (nV)^2', 'NV_Uncert (nV)^2', 'Resistance  ($\\Omega$)'])\n",
    "df2"
   ]
  },
  {
   "cell_type": "code",
   "execution_count": 187,
   "id": "a78c6579-6704-476c-9865-4ce7344dc941",
   "metadata": {},
   "outputs": [
    {
     "data": {
      "text/html": [
       "<div>\n",
       "<style scoped>\n",
       "    .dataframe tbody tr th:only-of-type {\n",
       "        vertical-align: middle;\n",
       "    }\n",
       "\n",
       "    .dataframe tbody tr th {\n",
       "        vertical-align: top;\n",
       "    }\n",
       "\n",
       "    .dataframe thead th {\n",
       "        text-align: right;\n",
       "    }\n",
       "</style>\n",
       "<table border=\"1\" class=\"dataframe\">\n",
       "  <thead>\n",
       "    <tr style=\"text-align: right;\">\n",
       "      <th></th>\n",
       "      <th>Noise Variance (nV)^2</th>\n",
       "      <th>NV_Uncert (nV)^2</th>\n",
       "      <th>Resistance  ($\\Omega$)</th>\n",
       "    </tr>\n",
       "  </thead>\n",
       "  <tbody>\n",
       "    <tr>\n",
       "      <th>3</th>\n",
       "      <td>8.528437e+06</td>\n",
       "      <td>9086.783276</td>\n",
       "      <td>1000</td>\n",
       "    </tr>\n",
       "    <tr>\n",
       "      <th>4</th>\n",
       "      <td>2.550319e+07</td>\n",
       "      <td>15386.576251</td>\n",
       "      <td>10000</td>\n",
       "    </tr>\n",
       "    <tr>\n",
       "      <th>5</th>\n",
       "      <td>1.521523e+08</td>\n",
       "      <td>135340.426982</td>\n",
       "      <td>100000</td>\n",
       "    </tr>\n",
       "  </tbody>\n",
       "</table>\n",
       "</div>"
      ],
      "text/plain": [
       "   Noise Variance (nV)^2  NV_Uncert (nV)^2  Resistance  ($\\Omega$)\n",
       "3           8.528437e+06       9086.783276                    1000\n",
       "4           2.550319e+07      15386.576251                   10000\n",
       "5           1.521523e+08     135340.426982                  100000"
      ]
     },
     "execution_count": 187,
     "metadata": {},
     "output_type": "execute_result"
    }
   ],
   "source": [
    "# Dropping 2 lowest resistances:\n",
    "df2.drop(df2.head(3).index,inplace=True)\n",
    "df2"
   ]
  },
  {
   "cell_type": "code",
   "execution_count": 188,
   "id": "2dac3259-6f99-4eec-9219-5d4fb8e9b7ae",
   "metadata": {},
   "outputs": [
    {
     "data": {
      "image/png": "[encoded data removed]",
      "text/plain": [
       "<Figure size 400x400 with 1 Axes>"
      ]
     },
     "metadata": {
      "needs_background": "light"
     },
     "output_type": "display_data"
    },
    {
     "name": "stdout",
     "output_type": "stream",
     "text": [
      "Corresponding p-value: 0.0\n",
      "Degrees of freedom: 1\n"
     ]
    },
    {
     "data": {
      "text/html": [
       "<h2> Model</h2> Model(<lambda>) <h2>Fit Statistics</h2><table><tr><td>fitting method</td><td>leastsq</td><td></td></tr><tr><td># function evals</td><td>3</td><td></td></tr><tr><td># data points</td><td>3</td><td></td></tr><tr><td># variables</td><td>2</td><td></td></tr><tr><td>chi-square</td><td> 33637.4699</td><td></td></tr><tr><td>reduced chi-square</td><td> 33637.4699</td><td></td></tr><tr><td>Akaike info crit.</td><td> 31.9743508</td><td></td></tr><tr><td>Bayesian info crit.</td><td> 30.1715754</td><td></td></tr></table><h2>Variables</h2><table><tr><th> name </th><th> value </th><th> standard error </th><th> relative error </th><th> initial value </th><th> min </th><th> max </th><th> vary </th></tr><tr><td> a </td><td>  1588.64176 </td><td>  210.078806 </td><td> (13.22%) </td><td> 1588.6417618609553 </td><td>  0.00000000 </td><td>         inf </td><td> True </td></tr><tr><td> b </td><td>  7584234.95 </td><td>  1624839.73 </td><td> (21.42%) </td><td> 7584234.947494586 </td><td>  0.00000000 </td><td>         inf </td><td> True </td></tr></table><h2>Correlations (unreported correlations are < 0.100)</h2><table><tr><td>a</td><td>b</td><td>-0.4718</td></tr></table>"
      ],
      "text/plain": [
       "<lmfit.model.ModelResult at 0x7fc901294af0>"
      ]
     },
     "execution_count": 188,
     "metadata": {},
     "output_type": "execute_result"
    }
   ],
   "source": [
    "# PLOTTING OUR DATA ---------------------------------------\n",
    "xdata, ydata, error_x, error_y = df2['Resistance  ($\\Omega$)'], df2['Noise Variance (nV)^2'], 0, df2['NV_Uncert (nV)^2']\n",
    "result = FUNCTION_FIT_linear(xdata, ydata, error_x, error_y, 'blue', '$R_{in}$  ($\\Omega$)', '$<V_J^2 + V_N^2>  (nV)^2$', linear)\n",
    "result"
   ]
  },
  {
   "cell_type": "code",
   "execution_count": 189,
   "id": "4cbcaa26-5ffc-433e-9fc5-deb621659013",
   "metadata": {},
   "outputs": [
    {
     "data": {
      "text/plain": [
       "(7584234.947494586, 1624839.7282558638)"
      ]
     },
     "execution_count": 189,
     "metadata": {},
     "output_type": "execute_result"
    }
   ],
   "source": [
    "# Finding y-intercept <V_N^2 (t)> ---------------------------------------\n",
    "y_intercept = result.params['b'].value\n",
    "y_intercept_uncert = result.params['b'].stderr\n",
    "y_intercept, y_intercept_uncert"
   ]
  },
  {
   "cell_type": "code",
   "execution_count": 190,
   "id": "99804965-fc91-4911-8232-e2a63e95e8c7",
   "metadata": {},
   "outputs": [
    {
     "data": {
      "text/html": [
       "<div>\n",
       "<style scoped>\n",
       "    .dataframe tbody tr th:only-of-type {\n",
       "        vertical-align: middle;\n",
       "    }\n",
       "\n",
       "    .dataframe tbody tr th {\n",
       "        vertical-align: top;\n",
       "    }\n",
       "\n",
       "    .dataframe thead th {\n",
       "        text-align: right;\n",
       "    }\n",
       "</style>\n",
       "<table border=\"1\" class=\"dataframe\">\n",
       "  <thead>\n",
       "    <tr style=\"text-align: right;\">\n",
       "      <th></th>\n",
       "      <th>Noise Variance (nV)^2</th>\n",
       "      <th>NV_Uncert (nV)^2</th>\n",
       "      <th>Resistance  ($\\Omega$)</th>\n",
       "      <th>Johnson Noise (nV)^2</th>\n",
       "      <th>Uncert Johnson Noise (nV)^2</th>\n",
       "    </tr>\n",
       "  </thead>\n",
       "  <tbody>\n",
       "    <tr>\n",
       "      <th>3</th>\n",
       "      <td>8.528437e+06</td>\n",
       "      <td>9086.783276</td>\n",
       "      <td>1000</td>\n",
       "      <td>9.442018e+05</td>\n",
       "      <td>1.624865e+06</td>\n",
       "    </tr>\n",
       "    <tr>\n",
       "      <th>4</th>\n",
       "      <td>2.550319e+07</td>\n",
       "      <td>15386.576251</td>\n",
       "      <td>10000</td>\n",
       "      <td>1.791896e+07</td>\n",
       "      <td>1.624913e+06</td>\n",
       "    </tr>\n",
       "    <tr>\n",
       "      <th>5</th>\n",
       "      <td>1.521523e+08</td>\n",
       "      <td>135340.426982</td>\n",
       "      <td>100000</td>\n",
       "      <td>1.445681e+08</td>\n",
       "      <td>1.630467e+06</td>\n",
       "    </tr>\n",
       "  </tbody>\n",
       "</table>\n",
       "</div>"
      ],
      "text/plain": [
       "   Noise Variance (nV)^2  NV_Uncert (nV)^2  Resistance  ($\\Omega$)  \\\n",
       "3           8.528437e+06       9086.783276                    1000   \n",
       "4           2.550319e+07      15386.576251                   10000   \n",
       "5           1.521523e+08     135340.426982                  100000   \n",
       "\n",
       "   Johnson Noise (nV)^2  Uncert Johnson Noise (nV)^2  \n",
       "3          9.442018e+05                 1.624865e+06  \n",
       "4          1.791896e+07                 1.624913e+06  \n",
       "5          1.445681e+08                 1.630467e+06  "
      ]
     },
     "execution_count": 190,
     "metadata": {},
     "output_type": "execute_result"
    }
   ],
   "source": [
    "# Calculating Johnson Noise\n",
    "df2['Johnson Noise (nV)^2'] = df2['Noise Variance (nV)^2'] - y_intercept\n",
    "df2['Uncert Johnson Noise (nV)^2'] = np.sqrt(df2['NV_Uncert (nV)^2']**2 + y_intercept_uncert**2)\n",
    "df2"
   ]
  },
  {
   "cell_type": "code",
   "execution_count": 191,
   "id": "05140f85-8b03-46b3-8cc9-8349be54e9b4",
   "metadata": {},
   "outputs": [
    {
     "data": {
      "image/png": "[encoded data removed]",
      "text/plain": [
       "<Figure size 400x400 with 1 Axes>"
      ]
     },
     "metadata": {
      "needs_background": "light"
     },
     "output_type": "display_data"
    },
    {
     "name": "stdout",
     "output_type": "stream",
     "text": [
      "Corresponding p-value: 0.07505332086200611\n",
      "Degrees of freedom: 1\n"
     ]
    },
    {
     "data": {
      "text/html": [
       "<h2> Model</h2> Model(<lambda>) <h2>Fit Statistics</h2><table><tr><td>fitting method</td><td>leastsq</td><td></td></tr><tr><td># function evals</td><td>3</td><td></td></tr><tr><td># data points</td><td>3</td><td></td></tr><tr><td># variables</td><td>2</td><td></td></tr><tr><td>chi-square</td><td> 3.16889256</td><td></td></tr><tr><td>reduced chi-square</td><td> 3.16889256</td><td></td></tr><tr><td>Akaike info crit.</td><td> 4.16430967</td><td></td></tr><tr><td>Bayesian info crit.</td><td> 2.36153425</td><td></td></tr></table><h2>Variables</h2><table><tr><th> name </th><th> value </th><th> standard error </th><th> relative error </th><th> initial value </th><th> min </th><th> max </th><th> vary </th></tr><tr><td> a </td><td>  1433.11218 </td><td>  37.4459823 </td><td> (2.61%) </td><td> 1433.112178181304 </td><td>  0.00000000 </td><td>         inf </td><td> True </td></tr><tr><td> b </td><td>  1452337.15 </td><td>  2167944.64 </td><td> (149.27%) </td><td> 1452337.1540089075 </td><td>  0.00000000 </td><td>         inf </td><td> True </td></tr></table><h2>Correlations (unreported correlations are < 0.100)</h2><table><tr><td>a</td><td>b</td><td>-0.6366</td></tr></table>"
      ],
      "text/plain": [
       "<lmfit.model.ModelResult at 0x7fc901289550>"
      ]
     },
     "execution_count": 191,
     "metadata": {},
     "output_type": "execute_result"
    }
   ],
   "source": [
    "#### PLOTTING OUR DATA ---------------------------------------\n",
    "xdata, ydata, error_x, error_y = df2['Resistance  ($\\Omega$)'], df2['Johnson Noise (nV)^2'], 0, df2['Uncert Johnson Noise (nV)^2']\n",
    "result = FUNCTION_FIT_linear(xdata, ydata, error_x, error_y, 'blue', '$R_{in}$  ($\\Omega$)', '$<V_J^2>  (nV)^2$', linear)\n",
    "result"
   ]
  },
  {
   "cell_type": "code",
   "execution_count": 184,
   "id": "1d8e30b2-8ada-4a5b-841d-9c326cc6c541",
   "metadata": {},
   "outputs": [
    {
     "name": "stdout",
     "output_type": "stream",
     "text": [
      "1.433112178181304e-15 3.744598229697248e-17\n",
      "1.2177816000901614e-23 1.27278321774992e-24\n"
     ]
    }
   ],
   "source": [
    "# Finding the Boltzmann constant\n",
    "from scipy.constants import k\n",
    "\n",
    "boltzmann = lambda params : params[0]/(params[1]*params[2]) # slope, T, ENBW\n",
    "\n",
    "T, ENBW = 294.5, 99.9e3\n",
    "slope = result.params['a'].value*1e-18\n",
    "slope_error = result.params['a'].stderr*1e-18\n",
    "kb = slope/(4*T*ENBW)\n",
    "kb_uncert = uncertainty_var([slope, T, ENBW], [slope_error, 0, 0], boltzmann)\n",
    "\n",
    "print(slope, slope_error)\n",
    "print(kb, kb_uncert)"
   ]
  },
  {
   "cell_type": "code",
   "execution_count": 192,
   "id": "193b5e8e-efce-4b42-bbb0-985552d12ad0",
   "metadata": {},
   "outputs": [
    {
     "name": "stdout",
     "output_type": "stream",
     "text": [
      "Percentage error:  11.796437755710445 %\n",
      "Experimental precision: 956.786342801571 %\n",
      "Sigmas: 0.012329228823615139\n"
     ]
    }
   ],
   "source": [
    "# DETERMING THE %ERROR\n",
    "error = abs((kb-k)/k)*100\n",
    "print(\"Percentage error: \", error, \"%\")\n",
    "exp_precision = 100*kb/kb_uncert\n",
    "print('Experimental precision:', exp_precision, '%')\n",
    "print('Sigmas:', error/exp_precision)"
   ]
  },
  {
   "cell_type": "code",
   "execution_count": null,
   "id": "20a600e1-0ea0-4ac8-95c8-692fae732b25",
   "metadata": {},
   "outputs": [],
   "source": []
  }
 ],
 "metadata": {
  "kernelspec": {
   "display_name": "Python 3",
   "language": "python",
   "name": "python3"
  },
  "language_info": {
   "codemirror_mode": {
    "name": "ipython",
    "version": 3
   },
   "file_extension": ".py",
   "mimetype": "text/x-python",
   "name": "python",
   "nbconvert_exporter": "python",
   "pygments_lexer": "ipython3",
   "version": "3.8.8"
  }
 },
 "nbformat": 4,
 "nbformat_minor": 5
}
