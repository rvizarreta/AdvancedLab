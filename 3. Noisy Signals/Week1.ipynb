{
 "cells": [
  {
   "cell_type": "code",
   "execution_count": 1,
   "id": "b096bfcd-bf7e-4942-9345-d153885c9d10",
   "metadata": {},
   "outputs": [],
   "source": [
    "# OPERATIONAL PACKAGES ---------------------------------------\n",
    "import numpy as np\n",
    "import pandas as pd\n",
    "from math import inf\n",
    "import scipy as sp\n",
    "\n",
    "# STYLE RESOURCES ---------------------------------------\n",
    "import matplotlib.pyplot as plt\n",
    "plt.style.reload_library()\n",
    "plt.style.use(['science', 'grid'])"
   ]
  },
  {
   "cell_type": "code",
   "execution_count": 29,
   "id": "f6113dea-feda-4515-8cd0-7594a22bf2c9",
   "metadata": {},
   "outputs": [
    {
     "data": {
      "text/html": [
       "<div>\n",
       "<style scoped>\n",
       "    .dataframe tbody tr th:only-of-type {\n",
       "        vertical-align: middle;\n",
       "    }\n",
       "\n",
       "    .dataframe tbody tr th {\n",
       "        vertical-align: top;\n",
       "    }\n",
       "\n",
       "    .dataframe thead th {\n",
       "        text-align: right;\n",
       "    }\n",
       "</style>\n",
       "<table border=\"1\" class=\"dataframe\">\n",
       "  <thead>\n",
       "    <tr style=\"text-align: right;\">\n",
       "      <th></th>\n",
       "      <th>t</th>\n",
       "      <th>V</th>\n",
       "      <th>$V^2$</th>\n",
       "      <th>$V^2$/10</th>\n",
       "      <th>($V^2$/10)2</th>\n",
       "    </tr>\n",
       "  </thead>\n",
       "  <tbody>\n",
       "    <tr>\n",
       "      <th>0</th>\n",
       "      <td>-0.000500</td>\n",
       "      <td>0.48</td>\n",
       "      <td>0.2304</td>\n",
       "      <td>0.02304</td>\n",
       "      <td>0.000531</td>\n",
       "    </tr>\n",
       "    <tr>\n",
       "      <th>1</th>\n",
       "      <td>-0.000500</td>\n",
       "      <td>0.48</td>\n",
       "      <td>0.2304</td>\n",
       "      <td>0.02304</td>\n",
       "      <td>0.000531</td>\n",
       "    </tr>\n",
       "    <tr>\n",
       "      <th>2</th>\n",
       "      <td>-0.000499</td>\n",
       "      <td>0.40</td>\n",
       "      <td>0.1600</td>\n",
       "      <td>0.01600</td>\n",
       "      <td>0.000256</td>\n",
       "    </tr>\n",
       "    <tr>\n",
       "      <th>3</th>\n",
       "      <td>-0.000499</td>\n",
       "      <td>0.32</td>\n",
       "      <td>0.1024</td>\n",
       "      <td>0.01024</td>\n",
       "      <td>0.000105</td>\n",
       "    </tr>\n",
       "    <tr>\n",
       "      <th>4</th>\n",
       "      <td>-0.000498</td>\n",
       "      <td>0.48</td>\n",
       "      <td>0.2304</td>\n",
       "      <td>0.02304</td>\n",
       "      <td>0.000531</td>\n",
       "    </tr>\n",
       "    <tr>\n",
       "      <th>...</th>\n",
       "      <td>...</td>\n",
       "      <td>...</td>\n",
       "      <td>...</td>\n",
       "      <td>...</td>\n",
       "      <td>...</td>\n",
       "    </tr>\n",
       "    <tr>\n",
       "      <th>2495</th>\n",
       "      <td>0.000498</td>\n",
       "      <td>0.72</td>\n",
       "      <td>0.5184</td>\n",
       "      <td>0.05184</td>\n",
       "      <td>0.002687</td>\n",
       "    </tr>\n",
       "    <tr>\n",
       "      <th>2496</th>\n",
       "      <td>0.000498</td>\n",
       "      <td>0.72</td>\n",
       "      <td>0.5184</td>\n",
       "      <td>0.05184</td>\n",
       "      <td>0.002687</td>\n",
       "    </tr>\n",
       "    <tr>\n",
       "      <th>2497</th>\n",
       "      <td>0.000499</td>\n",
       "      <td>0.64</td>\n",
       "      <td>0.4096</td>\n",
       "      <td>0.04096</td>\n",
       "      <td>0.001678</td>\n",
       "    </tr>\n",
       "    <tr>\n",
       "      <th>2498</th>\n",
       "      <td>0.000499</td>\n",
       "      <td>0.64</td>\n",
       "      <td>0.4096</td>\n",
       "      <td>0.04096</td>\n",
       "      <td>0.001678</td>\n",
       "    </tr>\n",
       "    <tr>\n",
       "      <th>2499</th>\n",
       "      <td>0.000500</td>\n",
       "      <td>0.56</td>\n",
       "      <td>0.3136</td>\n",
       "      <td>0.03136</td>\n",
       "      <td>0.000983</td>\n",
       "    </tr>\n",
       "  </tbody>\n",
       "</table>\n",
       "<p>2500 rows × 5 columns</p>\n",
       "</div>"
      ],
      "text/plain": [
       "             t     V   $V^2$  $V^2$/10  ($V^2$/10)2\n",
       "0    -0.000500  0.48  0.2304   0.02304     0.000531\n",
       "1    -0.000500  0.48  0.2304   0.02304     0.000531\n",
       "2    -0.000499  0.40  0.1600   0.01600     0.000256\n",
       "3    -0.000499  0.32  0.1024   0.01024     0.000105\n",
       "4    -0.000498  0.48  0.2304   0.02304     0.000531\n",
       "...        ...   ...     ...       ...          ...\n",
       "2495  0.000498  0.72  0.5184   0.05184     0.002687\n",
       "2496  0.000498  0.72  0.5184   0.05184     0.002687\n",
       "2497  0.000499  0.64  0.4096   0.04096     0.001678\n",
       "2498  0.000499  0.64  0.4096   0.04096     0.001678\n",
       "2499  0.000500  0.56  0.3136   0.03136     0.000983\n",
       "\n",
       "[2500 rows x 5 columns]"
      ]
     },
     "execution_count": 29,
     "metadata": {},
     "output_type": "execute_result"
    }
   ],
   "source": [
    "# READING THE DATA FROM .txt FILES ---------------------------------------\n",
    "df = pd.read_csv('ch1_test.csv', names=['t','V'])\n",
    "df['$V^2$'] = df['V']**2\n",
    "df['$V^2$/10'] = df['$V^2$']/10\n",
    "df['($V^2$/10)2'] = df['$V^2$/10']**2\n",
    "df"
   ]
  },
  {
   "cell_type": "code",
   "execution_count": 40,
   "id": "658c3f43-382d-4f69-8939-77fd4fabadd3",
   "metadata": {},
   "outputs": [
    {
     "data": {
      "text/plain": [
       "1.1360540832196295"
      ]
     },
     "execution_count": 40,
     "metadata": {},
     "output_type": "execute_result"
    }
   ],
   "source": [
    "RMS = np.sqrt(df['$V^2$'].mean())\n",
    "RMS"
   ]
  },
  {
   "cell_type": "code",
   "execution_count": 43,
   "id": "a1ec0809-a035-442f-8c9c-784f1e890998",
   "metadata": {},
   "outputs": [
    {
     "data": {
      "text/plain": [
       "0.1651232763705947"
      ]
     },
     "execution_count": 43,
     "metadata": {},
     "output_type": "execute_result"
    }
   ],
   "source": [
    "RMS = np.sqrt(df['($V^2$/10)2'].mean())\n",
    "RMS"
   ]
  },
  {
   "cell_type": "code",
   "execution_count": 42,
   "id": "c8a189d7-3084-4f1e-9eb2-bd4fedc74628",
   "metadata": {},
   "outputs": [
    {
     "data": {
      "text/plain": [
       "0.1290618879999993"
      ]
     },
     "execution_count": 42,
     "metadata": {},
     "output_type": "execute_result"
    }
   ],
   "source": [
    "(RMS**2)/10"
   ]
  },
  {
   "cell_type": "code",
   "execution_count": 17,
   "id": "69353e80-bbdf-486e-96ee-7ddb768d5540",
   "metadata": {},
   "outputs": [
    {
     "data": {
      "text/plain": [
       "0.1854723699099141"
      ]
     },
     "execution_count": 17,
     "metadata": {},
     "output_type": "execute_result"
    }
   ],
   "source": [
    "a = np.sqrt(3.44e-3*10)\n",
    "a"
   ]
  },
  {
   "cell_type": "code",
   "execution_count": 18,
   "id": "6275c0b1-76de-4039-9a18-ff437b65fbf1",
   "metadata": {},
   "outputs": [],
   "source": [
    "b = 11e-3 #mV"
   ]
  },
  {
   "cell_type": "code",
   "execution_count": 19,
   "id": "6401f819-2916-475c-a2d3-ffc3cfeffe6f",
   "metadata": {},
   "outputs": [
    {
     "data": {
      "text/plain": [
       "1586.1124537264918"
      ]
     },
     "execution_count": 19,
     "metadata": {},
     "output_type": "execute_result"
    }
   ],
   "source": [
    "(a/b-1)*100"
   ]
  },
  {
   "cell_type": "code",
   "execution_count": 20,
   "id": "2c0002f6-4e9f-428f-b4e6-9533daf1cb3a",
   "metadata": {},
   "outputs": [
    {
     "data": {
      "text/plain": [
       "16.861124537264917"
      ]
     },
     "execution_count": 20,
     "metadata": {},
     "output_type": "execute_result"
    }
   ],
   "source": [
    "a/b"
   ]
  },
  {
   "cell_type": "code",
   "execution_count": 16,
   "id": "3a66857f-b610-4f14-9a0b-6338f5d05c97",
   "metadata": {},
   "outputs": [
    {
     "data": {
      "text/plain": [
       "99.9"
      ]
     },
     "execution_count": 16,
     "metadata": {},
     "output_type": "execute_result"
    }
   ],
   "source": [
    "100-0.1"
   ]
  },
  {
   "cell_type": "code",
   "execution_count": 21,
   "id": "631d9d0e-779e-4580-9242-61890e9586fb",
   "metadata": {},
   "outputs": [
    {
     "data": {
      "text/plain": [
       "2.3357263357409596e-11"
      ]
     },
     "execution_count": 21,
     "metadata": {},
     "output_type": "execute_result"
    }
   ],
   "source": [
    "(10*0.92)/(1000*600*1.046)**2"
   ]
  },
  {
   "cell_type": "code",
   "execution_count": 26,
   "id": "3092c193-68eb-4ed5-9c32-53054c9e6529",
   "metadata": {},
   "outputs": [],
   "source": [
    "from scipy.constants import k"
   ]
  },
  {
   "cell_type": "code",
   "execution_count": 29,
   "id": "9d1146e3-6128-405c-903f-53aea31d2330",
   "metadata": {},
   "outputs": [
    {
     "data": {
      "text/plain": [
       "1.6280883615204003e-12"
      ]
     },
     "execution_count": 29,
     "metadata": {},
     "output_type": "execute_result"
    }
   ],
   "source": [
    "4*k*295.1*99.9e3*1000"
   ]
  },
  {
   "cell_type": "code",
   "execution_count": null,
   "id": "b2ef5fbb-a8ac-465d-bb96-2da2727396ce",
   "metadata": {},
   "outputs": [],
   "source": []
  }
 ],
 "metadata": {
  "kernelspec": {
   "display_name": "Python 3",
   "language": "python",
   "name": "python3"
  },
  "language_info": {
   "codemirror_mode": {
    "name": "ipython",
    "version": 3
   },
   "file_extension": ".py",
   "mimetype": "text/x-python",
   "name": "python",
   "nbconvert_exporter": "python",
   "pygments_lexer": "ipython3",
   "version": "3.8.8"
  }
 },
 "nbformat": 4,
 "nbformat_minor": 5
}
