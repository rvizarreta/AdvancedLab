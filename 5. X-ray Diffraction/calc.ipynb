{
 "cells": [
  {
   "cell_type": "code",
   "execution_count": 3,
   "id": "e4aa1425-7672-415e-9206-2cd521bb8c40",
   "metadata": {},
   "outputs": [],
   "source": [
    "from scipy.constants import h, c, e\n",
    "import numpy as np"
   ]
  },
  {
   "cell_type": "code",
   "execution_count": 4,
   "id": "f0b54384-b916-4f24-a7b2-d5a4810ba3de",
   "metadata": {},
   "outputs": [
    {
     "data": {
      "text/plain": [
       "(22.486891325246766, 22.545695655325417, -0.058804330078650935)"
      ]
     },
     "execution_count": 4,
     "metadata": {},
     "output_type": "execute_result"
    }
   ],
   "source": [
    "# Change in energies\n",
    "E1, E2 = 8978.9 - 931.1, 8978.9 - 951\n",
    "hc = h*c/e # eV\n",
    "lambda1, lambda2 = hc/E1, hc/E2\n",
    "\n",
    "# LiF crystal spacing\n",
    "d = 2.014*0.1*1e-9 # m\n",
    "theta1, theta2 = np.arcsin(lambda1/(2*d))*180/np.pi, np.arcsin(lambda2/(2*d))*180/np.pi\n",
    "dif_theta = (theta1 - theta2)\n",
    "theta1, theta2, dif_theta"
   ]
  },
  {
   "cell_type": "code",
   "execution_count": 18,
   "id": "b1771f16-42b6-4ab5-9680-65c8f1a94f44",
   "metadata": {},
   "outputs": [
    {
     "data": {
      "text/plain": [
       "13.056899253042381"
      ]
     },
     "execution_count": 18,
     "metadata": {},
     "output_type": "execute_result"
    }
   ],
   "source": [
    "lambda3 = 0.091e-9\n",
    "np.arcsin(lambda3/(2*d))*180/np.pi"
   ]
  },
  {
   "cell_type": "code",
   "execution_count": 21,
   "id": "8614ee7c-124c-48ff-901c-68b14980afc4",
   "metadata": {},
   "outputs": [
    {
     "data": {
      "text/plain": [
       "1.2398419843320026e-06"
      ]
     },
     "execution_count": 21,
     "metadata": {},
     "output_type": "execute_result"
    }
   ],
   "source": [
    "V = 35e3\n",
    "lambda_min = h*c/(V*e)\n",
    "lambda_min*1e9"
   ]
  },
  {
   "cell_type": "code",
   "execution_count": null,
   "id": "1f7e07ed-1fe0-4987-911a-f2740b46a696",
   "metadata": {},
   "outputs": [],
   "source": []
  }
 ],
 "metadata": {
  "kernelspec": {
   "display_name": "Python 3",
   "language": "python",
   "name": "python3"
  },
  "language_info": {
   "codemirror_mode": {
    "name": "ipython",
    "version": 3
   },
   "file_extension": ".py",
   "mimetype": "text/x-python",
   "name": "python",
   "nbconvert_exporter": "python",
   "pygments_lexer": "ipython3",
   "version": "3.8.8"
  }
 },
 "nbformat": 4,
 "nbformat_minor": 5
}
