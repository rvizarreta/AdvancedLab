{
 "cells": [
  {
   "cell_type": "code",
   "execution_count": 1,
   "id": "e89eb846-9aeb-431e-b5f3-cb7ad106af23",
   "metadata": {},
   "outputs": [],
   "source": [
    "# OPERATIONAL PACKAGES ---------------------------------------\n",
    "import numpy as np\n",
    "import matplotlib.pyplot as plt\n",
    "import pandas as pd\n",
    "from math import inf\n",
    "import scipy as sp\n",
    "from scipy.optimize import curve_fit\n",
    "\n",
    "# STYLE RESOURCES ---------------------------------------\n",
    "plt.style.reload_library()\n",
    "plt.style.use(['science', 'grid'])\n",
    "\n",
    "# FITTING PACKAGES ---------------------------------------\n",
    "from lmfit import Model, Parameters\n",
    "import scipy.optimize as optimization\n",
    "from IPython.display import display, Markdown"
   ]
  },
  {
   "cell_type": "code",
   "execution_count": 40,
   "id": "5c0f2256-7956-4417-be1c-d61caf3ed7fa",
   "metadata": {},
   "outputs": [],
   "source": [
    "# FUNCTION FOR PLOTTING A SCATTER PLOT ---------------------------------------\n",
    "def ScatterPlot(xdata,ydata,error_x,error_y,color,x_label,y_label):\n",
    "    \n",
    "    # SCATTER PLOT\n",
    "    fig = plt.figure(figsize=(5, 5), dpi=80)\n",
    "    plt.errorbar(xdata,ydata,yerr=error_y,capsize = 5,marker = 'o',markersize=4, linestyle = 'None',color='black')\n",
    "    plt.errorbar(xdata,ydata,xerr=error_x,capsize = 5,marker = 'o',markersize=4, linestyle = 'None',color='black')\n",
    "    \n",
    "    plt.xlabel(r'$\\textit{'+ x_label +'}$', fontsize = 16)\n",
    "    plt.ylabel(r'$\\textit{'+ y_label +'}$', fontsize = 16)\n",
    "    #plt.ticklabel_format(axis=\"y\", style=\"sci\", scilimits=(0,0))\n",
    "    #plt.ticklabel_format(axis=\"x\", style=\"sci\", scilimits=(0,0))\n",
    "    plt.xticks(np.arange(xdata.min(),xdata.max(),0.4), fontsize=15)\n",
    "    plt.yticks(fontsize=15)\n",
    "    #plt.xticks(fontsize=15)\n",
    "    plt.savefig(\"Figures/figure1.png\")\n",
    "\n",
    "# DEFINING A FUNCTION THAT RETURNS COUNTING ERROR\n",
    "count_error = lambda val : np.sqrt(val)\n",
    "\n",
    "# FITTING FUNCTIONS\n",
    "Gaussian = lambda x,a,b,c,d : a*np.exp((-(x-b)**2)/(2*c**2)) + d\n",
    "\n",
    "def FUNCTION_FIT(xdata, ydata, error_x, error_y, color, x_label, y_label, function):\n",
    "    \n",
    "    # Plotting scatter plot first\n",
    "    ScatterPlot(xdata,ydata,error_x,error_y,color,x_label,y_label)\n",
    "    \n",
    "    # Finding best fit value\n",
    "    optimal = optimization.curve_fit(function, xdata, ydata, np.array([25,48,1,5]), error_y)\n",
    "    a, b, c, d = optimal[0][0], optimal[0][1], optimal[0][2], optimal[0][3]\n",
    "    pars, cov = curve_fit(f=function, xdata=xdata, ydata=ydata, p0=[a, b, c, d], bounds=(-np.inf, np.inf))\n",
    "    stdevs = np.sqrt(np.diag(cov))\n",
    "    chi_squared = np.sum((function(xdata, *pars) - ydata)**2/error_y**2)\n",
    "    red_chi_squared = chi_squared/(np.size(ydata)-np.size(pars))\n",
    "    p_value = 1.000-sp.stats.chi2.cdf(chi_squared,(np.size(ydata)-np.size(pars)))\n",
    "    variables = ['a', 'b', 'c', 'd']\n",
    "    display(Markdown('## Fit Statistics'))\n",
    "    df2 = pd.DataFrame()\n",
    "    df2[\"Dof\"] = [np.size(ydata)-np.size(pars)]\n",
    "    df2[\"p-value\"] = [p_value]\n",
    "    df2[\"$\\chi^2$\"] = [chi_squared]\n",
    "    df2[\"$\\overline{\\chi}^2$\"] = [red_chi_squared]\n",
    "    display(df2)\n",
    "    \n",
    "    display(Markdown('## Variables'))\n",
    "    df = pd.DataFrame()\n",
    "    df[\"Name\"] = variables\n",
    "    df[\"Value\"] = pars\n",
    "    df[\"Std\"] = stdevs\n",
    "    display(df)\n",
    "     \n",
    "    # Plotting Fitted Function\n",
    "    a, b, c, d = pars[0], pars[1], pars[2], pars[3]\n",
    "    da, db, dc, dd = stdevs[0], stdevs[1], stdevs[2], stdevs[3]\n",
    "    x = np.arange(xdata.min(), xdata.max(), (xdata.max()-xdata.min())/1000) \n",
    "    y = function(x,a,b,c,d)\n",
    "    xmax = x[np.where(y == y.max())[0][0]]\n",
    "    label = r'$\\theta = \\ $' + str(\"{:.2f}\".format(xmax)) + '$^\\circ$'\n",
    "    plt.plot(x, function(x,a,b,c,d), color=color)\n",
    "    plt.axvline(x=xmax, color='k', linestyle='--', label=label)\n",
    "    \n",
    "    #VERTICAL LINE \n",
    "    plt.legend(prop={'size': 12}, loc=1)\n",
    "    \n",
    "    plt.savefig(\"Figures/figure.png\")\n",
    "    plt.show()\n",
    "    \n",
    "    return [variables, pars, stdevs]\n",
    "\n",
    "# DEFINING A FUNCTION THAT RETURNS THE UNCERTAINTY USING VARIATIONAL METHOD ---------------------------------------\n",
    "def uncertainty_var(values, deltas, function):\n",
    "    values, deltas = np.array(values), np.array(deltas)\n",
    "    delta_matrix = deltas*np.identity(values.shape[0])\n",
    "    sum = 0\n",
    "    for delta in delta_matrix:\n",
    "        sum += (0.5*(abs(function(values + delta) - function(values)) + abs(function(values-delta) - function(values))))**2\n",
    "    return np.sqrt(sum)\n",
    "\n",
    "# DEFINING A FUNCTION THAT RETURNS THE WEIGHTED AVERAGE WITH UNCERTAINTY\n",
    "def weighted_avgs(values, deltas):\n",
    "    weights = np.array(list(map(lambda x : 1/x**2, deltas)))\n",
    "    best_val = np.dot(np.array(values), weights)/weights.sum()\n",
    "    uncert = 1/np.sqrt(weights.sum())\n",
    "    return [best_val, uncert]"
   ]
  },
  {
   "cell_type": "markdown",
   "id": "f3bdfc0e-c0b2-4f16-9aee-d9f2edf4ebce",
   "metadata": {},
   "source": [
    "-----\n",
    "### UKNOWN POWDER\n",
    "-----"
   ]
  },
  {
   "cell_type": "code",
   "execution_count": 3,
   "id": "6eb974bc-08ad-46b4-9732-f8f49ed15ad7",
   "metadata": {},
   "outputs": [
    {
     "data": {
      "text/html": [
       "<div>\n",
       "<style scoped>\n",
       "    .dataframe tbody tr th:only-of-type {\n",
       "        vertical-align: middle;\n",
       "    }\n",
       "\n",
       "    .dataframe tbody tr th {\n",
       "        vertical-align: top;\n",
       "    }\n",
       "\n",
       "    .dataframe thead th {\n",
       "        text-align: right;\n",
       "    }\n",
       "</style>\n",
       "<table border=\"1\" class=\"dataframe\">\n",
       "  <thead>\n",
       "    <tr style=\"text-align: right;\">\n",
       "      <th></th>\n",
       "      <th>Theta</th>\n",
       "      <th>Imp/s</th>\n",
       "      <th>Imp_error</th>\n",
       "    </tr>\n",
       "  </thead>\n",
       "  <tbody>\n",
       "    <tr>\n",
       "      <th>0</th>\n",
       "      <td>20.0</td>\n",
       "      <td>28</td>\n",
       "      <td>5.291503</td>\n",
       "    </tr>\n",
       "    <tr>\n",
       "      <th>1</th>\n",
       "      <td>20.1</td>\n",
       "      <td>32</td>\n",
       "      <td>5.656854</td>\n",
       "    </tr>\n",
       "    <tr>\n",
       "      <th>2</th>\n",
       "      <td>20.2</td>\n",
       "      <td>31</td>\n",
       "      <td>5.567764</td>\n",
       "    </tr>\n",
       "    <tr>\n",
       "      <th>3</th>\n",
       "      <td>20.3</td>\n",
       "      <td>30</td>\n",
       "      <td>5.477226</td>\n",
       "    </tr>\n",
       "    <tr>\n",
       "      <th>4</th>\n",
       "      <td>20.4</td>\n",
       "      <td>29</td>\n",
       "      <td>5.385165</td>\n",
       "    </tr>\n",
       "    <tr>\n",
       "      <th>...</th>\n",
       "      <td>...</td>\n",
       "      <td>...</td>\n",
       "      <td>...</td>\n",
       "    </tr>\n",
       "    <tr>\n",
       "      <th>316</th>\n",
       "      <td>51.6</td>\n",
       "      <td>16</td>\n",
       "      <td>4.000000</td>\n",
       "    </tr>\n",
       "    <tr>\n",
       "      <th>317</th>\n",
       "      <td>51.7</td>\n",
       "      <td>16</td>\n",
       "      <td>4.000000</td>\n",
       "    </tr>\n",
       "    <tr>\n",
       "      <th>318</th>\n",
       "      <td>51.8</td>\n",
       "      <td>18</td>\n",
       "      <td>4.242641</td>\n",
       "    </tr>\n",
       "    <tr>\n",
       "      <th>319</th>\n",
       "      <td>51.9</td>\n",
       "      <td>18</td>\n",
       "      <td>4.242641</td>\n",
       "    </tr>\n",
       "    <tr>\n",
       "      <th>320</th>\n",
       "      <td>52.0</td>\n",
       "      <td>18</td>\n",
       "      <td>4.242641</td>\n",
       "    </tr>\n",
       "  </tbody>\n",
       "</table>\n",
       "<p>321 rows × 3 columns</p>\n",
       "</div>"
      ],
      "text/plain": [
       "     Theta  Imp/s  Imp_error\n",
       "0     20.0     28   5.291503\n",
       "1     20.1     32   5.656854\n",
       "2     20.2     31   5.567764\n",
       "3     20.3     30   5.477226\n",
       "4     20.4     29   5.385165\n",
       "..     ...    ...        ...\n",
       "316   51.6     16   4.000000\n",
       "317   51.7     16   4.000000\n",
       "318   51.8     18   4.242641\n",
       "319   51.9     18   4.242641\n",
       "320   52.0     18   4.242641\n",
       "\n",
       "[321 rows x 3 columns]"
      ]
     },
     "execution_count": 3,
     "metadata": {},
     "output_type": "execute_result"
    }
   ],
   "source": [
    "# READING THE DATA FROM GOOGLE SHEETS ---------------------------------------\n",
    "googleSheetId = '1qogTfmCQXAS6o2U-FCVnL6LUQsT4V-npiPWFMsUuwH8'\n",
    "workSheetName = 'Unknown_Powder'\n",
    "URL = 'https://docs.google.com/spreadsheets/d/{0}/gviz/tq?tqx=out:csv&sheet={1}'.format(googleSheetId, workSheetName)\n",
    "df = pd.read_csv(URL)\n",
    "df['Imp_error'] = df.apply(lambda x: count_error(x['Imp/s']), axis=1)\n",
    "df"
   ]
  },
  {
   "cell_type": "code",
   "execution_count": 43,
   "id": "b18756f7-dedd-4248-9c74-89097ab3f57a",
   "metadata": {},
   "outputs": [
    {
     "data": {
      "text/markdown": [
       "## Fit Statistics"
      ],
      "text/plain": [
       "<IPython.core.display.Markdown object>"
      ]
     },
     "metadata": {},
     "output_type": "display_data"
    },
    {
     "data": {
      "text/html": [
       "<div>\n",
       "<style scoped>\n",
       "    .dataframe tbody tr th:only-of-type {\n",
       "        vertical-align: middle;\n",
       "    }\n",
       "\n",
       "    .dataframe tbody tr th {\n",
       "        vertical-align: top;\n",
       "    }\n",
       "\n",
       "    .dataframe thead th {\n",
       "        text-align: right;\n",
       "    }\n",
       "</style>\n",
       "<table border=\"1\" class=\"dataframe\">\n",
       "  <thead>\n",
       "    <tr style=\"text-align: right;\">\n",
       "      <th></th>\n",
       "      <th>Dof</th>\n",
       "      <th>p-value</th>\n",
       "      <th>$\\chi^2$</th>\n",
       "      <th>$\\overline{\\chi}^2$</th>\n",
       "    </tr>\n",
       "  </thead>\n",
       "  <tbody>\n",
       "    <tr>\n",
       "      <th>0</th>\n",
       "      <td>17</td>\n",
       "      <td>0.999998</td>\n",
       "      <td>1.834986</td>\n",
       "      <td>0.10794</td>\n",
       "    </tr>\n",
       "  </tbody>\n",
       "</table>\n",
       "</div>"
      ],
      "text/plain": [
       "   Dof   p-value  $\\chi^2$  $\\overline{\\chi}^2$\n",
       "0   17  0.999998  1.834986              0.10794"
      ]
     },
     "metadata": {},
     "output_type": "display_data"
    },
    {
     "data": {
      "text/markdown": [
       "## Variables"
      ],
      "text/plain": [
       "<IPython.core.display.Markdown object>"
      ]
     },
     "metadata": {},
     "output_type": "display_data"
    },
    {
     "data": {
      "text/html": [
       "<div>\n",
       "<style scoped>\n",
       "    .dataframe tbody tr th:only-of-type {\n",
       "        vertical-align: middle;\n",
       "    }\n",
       "\n",
       "    .dataframe tbody tr th {\n",
       "        vertical-align: top;\n",
       "    }\n",
       "\n",
       "    .dataframe thead th {\n",
       "        text-align: right;\n",
       "    }\n",
       "</style>\n",
       "<table border=\"1\" class=\"dataframe\">\n",
       "  <thead>\n",
       "    <tr style=\"text-align: right;\">\n",
       "      <th></th>\n",
       "      <th>Name</th>\n",
       "      <th>Value</th>\n",
       "      <th>Std</th>\n",
       "    </tr>\n",
       "  </thead>\n",
       "  <tbody>\n",
       "    <tr>\n",
       "      <th>0</th>\n",
       "      <td>a</td>\n",
       "      <td>2.813368</td>\n",
       "      <td>2.323343</td>\n",
       "    </tr>\n",
       "    <tr>\n",
       "      <th>1</th>\n",
       "      <td>b</td>\n",
       "      <td>49.121232</td>\n",
       "      <td>0.136080</td>\n",
       "    </tr>\n",
       "    <tr>\n",
       "      <th>2</th>\n",
       "      <td>c</td>\n",
       "      <td>0.552732</td>\n",
       "      <td>0.493342</td>\n",
       "    </tr>\n",
       "    <tr>\n",
       "      <th>3</th>\n",
       "      <td>d</td>\n",
       "      <td>16.594402</td>\n",
       "      <td>2.513037</td>\n",
       "    </tr>\n",
       "  </tbody>\n",
       "</table>\n",
       "</div>"
      ],
      "text/plain": [
       "  Name      Value       Std\n",
       "0    a   2.813368  2.323343\n",
       "1    b  49.121232  0.136080\n",
       "2    c   0.552732  0.493342\n",
       "3    d  16.594402  2.513037"
      ]
     },
     "metadata": {},
     "output_type": "display_data"
    },
    {
     "data": {
      "image/png": "[encoded data removed]",
      "text/plain": [
       "<Figure size 400x400 with 1 Axes>"
      ]
     },
     "metadata": {
      "needs_background": "light"
     },
     "output_type": "display_data"
    }
   ],
   "source": [
    "# PLOTTING OUR DATA ---------------------------------------\n",
    "minVal, maxVal = 48, 50\n",
    "df_filtered = df[(df['Theta'] >= minVal) & (df['Theta'] <= maxVal)]\n",
    "#df_filtered = df\n",
    "xdata, ydata, error_x, error_y = df_filtered['Theta'], df_filtered['Imp/s'], 0, df_filtered['Imp_error']\n",
    "#results = ScatterPlot(xdata, ydata, error_x, error_y, 'red', r'$\\theta \\ (^\\circ)$', 'Imp/s')\n",
    "results = FUNCTION_FIT(xdata, ydata, error_x, error_y, 'red', r'$\\theta \\ (^\\circ)$', 'Imp/s', Gaussian)"
   ]
  },
  {
   "cell_type": "code",
   "execution_count": 44,
   "id": "ee9a6e3f-a44d-48d5-9982-e8628473866f",
   "metadata": {},
   "outputs": [
    {
     "data": {
      "text/html": [
       "<div>\n",
       "<style scoped>\n",
       "    .dataframe tbody tr th:only-of-type {\n",
       "        vertical-align: middle;\n",
       "    }\n",
       "\n",
       "    .dataframe tbody tr th {\n",
       "        vertical-align: top;\n",
       "    }\n",
       "\n",
       "    .dataframe thead th {\n",
       "        text-align: right;\n",
       "    }\n",
       "</style>\n",
       "<table border=\"1\" class=\"dataframe\">\n",
       "  <thead>\n",
       "    <tr style=\"text-align: right;\">\n",
       "      <th></th>\n",
       "      <th>Theta</th>\n",
       "      <th>Delta_Theta</th>\n",
       "      <th>sc hkl</th>\n",
       "      <th>fcc hkl</th>\n",
       "      <th>bcc hkl</th>\n",
       "      <th>Function_sc</th>\n",
       "      <th>Function_fcc</th>\n",
       "      <th>Function_bcc</th>\n",
       "      <th>Uncertainty_sc</th>\n",
       "      <th>Uncertainty_fcc</th>\n",
       "      <th>Uncertainty_bcc</th>\n",
       "    </tr>\n",
       "  </thead>\n",
       "  <tbody>\n",
       "    <tr>\n",
       "      <th>0</th>\n",
       "      <td>22.307099</td>\n",
       "      <td>0.007528</td>\n",
       "      <td>1</td>\n",
       "      <td>3</td>\n",
       "      <td>2</td>\n",
       "      <td>0.144074</td>\n",
       "      <td>0.048025</td>\n",
       "      <td>0.072037</td>\n",
       "      <td>0.000092</td>\n",
       "      <td>0.000031</td>\n",
       "      <td>0.000046</td>\n",
       "    </tr>\n",
       "    <tr>\n",
       "      <th>1</th>\n",
       "      <td>25.989620</td>\n",
       "      <td>0.012842</td>\n",
       "      <td>2</td>\n",
       "      <td>4</td>\n",
       "      <td>4</td>\n",
       "      <td>0.096013</td>\n",
       "      <td>0.048007</td>\n",
       "      <td>0.048007</td>\n",
       "      <td>0.000088</td>\n",
       "      <td>0.000044</td>\n",
       "      <td>0.000044</td>\n",
       "    </tr>\n",
       "    <tr>\n",
       "      <th>2</th>\n",
       "      <td>38.329353</td>\n",
       "      <td>0.023033</td>\n",
       "      <td>3</td>\n",
       "      <td>8</td>\n",
       "      <td>6</td>\n",
       "      <td>0.128208</td>\n",
       "      <td>0.048078</td>\n",
       "      <td>0.064104</td>\n",
       "      <td>0.000130</td>\n",
       "      <td>0.000049</td>\n",
       "      <td>0.000065</td>\n",
       "    </tr>\n",
       "    <tr>\n",
       "      <th>3</th>\n",
       "      <td>46.588518</td>\n",
       "      <td>0.016267</td>\n",
       "      <td>4</td>\n",
       "      <td>11</td>\n",
       "      <td>8</td>\n",
       "      <td>0.131928</td>\n",
       "      <td>0.047974</td>\n",
       "      <td>0.065964</td>\n",
       "      <td>0.000071</td>\n",
       "      <td>0.000026</td>\n",
       "      <td>0.000035</td>\n",
       "    </tr>\n",
       "  </tbody>\n",
       "</table>\n",
       "</div>"
      ],
      "text/plain": [
       "       Theta  Delta_Theta  sc hkl  fcc hkl  bcc hkl  Function_sc  \\\n",
       "0  22.307099     0.007528       1        3        2     0.144074   \n",
       "1  25.989620     0.012842       2        4        4     0.096013   \n",
       "2  38.329353     0.023033       3        8        6     0.128208   \n",
       "3  46.588518     0.016267       4       11        8     0.131928   \n",
       "\n",
       "   Function_fcc  Function_bcc  Uncertainty_sc  Uncertainty_fcc  \\\n",
       "0      0.048025      0.072037        0.000092         0.000031   \n",
       "1      0.048007      0.048007        0.000088         0.000044   \n",
       "2      0.048078      0.064104        0.000130         0.000049   \n",
       "3      0.047974      0.065964        0.000071         0.000026   \n",
       "\n",
       "   Uncertainty_bcc  \n",
       "0         0.000046  \n",
       "1         0.000044  \n",
       "2         0.000065  \n",
       "3         0.000035  "
      ]
     },
     "execution_count": 44,
     "metadata": {},
     "output_type": "execute_result"
    }
   ],
   "source": [
    "# SUMMARIZING DATA AND FINDING FUNCTION\n",
    "func = lambda params : ((np.sin(params[0]*np.pi/180))**2)/params[1]  # [theta, sum]\n",
    "thetas = [22.307099, 25.989620, 38.329353, 46.588518]\n",
    "thetas_uncert = [0.007528, 0.012842, 0.023033, 0.016267]\n",
    "sc = [1,2,3,4]\n",
    "fcc = [3,4,8,11]\n",
    "bcc = [2,4,6,8]\n",
    "dictData = {'Theta' : thetas, 'Delta_Theta' : thetas_uncert, 'sc hkl' : sc, 'fcc hkl' : fcc, 'bcc hkl' : bcc}\n",
    "df_global = pd.DataFrame(dictData)\n",
    "df_global['Function_sc'] = df_global.apply(lambda x: func([x['Theta'], x['sc hkl']]), axis=1)\n",
    "df_global['Function_fcc'] = df_global.apply(lambda x: func([x['Theta'], x['fcc hkl']]), axis=1)\n",
    "df_global['Function_bcc'] = df_global.apply(lambda x: func([x['Theta'], x['bcc hkl']]), axis=1)\n",
    "df_global['Uncertainty_sc'] = df_global.apply(lambda x: uncertainty_var([x['Theta'], x['sc hkl']], [x['Delta_Theta'], 0], func), axis=1)\n",
    "df_global['Uncertainty_fcc'] = df_global.apply(lambda x: uncertainty_var([x['Theta'], x['fcc hkl']], [x['Delta_Theta'], 0], func), axis=1)\n",
    "df_global['Uncertainty_bcc'] = df_global.apply(lambda x: uncertainty_var([x['Theta'], x['bcc hkl']], [x['Delta_Theta'], 0], func), axis=1)\n",
    "df_global"
   ]
  },
  {
   "cell_type": "code",
   "execution_count": 46,
   "id": "f36d7bb0-d5b2-4244-8c5b-b003d4b75500",
   "metadata": {},
   "outputs": [
    {
     "name": "stdout",
     "output_type": "stream",
     "text": [
      "Lattice constant a (pm)\n"
     ]
    },
    {
     "data": {
      "text/plain": [
       "(352.0706875758595, 0.06203378850335479)"
      ]
     },
     "execution_count": 46,
     "metadata": {},
     "output_type": "execute_result"
    }
   ],
   "source": [
    "# USING WEIGHTED AVERAGES TO DETERMINE THE FUNCTION VALUE\n",
    "function, function_uncert = weighted_avgs(df_global['Function_fcc'], df_global['Uncertainty_fcc'])\n",
    "wavelength = 0.15428e-9 # m \n",
    "\n",
    "# FINDING THE LATTICE CONSTANT\n",
    "lattice_constant_calc = lambda params: (params[1]/2)*np.sqrt(1/params[0])   # [function, lambda]\n",
    "lattice_constant, lattice_constant_uncert = lattice_constant_calc([function, wavelength]), uncertainty_var([function, wavelength], [function_uncert, 0], lattice_constant_calc)\n",
    "print('Lattice constant a (pm)')\n",
    "lattice_constant*1e12, lattice_constant_uncert *1e12"
   ]
  },
  {
   "cell_type": "code",
   "execution_count": 47,
   "id": "307fb7d7-b615-4886-aac3-d37fa8b803f0",
   "metadata": {},
   "outputs": [
    {
     "name": "stdout",
     "output_type": "stream",
     "text": [
      "Percentage error:  0.09344847450070447 %\n",
      "Experimental precision: 567546.6484798352 %\n",
      "Sigmas: 1.6465338091768268e-07\n"
     ]
    }
   ],
   "source": [
    "# DETERMINING THE %ERROR\n",
    "exp, theor, unc = lattice_constant*1e12, 352.4, lattice_constant_uncert *1e12\n",
    "error = abs((exp-theor)/theor)*100\n",
    "print(\"Percentage error: \", error, \"%\")\n",
    "exp_precision = 100*exp/unc\n",
    "print('Experimental precision:', exp_precision, '%')\n",
    "print('Sigmas:', error/exp_precision)"
   ]
  },
  {
   "cell_type": "code",
   "execution_count": null,
   "id": "02153ea8-4065-42e7-a2f8-ce45b414afcd",
   "metadata": {},
   "outputs": [],
   "source": []
  },
  {
   "cell_type": "code",
   "execution_count": null,
   "id": "3c2915ad-ece9-40c9-9923-0652a293e201",
   "metadata": {},
   "outputs": [],
   "source": []
  },
  {
   "cell_type": "markdown",
   "id": "4bdc01c1-d953-4ef7-8b5b-48295c7c941f",
   "metadata": {},
   "source": [
    "-----\n",
    "### UKNOWN METAL\n",
    "-----"
   ]
  },
  {
   "cell_type": "code",
   "execution_count": 8,
   "id": "7120fcce-c5b1-493a-8bfc-8eae23c23edb",
   "metadata": {},
   "outputs": [
    {
     "data": {
      "text/html": [
       "<div>\n",
       "<style scoped>\n",
       "    .dataframe tbody tr th:only-of-type {\n",
       "        vertical-align: middle;\n",
       "    }\n",
       "\n",
       "    .dataframe tbody tr th {\n",
       "        vertical-align: top;\n",
       "    }\n",
       "\n",
       "    .dataframe thead th {\n",
       "        text-align: right;\n",
       "    }\n",
       "</style>\n",
       "<table border=\"1\" class=\"dataframe\">\n",
       "  <thead>\n",
       "    <tr style=\"text-align: right;\">\n",
       "      <th></th>\n",
       "      <th>Theta</th>\n",
       "      <th>Imp/s</th>\n",
       "      <th>Imp_error</th>\n",
       "    </tr>\n",
       "  </thead>\n",
       "  <tbody>\n",
       "    <tr>\n",
       "      <th>0</th>\n",
       "      <td>17.0</td>\n",
       "      <td>28</td>\n",
       "      <td>5.291503</td>\n",
       "    </tr>\n",
       "    <tr>\n",
       "      <th>1</th>\n",
       "      <td>17.1</td>\n",
       "      <td>30</td>\n",
       "      <td>5.477226</td>\n",
       "    </tr>\n",
       "    <tr>\n",
       "      <th>2</th>\n",
       "      <td>17.2</td>\n",
       "      <td>28</td>\n",
       "      <td>5.291503</td>\n",
       "    </tr>\n",
       "    <tr>\n",
       "      <th>3</th>\n",
       "      <td>17.3</td>\n",
       "      <td>27</td>\n",
       "      <td>5.196152</td>\n",
       "    </tr>\n",
       "    <tr>\n",
       "      <th>4</th>\n",
       "      <td>17.4</td>\n",
       "      <td>28</td>\n",
       "      <td>5.291503</td>\n",
       "    </tr>\n",
       "    <tr>\n",
       "      <th>...</th>\n",
       "      <td>...</td>\n",
       "      <td>...</td>\n",
       "      <td>...</td>\n",
       "    </tr>\n",
       "    <tr>\n",
       "      <th>326</th>\n",
       "      <td>49.6</td>\n",
       "      <td>8</td>\n",
       "      <td>2.828427</td>\n",
       "    </tr>\n",
       "    <tr>\n",
       "      <th>327</th>\n",
       "      <td>49.7</td>\n",
       "      <td>7</td>\n",
       "      <td>2.645751</td>\n",
       "    </tr>\n",
       "    <tr>\n",
       "      <th>328</th>\n",
       "      <td>49.8</td>\n",
       "      <td>7</td>\n",
       "      <td>2.645751</td>\n",
       "    </tr>\n",
       "    <tr>\n",
       "      <th>329</th>\n",
       "      <td>49.9</td>\n",
       "      <td>7</td>\n",
       "      <td>2.645751</td>\n",
       "    </tr>\n",
       "    <tr>\n",
       "      <th>330</th>\n",
       "      <td>50.0</td>\n",
       "      <td>8</td>\n",
       "      <td>2.828427</td>\n",
       "    </tr>\n",
       "  </tbody>\n",
       "</table>\n",
       "<p>331 rows × 3 columns</p>\n",
       "</div>"
      ],
      "text/plain": [
       "     Theta  Imp/s  Imp_error\n",
       "0     17.0     28   5.291503\n",
       "1     17.1     30   5.477226\n",
       "2     17.2     28   5.291503\n",
       "3     17.3     27   5.196152\n",
       "4     17.4     28   5.291503\n",
       "..     ...    ...        ...\n",
       "326   49.6      8   2.828427\n",
       "327   49.7      7   2.645751\n",
       "328   49.8      7   2.645751\n",
       "329   49.9      7   2.645751\n",
       "330   50.0      8   2.828427\n",
       "\n",
       "[331 rows x 3 columns]"
      ]
     },
     "execution_count": 8,
     "metadata": {},
     "output_type": "execute_result"
    }
   ],
   "source": [
    "# READING THE DATA FROM GOOGLE SHEETS ---------------------------------------\n",
    "googleSheetId = '1qogTfmCQXAS6o2U-FCVnL6LUQsT4V-npiPWFMsUuwH8'\n",
    "workSheetName = 'Unknown_Metal'\n",
    "URL = 'https://docs.google.com/spreadsheets/d/{0}/gviz/tq?tqx=out:csv&sheet={1}'.format(googleSheetId, workSheetName)\n",
    "df = pd.read_csv(URL)\n",
    "df['Imp_error'] = df.apply(lambda x: count_error(x['Imp/s']), axis=1)\n",
    "df"
   ]
  },
  {
   "cell_type": "code",
   "execution_count": 61,
   "id": "f494b97d-4201-49da-ab72-5208261f14ec",
   "metadata": {},
   "outputs": [
    {
     "data": {
      "text/markdown": [
       "## Fit Statistics"
      ],
      "text/plain": [
       "<IPython.core.display.Markdown object>"
      ]
     },
     "metadata": {},
     "output_type": "display_data"
    },
    {
     "data": {
      "text/html": [
       "<div>\n",
       "<style scoped>\n",
       "    .dataframe tbody tr th:only-of-type {\n",
       "        vertical-align: middle;\n",
       "    }\n",
       "\n",
       "    .dataframe tbody tr th {\n",
       "        vertical-align: top;\n",
       "    }\n",
       "\n",
       "    .dataframe thead th {\n",
       "        text-align: right;\n",
       "    }\n",
       "</style>\n",
       "<table border=\"1\" class=\"dataframe\">\n",
       "  <thead>\n",
       "    <tr style=\"text-align: right;\">\n",
       "      <th></th>\n",
       "      <th>Dof</th>\n",
       "      <th>p-value</th>\n",
       "      <th>$\\chi^2$</th>\n",
       "      <th>$\\overline{\\chi}^2$</th>\n",
       "    </tr>\n",
       "  </thead>\n",
       "  <tbody>\n",
       "    <tr>\n",
       "      <th>0</th>\n",
       "      <td>8</td>\n",
       "      <td>0.999882</td>\n",
       "      <td>0.484241</td>\n",
       "      <td>0.06053</td>\n",
       "    </tr>\n",
       "  </tbody>\n",
       "</table>\n",
       "</div>"
      ],
      "text/plain": [
       "   Dof   p-value  $\\chi^2$  $\\overline{\\chi}^2$\n",
       "0    8  0.999882  0.484241              0.06053"
      ]
     },
     "metadata": {},
     "output_type": "display_data"
    },
    {
     "data": {
      "text/markdown": [
       "## Variables"
      ],
      "text/plain": [
       "<IPython.core.display.Markdown object>"
      ]
     },
     "metadata": {},
     "output_type": "display_data"
    },
    {
     "data": {
      "text/html": [
       "<div>\n",
       "<style scoped>\n",
       "    .dataframe tbody tr th:only-of-type {\n",
       "        vertical-align: middle;\n",
       "    }\n",
       "\n",
       "    .dataframe tbody tr th {\n",
       "        vertical-align: top;\n",
       "    }\n",
       "\n",
       "    .dataframe thead th {\n",
       "        text-align: right;\n",
       "    }\n",
       "</style>\n",
       "<table border=\"1\" class=\"dataframe\">\n",
       "  <thead>\n",
       "    <tr style=\"text-align: right;\">\n",
       "      <th></th>\n",
       "      <th>Name</th>\n",
       "      <th>Value</th>\n",
       "      <th>Std</th>\n",
       "    </tr>\n",
       "  </thead>\n",
       "  <tbody>\n",
       "    <tr>\n",
       "      <th>0</th>\n",
       "      <td>a</td>\n",
       "      <td>5.636521</td>\n",
       "      <td>0.981642</td>\n",
       "    </tr>\n",
       "    <tr>\n",
       "      <th>1</th>\n",
       "      <td>b</td>\n",
       "      <td>47.936299</td>\n",
       "      <td>0.020830</td>\n",
       "    </tr>\n",
       "    <tr>\n",
       "      <th>2</th>\n",
       "      <td>c</td>\n",
       "      <td>0.265798</td>\n",
       "      <td>0.059816</td>\n",
       "    </tr>\n",
       "    <tr>\n",
       "      <th>3</th>\n",
       "      <td>d</td>\n",
       "      <td>6.443584</td>\n",
       "      <td>1.074851</td>\n",
       "    </tr>\n",
       "  </tbody>\n",
       "</table>\n",
       "</div>"
      ],
      "text/plain": [
       "  Name      Value       Std\n",
       "0    a   5.636521  0.981642\n",
       "1    b  47.936299  0.020830\n",
       "2    c   0.265798  0.059816\n",
       "3    d   6.443584  1.074851"
      ]
     },
     "metadata": {},
     "output_type": "display_data"
    },
    {
     "data": {
      "image/png": "[encoded data removed]",
      "text/plain": [
       "<Figure size 400x400 with 1 Axes>"
      ]
     },
     "metadata": {
      "needs_background": "light"
     },
     "output_type": "display_data"
    }
   ],
   "source": [
    "# PLOTTING OUR DATA ---------------------------------------\n",
    "minVal, maxVal = 47.4, 48.5\n",
    "df_filtered = df[(df['Theta'] >= minVal) & (df['Theta'] <= maxVal)]\n",
    "#df_filtered = df\n",
    "xdata, ydata, error_x, error_y = df_filtered['Theta'], df_filtered['Imp/s'], 0, df_filtered['Imp_error']\n",
    "#results = ScatterPlot(xdata, ydata, error_x, error_y, 'red', r'$\\theta \\ (^\\circ)$', 'Imp/s')\n",
    "results = FUNCTION_FIT(xdata, ydata, error_x, error_y, 'red', r'$\\theta \\ (^\\circ)$', 'Imp/s', Gaussian)"
   ]
  },
  {
   "cell_type": "code",
   "execution_count": 94,
   "id": "07d1b305-068d-4e21-b512-34e94a2358d2",
   "metadata": {},
   "outputs": [
    {
     "data": {
      "text/html": [
       "<div>\n",
       "<style scoped>\n",
       "    .dataframe tbody tr th:only-of-type {\n",
       "        vertical-align: middle;\n",
       "    }\n",
       "\n",
       "    .dataframe tbody tr th {\n",
       "        vertical-align: top;\n",
       "    }\n",
       "\n",
       "    .dataframe thead th {\n",
       "        text-align: right;\n",
       "    }\n",
       "</style>\n",
       "<table border=\"1\" class=\"dataframe\">\n",
       "  <thead>\n",
       "    <tr style=\"text-align: right;\">\n",
       "      <th></th>\n",
       "      <th>Theta</th>\n",
       "      <th>Delta_Theta</th>\n",
       "      <th>sc hkl</th>\n",
       "      <th>fcc hkl</th>\n",
       "      <th>bcc hkl</th>\n",
       "      <th>Function_sc</th>\n",
       "      <th>Function_fcc</th>\n",
       "      <th>Function_bcc</th>\n",
       "      <th>Uncertainty_sc</th>\n",
       "      <th>Uncertainty_fcc</th>\n",
       "      <th>Uncertainty_bcc</th>\n",
       "    </tr>\n",
       "  </thead>\n",
       "  <tbody>\n",
       "    <tr>\n",
       "      <th>0</th>\n",
       "      <td>19.667087</td>\n",
       "      <td>0.005356</td>\n",
       "      <td>1</td>\n",
       "      <td>3</td>\n",
       "      <td>2</td>\n",
       "      <td>0.113269</td>\n",
       "      <td>0.037756</td>\n",
       "      <td>0.056634</td>\n",
       "      <td>0.000059</td>\n",
       "      <td>0.000020</td>\n",
       "      <td>0.000030</td>\n",
       "    </tr>\n",
       "    <tr>\n",
       "      <th>1</th>\n",
       "      <td>28.220516</td>\n",
       "      <td>0.022436</td>\n",
       "      <td>2</td>\n",
       "      <td>4</td>\n",
       "      <td>4</td>\n",
       "      <td>0.111801</td>\n",
       "      <td>0.055901</td>\n",
       "      <td>0.055901</td>\n",
       "      <td>0.000163</td>\n",
       "      <td>0.000082</td>\n",
       "      <td>0.000082</td>\n",
       "    </tr>\n",
       "    <tr>\n",
       "      <th>2</th>\n",
       "      <td>35.286107</td>\n",
       "      <td>0.019096</td>\n",
       "      <td>3</td>\n",
       "      <td>8</td>\n",
       "      <td>6</td>\n",
       "      <td>0.111230</td>\n",
       "      <td>0.041711</td>\n",
       "      <td>0.055615</td>\n",
       "      <td>0.000105</td>\n",
       "      <td>0.000039</td>\n",
       "      <td>0.000052</td>\n",
       "    </tr>\n",
       "    <tr>\n",
       "      <th>3</th>\n",
       "      <td>41.671051</td>\n",
       "      <td>0.014736</td>\n",
       "      <td>4</td>\n",
       "      <td>11</td>\n",
       "      <td>8</td>\n",
       "      <td>0.110507</td>\n",
       "      <td>0.040185</td>\n",
       "      <td>0.055254</td>\n",
       "      <td>0.000064</td>\n",
       "      <td>0.000023</td>\n",
       "      <td>0.000032</td>\n",
       "    </tr>\n",
       "    <tr>\n",
       "      <th>4</th>\n",
       "      <td>47.936299</td>\n",
       "      <td>0.020830</td>\n",
       "      <td>5</td>\n",
       "      <td>12</td>\n",
       "      <td>10</td>\n",
       "      <td>0.110232</td>\n",
       "      <td>0.045930</td>\n",
       "      <td>0.055116</td>\n",
       "      <td>0.000072</td>\n",
       "      <td>0.000030</td>\n",
       "      <td>0.000036</td>\n",
       "    </tr>\n",
       "  </tbody>\n",
       "</table>\n",
       "</div>"
      ],
      "text/plain": [
       "       Theta  Delta_Theta  sc hkl  fcc hkl  bcc hkl  Function_sc  \\\n",
       "0  19.667087     0.005356       1        3        2     0.113269   \n",
       "1  28.220516     0.022436       2        4        4     0.111801   \n",
       "2  35.286107     0.019096       3        8        6     0.111230   \n",
       "3  41.671051     0.014736       4       11        8     0.110507   \n",
       "4  47.936299     0.020830       5       12       10     0.110232   \n",
       "\n",
       "   Function_fcc  Function_bcc  Uncertainty_sc  Uncertainty_fcc  \\\n",
       "0      0.037756      0.056634        0.000059         0.000020   \n",
       "1      0.055901      0.055901        0.000163         0.000082   \n",
       "2      0.041711      0.055615        0.000105         0.000039   \n",
       "3      0.040185      0.055254        0.000064         0.000023   \n",
       "4      0.045930      0.055116        0.000072         0.000030   \n",
       "\n",
       "   Uncertainty_bcc  \n",
       "0         0.000030  \n",
       "1         0.000082  \n",
       "2         0.000052  \n",
       "3         0.000032  \n",
       "4         0.000036  "
      ]
     },
     "execution_count": 94,
     "metadata": {},
     "output_type": "execute_result"
    }
   ],
   "source": [
    "# SUMMARIZING DATA AND FINDING FUNCTION\n",
    "func = lambda params : ((np.sin(params[0]*np.pi/180))**2)/params[1]  # [theta, sum]\n",
    "thetas = [19.667087, 28.220516, 35.286107, 41.671051, 47.936299]\n",
    "thetas_uncert = [0.005356, 0.022436, 0.019096, 0.014736, 0.020830]\n",
    "sc = [1,2,3,4,5]\n",
    "fcc = [3,4,8,11,12]\n",
    "bcc = [2,4,6,8,10]\n",
    "dictData = {'Theta' : thetas, 'Delta_Theta' : thetas_uncert, 'sc hkl' : sc, 'fcc hkl' : fcc, 'bcc hkl' : bcc}\n",
    "df_global = pd.DataFrame(dictData)\n",
    "df_global['Function_sc'] = df_global.apply(lambda x: func([x['Theta'], x['sc hkl']]), axis=1)\n",
    "df_global['Function_fcc'] = df_global.apply(lambda x: func([x['Theta'], x['fcc hkl']]), axis=1)\n",
    "df_global['Function_bcc'] = df_global.apply(lambda x: func([x['Theta'], x['bcc hkl']]), axis=1)\n",
    "df_global['Uncertainty_sc'] = df_global.apply(lambda x: uncertainty_var([x['Theta'], x['sc hkl']], [x['Delta_Theta'], 0], func), axis=1)\n",
    "df_global['Uncertainty_fcc'] = df_global.apply(lambda x: uncertainty_var([x['Theta'], x['fcc hkl']], [x['Delta_Theta'], 0], func), axis=1)\n",
    "df_global['Uncertainty_bcc'] = df_global.apply(lambda x: uncertainty_var([x['Theta'], x['bcc hkl']], [x['Delta_Theta'], 0], func), axis=1)\n",
    "df_global"
   ]
  },
  {
   "cell_type": "code",
   "execution_count": 107,
   "id": "df9fdd92-7b94-4216-b462-25e3b0ed400f",
   "metadata": {},
   "outputs": [
    {
     "name": "stdout",
     "output_type": "stream",
     "text": [
      "Lattice constant a (pm)\n"
     ]
    },
    {
     "data": {
      "text/plain": [
       "(231.0102547578439, 0.03553337961944009)"
      ]
     },
     "execution_count": 107,
     "metadata": {},
     "output_type": "execute_result"
    }
   ],
   "source": [
    "# USING WEIGHTED AVERAGES TO DETERMINE THE FUNCTION VALUE\n",
    "function, function_uncert = weighted_avgs(df_global['Function_sc'], df_global['Uncertainty_sc'])\n",
    "wavelength = 0.15428e-9 # m \n",
    "\n",
    "# FINDING THE LATTICE CONSTANT\n",
    "lattice_constant_calc = lambda params: (params[1]/2)*np.sqrt(1/params[0])   # [function, lambda]\n",
    "lattice_constant, lattice_constant_uncert = lattice_constant_calc([function, wavelength]), uncertainty_var([function, wavelength], [function_uncert, 0], lattice_constant_calc)\n",
    "print('Lattice constant a (pm)')\n",
    "lattice_constant*1e12, lattice_constant_uncert *1e12"
   ]
  },
  {
   "cell_type": "code",
   "execution_count": 108,
   "id": "a65c2fdb-2d20-406c-b912-e8821c6603c6",
   "metadata": {},
   "outputs": [
    {
     "name": "stdout",
     "output_type": "stream",
     "text": [
      "Lattice constant a (pm)\n"
     ]
    },
    {
     "data": {
      "text/plain": [
       "(382.2236293692815, 0.059035449462301826)"
      ]
     },
     "execution_count": 108,
     "metadata": {},
     "output_type": "execute_result"
    }
   ],
   "source": [
    "# USING WEIGHTED AVERAGES TO DETERMINE THE FUNCTION VALUE\n",
    "function, function_uncert = weighted_avgs(df_global['Function_fcc'], df_global['Uncertainty_fcc'])\n",
    "wavelength = 0.15428e-9 # m \n",
    "\n",
    "# FINDING THE LATTICE CONSTANT\n",
    "lattice_constant_calc = lambda params: (params[1]/2)*np.sqrt(1/params[0])   # [function, lambda]\n",
    "lattice_constant, lattice_constant_uncert = lattice_constant_calc([function, wavelength]), uncertainty_var([function, wavelength], [function_uncert, 0], lattice_constant_calc)\n",
    "print('Lattice constant a (pm)')\n",
    "lattice_constant*1e12, lattice_constant_uncert *1e12"
   ]
  },
  {
   "cell_type": "code",
   "execution_count": 109,
   "id": "03a3da59-306f-426a-a886-900857d0d29f",
   "metadata": {},
   "outputs": [
    {
     "name": "stdout",
     "output_type": "stream",
     "text": [
      "Percentage error:  0.4952488219176395 %\n",
      "Experimental precision: 647447.6485748745 %\n",
      "Sigmas: 7.649248908506402e-07\n"
     ]
    }
   ],
   "source": [
    "# DETERMINING THE %ERROR\n",
    "exp, theor, unc = lattice_constant*1e12, 380.34, lattice_constant_uncert *1e12\n",
    "error = abs((exp-theor)/theor)*100\n",
    "print(\"Percentage error: \", error, \"%\")\n",
    "exp_precision = 100*exp/unc\n",
    "print('Experimental precision:', exp_precision, '%')\n",
    "print('Sigmas:', error/exp_precision)"
   ]
  },
  {
   "cell_type": "code",
   "execution_count": null,
   "id": "a3cbb158-86c3-4543-a31e-fdd5a2471c3b",
   "metadata": {},
   "outputs": [],
   "source": []
  }
 ],
 "metadata": {
  "kernelspec": {
   "display_name": "Python 3",
   "language": "python",
   "name": "python3"
  },
  "language_info": {
   "codemirror_mode": {
    "name": "ipython",
    "version": 3
   },
   "file_extension": ".py",
   "mimetype": "text/x-python",
   "name": "python",
   "nbconvert_exporter": "python",
   "pygments_lexer": "ipython3",
   "version": "3.8.8"
  }
 },
 "nbformat": 4,
 "nbformat_minor": 5
}
