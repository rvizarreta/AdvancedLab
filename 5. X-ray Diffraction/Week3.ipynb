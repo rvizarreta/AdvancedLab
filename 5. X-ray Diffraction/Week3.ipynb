{
 "cells": [
  {
   "cell_type": "code",
   "execution_count": 1,
   "id": "cdfd5ebb-1f4c-466d-8070-8820347fdb83",
   "metadata": {},
   "outputs": [],
   "source": [
    "# OPERATIONAL PACKAGES ---------------------------------------\n",
    "import numpy as np\n",
    "import matplotlib.pyplot as plt\n",
    "import pandas as pd\n",
    "from math import inf\n",
    "import scipy as sp\n",
    "from scipy.optimize import curve_fit\n",
    "\n",
    "# STYLE RESOURCES ---------------------------------------\n",
    "plt.style.reload_library()\n",
    "plt.style.use(['science', 'grid'])\n",
    "\n",
    "# FITTING PACKAGES ---------------------------------------\n",
    "from lmfit import Model, Parameters\n",
    "import scipy.optimize as optimization\n",
    "from IPython.display import display, Markdown"
   ]
  },
  {
   "cell_type": "code",
   "execution_count": 42,
   "id": "f1d65c0a-7cd3-4ba2-b860-5b89ae06853b",
   "metadata": {},
   "outputs": [],
   "source": [
    "# FUNCTION FOR PLOTTING A SCATTER PLOT ---------------------------------------\n",
    "def ScatterPlot(xdata,ydata,error_x,error_y,color,x_label,y_label):\n",
    "    \n",
    "    # SCATTER PLOT\n",
    "    fig = plt.figure(figsize=(5, 5), dpi=80)\n",
    "    plt.errorbar(xdata,ydata,yerr=error_y,capsize = 5,marker = 'o',markersize=4, linestyle = 'None',color='black')\n",
    "    plt.errorbar(xdata,ydata,xerr=error_x,capsize = 5,marker = 'o',markersize=4, linestyle = 'None',color='black')\n",
    "    \n",
    "    plt.xlabel(r'$\\textit{'+ x_label +'}$', fontsize = 16)\n",
    "    plt.ylabel(r'$\\textit{'+ y_label +'}$', fontsize = 16)\n",
    "    #plt.ticklabel_format(axis=\"y\", style=\"sci\", scilimits=(0,0))\n",
    "    #plt.ticklabel_format(axis=\"x\", style=\"sci\", scilimits=(0,0))\n",
    "    plt.xticks(np.arange(xdata.min(),xdata.max(),0.4), fontsize=15)\n",
    "    plt.yticks(fontsize=15)\n",
    "    #plt.xticks(fontsize=15)\n",
    "    plt.savefig(\"Figures/figure1.png\")\n",
    "\n",
    "# DEFINING A FUNCTION THAT RETURNS COUNTING ERROR\n",
    "count_error = lambda val : np.sqrt(val)\n",
    "\n",
    "# FITTING FUNCTIONS\n",
    "Gaussian = lambda x,a,b,c,d : a*np.exp((-(x-b)**2)/(2*c**2)) + d\n",
    "\n",
    "def FUNCTION_FIT(xdata, ydata, error_x, error_y, color, x_label, y_label, function):\n",
    "    \n",
    "    # Plotting scatter plot first\n",
    "    ScatterPlot(xdata,ydata,error_x,error_y,color,x_label,y_label)\n",
    "    \n",
    "    # Finding best fit value\n",
    "    optimal = optimization.curve_fit(function, xdata, ydata, np.array([350,35,1,5]), error_y)\n",
    "    a, b, c, d = optimal[0][0], optimal[0][1], optimal[0][2], optimal[0][3]\n",
    "    pars, cov = curve_fit(f=function, xdata=xdata, ydata=ydata, p0=[a, b, c, d], bounds=(-np.inf, np.inf))\n",
    "    stdevs = np.sqrt(np.diag(cov))\n",
    "    chi_squared = np.sum((function(xdata, *pars) - ydata)**2/error_y**2)\n",
    "    red_chi_squared = chi_squared/(np.size(ydata)-np.size(pars))\n",
    "    p_value = 1.000-sp.stats.chi2.cdf(chi_squared,(np.size(ydata)-np.size(pars)))\n",
    "    variables = ['a', 'b', 'c', 'd']\n",
    "    display(Markdown('## Fit Statistics'))\n",
    "    df2 = pd.DataFrame()\n",
    "    df2[\"Dof\"] = [np.size(ydata)-np.size(pars)]\n",
    "    df2[\"p-value\"] = [p_value]\n",
    "    df2[\"$\\chi^2$\"] = [chi_squared]\n",
    "    df2[\"$\\overline{\\chi}^2$\"] = [red_chi_squared]\n",
    "    display(df2)\n",
    "    \n",
    "    display(Markdown('## Variables'))\n",
    "    df = pd.DataFrame()\n",
    "    df[\"Name\"] = variables\n",
    "    df[\"Value\"] = pars\n",
    "    df[\"Std\"] = stdevs\n",
    "    display(df)\n",
    "     \n",
    "    # Plotting Fitted Function\n",
    "    a, b, c, d = pars[0], pars[1], pars[2], pars[3]\n",
    "    da, db, dc, dd = stdevs[0], stdevs[1], stdevs[2], stdevs[3]\n",
    "    x = np.arange(xdata.min(), xdata.max(), (xdata.max()-xdata.min())/1000) \n",
    "    y = function(x,a,b,c,d)\n",
    "    xmax = x[np.where(y == y.max())[0][0]]\n",
    "    label = r'$\\theta = \\ $' + str(\"{:.2f}\".format(xmax)) + '$^\\circ$'\n",
    "    plt.plot(x, function(x,a,b,c,d), color=color)\n",
    "    plt.axvline(x=xmax, color='k', linestyle='--', label=label)\n",
    "    \n",
    "    #VERTICAL LINE \n",
    "    plt.legend(prop={'size': 12}, loc=1)\n",
    "    \n",
    "    plt.savefig(\"Figures/figure.png\")\n",
    "    plt.show()\n",
    "    \n",
    "    return [variables, pars, stdevs]\n",
    "\n",
    "# DEFINING A FUNCTION THAT RETURNS THE UNCERTAINTY USING VARIATIONAL METHOD ---------------------------------------\n",
    "def uncertainty_var(values, deltas, function):\n",
    "    values, deltas = np.array(values), np.array(deltas)\n",
    "    delta_matrix = deltas*np.identity(values.shape[0])\n",
    "    sum = 0\n",
    "    for delta in delta_matrix:\n",
    "        sum += (0.5*(abs(function(values + delta) - function(values)) + abs(function(values-delta) - function(values))))**2\n",
    "    return np.sqrt(sum)\n",
    "\n",
    "# DEFINING A FUNCTION THAT RETURNS THE WEIGHTED AVERAGE WITH UNCERTAINTY\n",
    "def weighted_avgs(values, deltas):\n",
    "    weights = np.array(list(map(lambda x : 1/x**2, deltas)))\n",
    "    best_val = np.dot(np.array(values), weights)/weights.sum()\n",
    "    uncert = 1/np.sqrt(weights.sum())\n",
    "    return [best_val, uncert]"
   ]
  },
  {
   "cell_type": "markdown",
   "id": "03cb9fd5-b1a1-4aea-8d6c-fc7796f258d7",
   "metadata": {},
   "source": [
    "-----\n",
    "### COOPER\n",
    "-----"
   ]
  },
  {
   "cell_type": "code",
   "execution_count": 36,
   "id": "14a5bdfc-39a3-496f-9227-6f2b5e199ffc",
   "metadata": {},
   "outputs": [
    {
     "data": {
      "text/html": [
       "<div>\n",
       "<style scoped>\n",
       "    .dataframe tbody tr th:only-of-type {\n",
       "        vertical-align: middle;\n",
       "    }\n",
       "\n",
       "    .dataframe tbody tr th {\n",
       "        vertical-align: top;\n",
       "    }\n",
       "\n",
       "    .dataframe thead th {\n",
       "        text-align: right;\n",
       "    }\n",
       "</style>\n",
       "<table border=\"1\" class=\"dataframe\">\n",
       "  <thead>\n",
       "    <tr style=\"text-align: right;\">\n",
       "      <th></th>\n",
       "      <th>Theta</th>\n",
       "      <th>Imp/s</th>\n",
       "      <th>Imp_error</th>\n",
       "    </tr>\n",
       "  </thead>\n",
       "  <tbody>\n",
       "    <tr>\n",
       "      <th>0</th>\n",
       "      <td>15.0</td>\n",
       "      <td>41</td>\n",
       "      <td>6.403124</td>\n",
       "    </tr>\n",
       "    <tr>\n",
       "      <th>1</th>\n",
       "      <td>15.1</td>\n",
       "      <td>39</td>\n",
       "      <td>6.244998</td>\n",
       "    </tr>\n",
       "    <tr>\n",
       "      <th>2</th>\n",
       "      <td>15.2</td>\n",
       "      <td>45</td>\n",
       "      <td>6.708204</td>\n",
       "    </tr>\n",
       "    <tr>\n",
       "      <th>3</th>\n",
       "      <td>15.3</td>\n",
       "      <td>46</td>\n",
       "      <td>6.782330</td>\n",
       "    </tr>\n",
       "    <tr>\n",
       "      <th>4</th>\n",
       "      <td>15.4</td>\n",
       "      <td>49</td>\n",
       "      <td>7.000000</td>\n",
       "    </tr>\n",
       "    <tr>\n",
       "      <th>...</th>\n",
       "      <td>...</td>\n",
       "      <td>...</td>\n",
       "      <td>...</td>\n",
       "    </tr>\n",
       "    <tr>\n",
       "      <th>346</th>\n",
       "      <td>49.6</td>\n",
       "      <td>15</td>\n",
       "      <td>3.872983</td>\n",
       "    </tr>\n",
       "    <tr>\n",
       "      <th>347</th>\n",
       "      <td>49.7</td>\n",
       "      <td>13</td>\n",
       "      <td>3.605551</td>\n",
       "    </tr>\n",
       "    <tr>\n",
       "      <th>348</th>\n",
       "      <td>49.8</td>\n",
       "      <td>14</td>\n",
       "      <td>3.741657</td>\n",
       "    </tr>\n",
       "    <tr>\n",
       "      <th>349</th>\n",
       "      <td>49.9</td>\n",
       "      <td>19</td>\n",
       "      <td>4.358899</td>\n",
       "    </tr>\n",
       "    <tr>\n",
       "      <th>350</th>\n",
       "      <td>50.0</td>\n",
       "      <td>17</td>\n",
       "      <td>4.123106</td>\n",
       "    </tr>\n",
       "  </tbody>\n",
       "</table>\n",
       "<p>351 rows × 3 columns</p>\n",
       "</div>"
      ],
      "text/plain": [
       "     Theta  Imp/s  Imp_error\n",
       "0     15.0     41   6.403124\n",
       "1     15.1     39   6.244998\n",
       "2     15.2     45   6.708204\n",
       "3     15.3     46   6.782330\n",
       "4     15.4     49   7.000000\n",
       "..     ...    ...        ...\n",
       "346   49.6     15   3.872983\n",
       "347   49.7     13   3.605551\n",
       "348   49.8     14   3.741657\n",
       "349   49.9     19   4.358899\n",
       "350   50.0     17   4.123106\n",
       "\n",
       "[351 rows x 3 columns]"
      ]
     },
     "execution_count": 36,
     "metadata": {},
     "output_type": "execute_result"
    }
   ],
   "source": [
    "# READING THE DATA FROM GOOGLE SHEETS ---------------------------------------\n",
    "googleSheetId = '1qogTfmCQXAS6o2U-FCVnL6LUQsT4V-npiPWFMsUuwH8'\n",
    "workSheetName = 'Copper'\n",
    "URL = 'https://docs.google.com/spreadsheets/d/{0}/gviz/tq?tqx=out:csv&sheet={1}'.format(googleSheetId, workSheetName)\n",
    "df = pd.read_csv(URL)\n",
    "df['Imp_error'] = df.apply(lambda x: count_error(x['Imp/s']), axis=1)\n",
    "df"
   ]
  },
  {
   "cell_type": "code",
   "execution_count": 37,
   "id": "396b6e02-fd64-4aea-b56c-9bd97de49ab4",
   "metadata": {},
   "outputs": [
    {
     "data": {
      "text/markdown": [
       "## Fit Statistics"
      ],
      "text/plain": [
       "<IPython.core.display.Markdown object>"
      ]
     },
     "metadata": {},
     "output_type": "display_data"
    },
    {
     "data": {
      "text/html": [
       "<div>\n",
       "<style scoped>\n",
       "    .dataframe tbody tr th:only-of-type {\n",
       "        vertical-align: middle;\n",
       "    }\n",
       "\n",
       "    .dataframe tbody tr th {\n",
       "        vertical-align: top;\n",
       "    }\n",
       "\n",
       "    .dataframe thead th {\n",
       "        text-align: right;\n",
       "    }\n",
       "</style>\n",
       "<table border=\"1\" class=\"dataframe\">\n",
       "  <thead>\n",
       "    <tr style=\"text-align: right;\">\n",
       "      <th></th>\n",
       "      <th>Dof</th>\n",
       "      <th>p-value</th>\n",
       "      <th>$\\chi^2$</th>\n",
       "      <th>$\\overline{\\chi}^2$</th>\n",
       "    </tr>\n",
       "  </thead>\n",
       "  <tbody>\n",
       "    <tr>\n",
       "      <th>0</th>\n",
       "      <td>8</td>\n",
       "      <td>0.967756</td>\n",
       "      <td>2.364363</td>\n",
       "      <td>0.295545</td>\n",
       "    </tr>\n",
       "  </tbody>\n",
       "</table>\n",
       "</div>"
      ],
      "text/plain": [
       "   Dof   p-value  $\\chi^2$  $\\overline{\\chi}^2$\n",
       "0    8  0.967756  2.364363             0.295545"
      ]
     },
     "metadata": {},
     "output_type": "display_data"
    },
    {
     "data": {
      "text/markdown": [
       "## Variables"
      ],
      "text/plain": [
       "<IPython.core.display.Markdown object>"
      ]
     },
     "metadata": {},
     "output_type": "display_data"
    },
    {
     "data": {
      "text/html": [
       "<div>\n",
       "<style scoped>\n",
       "    .dataframe tbody tr th:only-of-type {\n",
       "        vertical-align: middle;\n",
       "    }\n",
       "\n",
       "    .dataframe tbody tr th {\n",
       "        vertical-align: top;\n",
       "    }\n",
       "\n",
       "    .dataframe thead th {\n",
       "        text-align: right;\n",
       "    }\n",
       "</style>\n",
       "<table border=\"1\" class=\"dataframe\">\n",
       "  <thead>\n",
       "    <tr style=\"text-align: right;\">\n",
       "      <th></th>\n",
       "      <th>Name</th>\n",
       "      <th>Value</th>\n",
       "      <th>Std</th>\n",
       "    </tr>\n",
       "  </thead>\n",
       "  <tbody>\n",
       "    <tr>\n",
       "      <th>0</th>\n",
       "      <td>a</td>\n",
       "      <td>27.619455</td>\n",
       "      <td>2.572923</td>\n",
       "    </tr>\n",
       "    <tr>\n",
       "      <th>1</th>\n",
       "      <td>b</td>\n",
       "      <td>22.938139</td>\n",
       "      <td>0.016605</td>\n",
       "    </tr>\n",
       "    <tr>\n",
       "      <th>2</th>\n",
       "      <td>c</td>\n",
       "      <td>0.198980</td>\n",
       "      <td>0.026392</td>\n",
       "    </tr>\n",
       "    <tr>\n",
       "      <th>3</th>\n",
       "      <td>d</td>\n",
       "      <td>21.659849</td>\n",
       "      <td>2.159731</td>\n",
       "    </tr>\n",
       "  </tbody>\n",
       "</table>\n",
       "</div>"
      ],
      "text/plain": [
       "  Name      Value       Std\n",
       "0    a  27.619455  2.572923\n",
       "1    b  22.938139  0.016605\n",
       "2    c   0.198980  0.026392\n",
       "3    d  21.659849  2.159731"
      ]
     },
     "metadata": {},
     "output_type": "display_data"
    },
    {
     "data": {
      "image/png": "[encoded data removed]",
      "text/plain": [
       "<Figure size 400x400 with 1 Axes>"
      ]
     },
     "metadata": {
      "needs_background": "light"
     },
     "output_type": "display_data"
    }
   ],
   "source": [
    "# PLOTTING OUR DATA ---------------------------------------\n",
    "minVal, maxVal = 22.3, 23.4\n",
    "df_filtered = df[(df['Theta'] >= minVal) & (df['Theta'] <= maxVal)]\n",
    "#df_filtered = df\n",
    "xdata, ydata, error_x, error_y = df_filtered['Theta'], df_filtered['Imp/s'], 0, df_filtered['Imp_error']\n",
    "#results = ScatterPlot(xdata, ydata, error_x, error_y, 'red', r'$\\theta \\ (^\\circ)$', 'Imp/s')\n",
    "results = FUNCTION_FIT(xdata, ydata, error_x, error_y, 'red', r'$\\theta \\ (^\\circ)$', 'Imp/s', Gaussian)"
   ]
  },
  {
   "cell_type": "code",
   "execution_count": 25,
   "id": "7ebddc18-bbc7-4932-b9b7-96a1713184c7",
   "metadata": {},
   "outputs": [
    {
     "data": {
      "text/html": [
       "<div>\n",
       "<style scoped>\n",
       "    .dataframe tbody tr th:only-of-type {\n",
       "        vertical-align: middle;\n",
       "    }\n",
       "\n",
       "    .dataframe tbody tr th {\n",
       "        vertical-align: top;\n",
       "    }\n",
       "\n",
       "    .dataframe thead th {\n",
       "        text-align: right;\n",
       "    }\n",
       "</style>\n",
       "<table border=\"1\" class=\"dataframe\">\n",
       "  <thead>\n",
       "    <tr style=\"text-align: right;\">\n",
       "      <th></th>\n",
       "      <th>Theta</th>\n",
       "      <th>Delta_Theta</th>\n",
       "      <th>sc hkl</th>\n",
       "      <th>fcc hkl</th>\n",
       "      <th>bcc hkl</th>\n",
       "      <th>Function_sc</th>\n",
       "      <th>Function_fcc</th>\n",
       "      <th>Function_bcc</th>\n",
       "      <th>Uncertainty_sc</th>\n",
       "      <th>Uncertainty_fcc</th>\n",
       "      <th>Uncertainty_bcc</th>\n",
       "    </tr>\n",
       "  </thead>\n",
       "  <tbody>\n",
       "    <tr>\n",
       "      <th>0</th>\n",
       "      <td>22.938139</td>\n",
       "      <td>0.016605</td>\n",
       "      <td>1</td>\n",
       "      <td>3</td>\n",
       "      <td>2</td>\n",
       "      <td>0.151895</td>\n",
       "      <td>0.050632</td>\n",
       "      <td>0.075947</td>\n",
       "      <td>0.000208</td>\n",
       "      <td>0.000069</td>\n",
       "      <td>0.000104</td>\n",
       "    </tr>\n",
       "    <tr>\n",
       "      <th>1</th>\n",
       "      <td>25.549866</td>\n",
       "      <td>0.002310</td>\n",
       "      <td>2</td>\n",
       "      <td>4</td>\n",
       "      <td>4</td>\n",
       "      <td>0.093008</td>\n",
       "      <td>0.046504</td>\n",
       "      <td>0.046504</td>\n",
       "      <td>0.000016</td>\n",
       "      <td>0.000008</td>\n",
       "      <td>0.000008</td>\n",
       "    </tr>\n",
       "  </tbody>\n",
       "</table>\n",
       "</div>"
      ],
      "text/plain": [
       "       Theta  Delta_Theta  sc hkl  fcc hkl  bcc hkl  Function_sc  \\\n",
       "0  22.938139     0.016605       1        3        2     0.151895   \n",
       "1  25.549866     0.002310       2        4        4     0.093008   \n",
       "\n",
       "   Function_fcc  Function_bcc  Uncertainty_sc  Uncertainty_fcc  \\\n",
       "0      0.050632      0.075947        0.000208         0.000069   \n",
       "1      0.046504      0.046504        0.000016         0.000008   \n",
       "\n",
       "   Uncertainty_bcc  \n",
       "0         0.000104  \n",
       "1         0.000008  "
      ]
     },
     "execution_count": 25,
     "metadata": {},
     "output_type": "execute_result"
    }
   ],
   "source": [
    "# SUMMARIZING DATA AND FINDING FUNCTION\n",
    "func = lambda params : ((np.sin(params[0]*np.pi/180))**2)/params[1]  # [theta, sum]\n",
    "thetas = [22.938139, 25.549866]\n",
    "thetas_uncert = [0.016605, 0.002310]\n",
    "sc = [1,2]\n",
    "fcc = [3,4]\n",
    "bcc = [2,4]\n",
    "dictData = {'Theta' : thetas, 'Delta_Theta' : thetas_uncert, 'sc hkl' : sc, 'fcc hkl' : fcc, 'bcc hkl' : bcc}\n",
    "df_global = pd.DataFrame(dictData)\n",
    "df_global['Function_sc'] = df_global.apply(lambda x: func([x['Theta'], x['sc hkl']]), axis=1)\n",
    "df_global['Function_fcc'] = df_global.apply(lambda x: func([x['Theta'], x['fcc hkl']]), axis=1)\n",
    "df_global['Function_bcc'] = df_global.apply(lambda x: func([x['Theta'], x['bcc hkl']]), axis=1)\n",
    "df_global['Uncertainty_sc'] = df_global.apply(lambda x: uncertainty_var([x['Theta'], x['sc hkl']], [x['Delta_Theta'], 0], func), axis=1)\n",
    "df_global['Uncertainty_fcc'] = df_global.apply(lambda x: uncertainty_var([x['Theta'], x['fcc hkl']], [x['Delta_Theta'], 0], func), axis=1)\n",
    "df_global['Uncertainty_bcc'] = df_global.apply(lambda x: uncertainty_var([x['Theta'], x['bcc hkl']], [x['Delta_Theta'], 0], func), axis=1)\n",
    "df_global"
   ]
  },
  {
   "cell_type": "code",
   "execution_count": 26,
   "id": "6c45a308-f79f-4d56-a101-83b90f43a48b",
   "metadata": {},
   "outputs": [
    {
     "name": "stdout",
     "output_type": "stream",
     "text": [
      "Lattice constant a (pm)\n"
     ]
    },
    {
     "data": {
      "text/plain": [
       "(357.5117928236449, 0.029927062401925757)"
      ]
     },
     "execution_count": 26,
     "metadata": {},
     "output_type": "execute_result"
    }
   ],
   "source": [
    "# USING WEIGHTED AVERAGES TO DETERMINE THE FUNCTION VALUE\n",
    "function, function_uncert = weighted_avgs(df_global['Function_fcc'], df_global['Uncertainty_fcc'])\n",
    "wavelength = 0.15428e-9 # m \n",
    "\n",
    "# FINDING THE LATTICE CONSTANT\n",
    "lattice_constant_calc = lambda params: (params[1]/2)*np.sqrt(1/params[0])   # [function, lambda]\n",
    "lattice_constant, lattice_constant_uncert = lattice_constant_calc([function, wavelength]), uncertainty_var([function, wavelength], [function_uncert, 0], lattice_constant_calc)\n",
    "print('Lattice constant a (pm)')\n",
    "lattice_constant*1e12, lattice_constant_uncert *1e12"
   ]
  },
  {
   "cell_type": "code",
   "execution_count": 27,
   "id": "6ecaaf97-e0c0-4b66-beb2-d0cad81ec908",
   "metadata": {},
   "outputs": [
    {
     "name": "stdout",
     "output_type": "stream",
     "text": [
      "Percentage error:  1.1005026906290942 %\n",
      "Experimental precision: 1194610.3764619397 %\n",
      "Sigmas: 9.212231136719549e-07\n"
     ]
    }
   ],
   "source": [
    "# DETERMINING THE %ERROR\n",
    "exp, theor, unc = lattice_constant*1e12, 361.49, lattice_constant_uncert *1e12\n",
    "error = abs((exp-theor)/theor)*100\n",
    "print(\"Percentage error: \", error, \"%\")\n",
    "exp_precision = 100*exp/unc\n",
    "print('Experimental precision:', exp_precision, '%')\n",
    "print('Sigmas:', error/exp_precision)"
   ]
  },
  {
   "cell_type": "markdown",
   "id": "a9c26af1-2f9f-489f-a4b3-befde94ccd54",
   "metadata": {},
   "source": [
    "-----\n",
    "### SILICON\n",
    "-----"
   ]
  },
  {
   "cell_type": "code",
   "execution_count": 40,
   "id": "a766f673-1c13-4840-a153-58bbab0f0ccd",
   "metadata": {},
   "outputs": [
    {
     "data": {
      "text/html": [
       "<div>\n",
       "<style scoped>\n",
       "    .dataframe tbody tr th:only-of-type {\n",
       "        vertical-align: middle;\n",
       "    }\n",
       "\n",
       "    .dataframe tbody tr th {\n",
       "        vertical-align: top;\n",
       "    }\n",
       "\n",
       "    .dataframe thead th {\n",
       "        text-align: right;\n",
       "    }\n",
       "</style>\n",
       "<table border=\"1\" class=\"dataframe\">\n",
       "  <thead>\n",
       "    <tr style=\"text-align: right;\">\n",
       "      <th></th>\n",
       "      <th>Theta</th>\n",
       "      <th>Imp/s</th>\n",
       "      <th>Imp_error</th>\n",
       "    </tr>\n",
       "  </thead>\n",
       "  <tbody>\n",
       "    <tr>\n",
       "      <th>0</th>\n",
       "      <td>20.0</td>\n",
       "      <td>14</td>\n",
       "      <td>3.741657</td>\n",
       "    </tr>\n",
       "    <tr>\n",
       "      <th>1</th>\n",
       "      <td>20.1</td>\n",
       "      <td>21</td>\n",
       "      <td>4.582576</td>\n",
       "    </tr>\n",
       "    <tr>\n",
       "      <th>2</th>\n",
       "      <td>20.2</td>\n",
       "      <td>28</td>\n",
       "      <td>5.291503</td>\n",
       "    </tr>\n",
       "    <tr>\n",
       "      <th>3</th>\n",
       "      <td>20.3</td>\n",
       "      <td>23</td>\n",
       "      <td>4.795832</td>\n",
       "    </tr>\n",
       "    <tr>\n",
       "      <th>4</th>\n",
       "      <td>20.4</td>\n",
       "      <td>17</td>\n",
       "      <td>4.123106</td>\n",
       "    </tr>\n",
       "    <tr>\n",
       "      <th>...</th>\n",
       "      <td>...</td>\n",
       "      <td>...</td>\n",
       "      <td>...</td>\n",
       "    </tr>\n",
       "    <tr>\n",
       "      <th>196</th>\n",
       "      <td>39.6</td>\n",
       "      <td>2</td>\n",
       "      <td>1.414214</td>\n",
       "    </tr>\n",
       "    <tr>\n",
       "      <th>197</th>\n",
       "      <td>39.7</td>\n",
       "      <td>2</td>\n",
       "      <td>1.414214</td>\n",
       "    </tr>\n",
       "    <tr>\n",
       "      <th>198</th>\n",
       "      <td>39.8</td>\n",
       "      <td>3</td>\n",
       "      <td>1.732051</td>\n",
       "    </tr>\n",
       "    <tr>\n",
       "      <th>199</th>\n",
       "      <td>39.9</td>\n",
       "      <td>0</td>\n",
       "      <td>0.000000</td>\n",
       "    </tr>\n",
       "    <tr>\n",
       "      <th>200</th>\n",
       "      <td>40.0</td>\n",
       "      <td>2</td>\n",
       "      <td>1.414214</td>\n",
       "    </tr>\n",
       "  </tbody>\n",
       "</table>\n",
       "<p>201 rows × 3 columns</p>\n",
       "</div>"
      ],
      "text/plain": [
       "     Theta  Imp/s  Imp_error\n",
       "0     20.0     14   3.741657\n",
       "1     20.1     21   4.582576\n",
       "2     20.2     28   5.291503\n",
       "3     20.3     23   4.795832\n",
       "4     20.4     17   4.123106\n",
       "..     ...    ...        ...\n",
       "196   39.6      2   1.414214\n",
       "197   39.7      2   1.414214\n",
       "198   39.8      3   1.732051\n",
       "199   39.9      0   0.000000\n",
       "200   40.0      2   1.414214\n",
       "\n",
       "[201 rows x 3 columns]"
      ]
     },
     "execution_count": 40,
     "metadata": {},
     "output_type": "execute_result"
    }
   ],
   "source": [
    "# READING THE DATA FROM GOOGLE SHEETS ---------------------------------------\n",
    "googleSheetId = '1qogTfmCQXAS6o2U-FCVnL6LUQsT4V-npiPWFMsUuwH8'\n",
    "workSheetName = 'Silicon'\n",
    "URL = 'https://docs.google.com/spreadsheets/d/{0}/gviz/tq?tqx=out:csv&sheet={1}'.format(googleSheetId, workSheetName)\n",
    "df = pd.read_csv(URL)\n",
    "df['Imp_error'] = df.apply(lambda x: count_error(x['Imp/s']), axis=1)\n",
    "df"
   ]
  },
  {
   "cell_type": "code",
   "execution_count": 56,
   "id": "70eea619-484f-4be9-a4bd-18eec3a72f90",
   "metadata": {},
   "outputs": [
    {
     "data": {
      "text/markdown": [
       "## Fit Statistics"
      ],
      "text/plain": [
       "<IPython.core.display.Markdown object>"
      ]
     },
     "metadata": {},
     "output_type": "display_data"
    },
    {
     "data": {
      "text/html": [
       "<div>\n",
       "<style scoped>\n",
       "    .dataframe tbody tr th:only-of-type {\n",
       "        vertical-align: middle;\n",
       "    }\n",
       "\n",
       "    .dataframe tbody tr th {\n",
       "        vertical-align: top;\n",
       "    }\n",
       "\n",
       "    .dataframe thead th {\n",
       "        text-align: right;\n",
       "    }\n",
       "</style>\n",
       "<table border=\"1\" class=\"dataframe\">\n",
       "  <thead>\n",
       "    <tr style=\"text-align: right;\">\n",
       "      <th></th>\n",
       "      <th>Dof</th>\n",
       "      <th>p-value</th>\n",
       "      <th>$\\chi^2$</th>\n",
       "      <th>$\\overline{\\chi}^2$</th>\n",
       "    </tr>\n",
       "  </thead>\n",
       "  <tbody>\n",
       "    <tr>\n",
       "      <th>0</th>\n",
       "      <td>14</td>\n",
       "      <td>0.875919</td>\n",
       "      <td>8.249646</td>\n",
       "      <td>0.58926</td>\n",
       "    </tr>\n",
       "  </tbody>\n",
       "</table>\n",
       "</div>"
      ],
      "text/plain": [
       "   Dof   p-value  $\\chi^2$  $\\overline{\\chi}^2$\n",
       "0   14  0.875919  8.249646              0.58926"
      ]
     },
     "metadata": {},
     "output_type": "display_data"
    },
    {
     "data": {
      "text/markdown": [
       "## Variables"
      ],
      "text/plain": [
       "<IPython.core.display.Markdown object>"
      ]
     },
     "metadata": {},
     "output_type": "display_data"
    },
    {
     "data": {
      "text/html": [
       "<div>\n",
       "<style scoped>\n",
       "    .dataframe tbody tr th:only-of-type {\n",
       "        vertical-align: middle;\n",
       "    }\n",
       "\n",
       "    .dataframe tbody tr th {\n",
       "        vertical-align: top;\n",
       "    }\n",
       "\n",
       "    .dataframe thead th {\n",
       "        text-align: right;\n",
       "    }\n",
       "</style>\n",
       "<table border=\"1\" class=\"dataframe\">\n",
       "  <thead>\n",
       "    <tr style=\"text-align: right;\">\n",
       "      <th></th>\n",
       "      <th>Name</th>\n",
       "      <th>Value</th>\n",
       "      <th>Std</th>\n",
       "    </tr>\n",
       "  </thead>\n",
       "  <tbody>\n",
       "    <tr>\n",
       "      <th>0</th>\n",
       "      <td>a</td>\n",
       "      <td>379.379468</td>\n",
       "      <td>4.449980</td>\n",
       "    </tr>\n",
       "    <tr>\n",
       "      <th>1</th>\n",
       "      <td>b</td>\n",
       "      <td>35.064855</td>\n",
       "      <td>0.001704</td>\n",
       "    </tr>\n",
       "    <tr>\n",
       "      <th>2</th>\n",
       "      <td>c</td>\n",
       "      <td>0.130137</td>\n",
       "      <td>0.001874</td>\n",
       "    </tr>\n",
       "    <tr>\n",
       "      <th>3</th>\n",
       "      <td>d</td>\n",
       "      <td>6.135785</td>\n",
       "      <td>1.603096</td>\n",
       "    </tr>\n",
       "  </tbody>\n",
       "</table>\n",
       "</div>"
      ],
      "text/plain": [
       "  Name       Value       Std\n",
       "0    a  379.379468  4.449980\n",
       "1    b   35.064855  0.001704\n",
       "2    c    0.130137  0.001874\n",
       "3    d    6.135785  1.603096"
      ]
     },
     "metadata": {},
     "output_type": "display_data"
    },
    {
     "data": {
      "image/png": "[encoded data removed]",
      "text/plain": [
       "<Figure size 400x400 with 1 Axes>"
      ]
     },
     "metadata": {
      "needs_background": "light"
     },
     "output_type": "display_data"
    }
   ],
   "source": [
    "# PLOTTING OUR DATA ---------------------------------------\n",
    "minVal, maxVal = 34.25, 36\n",
    "df_filtered = df[(df['Theta'] >= minVal) & (df['Theta'] <= maxVal)]\n",
    "#df_filtered = df\n",
    "xdata, ydata, error_x, error_y = df_filtered['Theta'], df_filtered['Imp/s'], 0, df_filtered['Imp_error']\n",
    "#results = ScatterPlot(xdata, ydata, error_x, error_y, 'red', r'$\\theta \\ (^\\circ)$', 'Imp/s')\n",
    "results = FUNCTION_FIT(xdata, ydata, error_x, error_y, 'red', r'$\\theta \\ (^\\circ)$', 'Imp/s', Gaussian)"
   ]
  },
  {
   "cell_type": "code",
   "execution_count": 65,
   "id": "8cf7549a-d46e-4aa9-aa61-39f562ef4de1",
   "metadata": {},
   "outputs": [
    {
     "data": {
      "text/plain": [
       "16.359476028571372"
      ]
     },
     "execution_count": 65,
     "metadata": {},
     "output_type": "execute_result"
    }
   ],
   "source": [
    "4*((543.09e-12)**2)*(np.sin(np.radians(35.064855))**2)/wavelength**2"
   ]
  },
  {
   "cell_type": "code",
   "execution_count": null,
   "id": "91f47d83-21bf-4df3-967f-71a12c504f71",
   "metadata": {},
   "outputs": [],
   "source": []
  }
 ],
 "metadata": {
  "kernelspec": {
   "display_name": "Python 3",
   "language": "python",
   "name": "python3"
  },
  "language_info": {
   "codemirror_mode": {
    "name": "ipython",
    "version": 3
   },
   "file_extension": ".py",
   "mimetype": "text/x-python",
   "name": "python",
   "nbconvert_exporter": "python",
   "pygments_lexer": "ipython3",
   "version": "3.8.8"
  }
 },
 "nbformat": 4,
 "nbformat_minor": 5
}
