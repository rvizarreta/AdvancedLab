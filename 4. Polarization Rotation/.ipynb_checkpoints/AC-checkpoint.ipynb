{
 "cells": [
  {
   "cell_type": "code",
   "execution_count": null,
   "id": "7e03bd47-aa35-4163-9cb0-b3f65efc3a82",
   "metadata": {},
   "outputs": [],
   "source": [
    "# OPERATIONAL PACKAGES ---------------------------------------\n",
    "import numpy as np\n",
    "import matplotlib.pyplot as plt\n",
    "import pandas as pd\n",
    "from math import inf\n",
    "import scipy as sp\n",
    "from scipy.optimize import curve_fit\n",
    "\n",
    "# STYLE RESOURCES ---------------------------------------\n",
    "plt.style.reload_library()\n",
    "plt.style.use(['science', 'grid'])\n",
    "\n",
    "# FITTING PACKAGES ---------------------------------------\n",
    "from lmfit import Model, Parameters\n",
    "import scipy.optimize as optimization\n",
    "from IPython.display import display, Markdown"
   ]
  },
  {
   "cell_type": "code",
   "execution_count": null,
   "id": "91d36155-ae72-42b4-892e-3f919663b6bc",
   "metadata": {},
   "outputs": [],
   "source": []
  }
 ],
 "metadata": {
  "kernelspec": {
   "display_name": "Python 3",
   "language": "python",
   "name": "python3"
  },
  "language_info": {
   "codemirror_mode": {
    "name": "ipython",
    "version": 3
   },
   "file_extension": ".py",
   "mimetype": "text/x-python",
   "name": "python",
   "nbconvert_exporter": "python",
   "pygments_lexer": "ipython3",
   "version": "3.8.8"
  }
 },
 "nbformat": 4,
 "nbformat_minor": 5
}
