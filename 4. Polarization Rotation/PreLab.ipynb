{
 "cells": [
  {
   "cell_type": "code",
   "execution_count": 1,
   "id": "7b8fbe33-c161-4e7e-8630-c0511302454a",
   "metadata": {},
   "outputs": [],
   "source": [
    "import numpy as np"
   ]
  },
  {
   "cell_type": "code",
   "execution_count": 10,
   "id": "f3df40c0-8c9b-4603-85bf-cf90f8e37957",
   "metadata": {},
   "outputs": [],
   "source": [
    "z = lambda w : np.sqrt(4.5**2 + (6e-3*w)**2)\n",
    "f0 = lambda L, C : 1/(2*np.pi*np.sqrt(L*C))"
   ]
  },
  {
   "cell_type": "code",
   "execution_count": 6,
   "id": "08b7b83f-54b0-4228-b98d-a7cd66f41e8b",
   "metadata": {},
   "outputs": [],
   "source": [
    "w = np.array([1e3, 50e3])"
   ]
  },
  {
   "cell_type": "code",
   "execution_count": 7,
   "id": "a34a6c39-e91b-4104-be78-36fe2c281580",
   "metadata": {},
   "outputs": [
    {
     "data": {
      "text/plain": [
       "array([  7.5      , 300.0337481])"
      ]
     },
     "execution_count": 7,
     "metadata": {},
     "output_type": "execute_result"
    }
   ],
   "source": [
    "z(w)"
   ]
  },
  {
   "cell_type": "code",
   "execution_count": 12,
   "id": "bd6f820e-0a30-4c50-9a73-04cf2e7e1e6f",
   "metadata": {},
   "outputs": [
    {
     "data": {
      "text/plain": [
       "2054.6814802049994"
      ]
     },
     "execution_count": 12,
     "metadata": {},
     "output_type": "execute_result"
    }
   ],
   "source": [
    "f0(6e-3, 1e-6)"
   ]
  },
  {
   "cell_type": "code",
   "execution_count": 14,
   "id": "54b7f531-dc0f-4411-bad2-97d41d84480f",
   "metadata": {},
   "outputs": [
    {
     "data": {
      "text/plain": [
       "1.5666666666666667"
      ]
     },
     "execution_count": 14,
     "metadata": {},
     "output_type": "execute_result"
    }
   ],
   "source": [
    "9.4/6"
   ]
  },
  {
   "cell_type": "code",
   "execution_count": null,
   "id": "2f1971fd-34e0-4e01-a7e3-17a9dc99ae68",
   "metadata": {},
   "outputs": [],
   "source": []
  }
 ],
 "metadata": {
  "kernelspec": {
   "display_name": "Python 3",
   "language": "python",
   "name": "python3"
  },
  "language_info": {
   "codemirror_mode": {
    "name": "ipython",
    "version": 3
   },
   "file_extension": ".py",
   "mimetype": "text/x-python",
   "name": "python",
   "nbconvert_exporter": "python",
   "pygments_lexer": "ipython3",
   "version": "3.8.8"
  }
 },
 "nbformat": 4,
 "nbformat_minor": 5
}
