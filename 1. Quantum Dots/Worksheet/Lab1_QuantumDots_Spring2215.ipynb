{
 "cells": [
  {
   "cell_type": "markdown",
   "metadata": {},
   "source": [
    "# This is a template JupyterNotebook.  You will not turn this in for grading, but it provides much template Python code that you will find useful.  If you like JupyterNotebooks then use this as the starting point for all of your later analysis work.  If not, you can copy the necessary code bits out to Spyder or your favorite environment.  You must actively record what you do during lab periods in your OneNote notebook!"
   ]
  },
  {
   "cell_type": "markdown",
   "metadata": {},
   "source": [
    "## Dr. McLane's code template from Modern Lab.  This will not execute in a meaningful way in this notebook, but use it as a reference."
   ]
  },
  {
   "cell_type": "code",
   "execution_count": null,
   "metadata": {},
   "outputs": [],
   "source": [
    "\n",
    "###### IMPORTANT #########\n",
    "\n",
    "#This code does not run as-is. It is used as a repository for how to do\n",
    "#many things you might be interested in doing for this class, it is not the only\n",
    "#way to do these things (or neccesarily the best)k just a good starting place\n",
    "\n",
    "\n",
    "\n",
    "#import numpy to handle arrays\n",
    "import numpy as np\n",
    "\n",
    "#import matplotlib to create plots\n",
    "import matplotlib.pyplot as plt\n",
    "\n",
    "#allows for curve fitting\n",
    "import scipy.optimize as opt;\n",
    "\n",
    "#import data. assumes comments are # are data is separated by white space\n",
    "#the unpack is required to read in vertical data arrayss\n",
    "\n",
    "xdata,ydata, yerror = np.loadtxt('extension-data.txt' ,unpack=True)\n",
    "\n",
    "\n",
    "\n",
    "#the function we are fitting, called func. You can create whatver you want\n",
    "\n",
    "def func(x,a,b):\n",
    "    return a*x+b\n",
    "\n",
    "\n",
    "#The code below is useful for creating arrays that are smaller parts of \n",
    "# Larger arrays.  EXTREMELY useful for when you only want to fit part of your data\n",
    "q = np.array([1,2,3,4,5,6])\n",
    "p = np.array([9,8,7,2,1,0])\n",
    "\n",
    "qnew=q[np.where( (q>2.5) & (q<4.5) )]\n",
    "pnew=p[np.where( (q>2.5) & (q<4.5) )]\n",
    "\n",
    "print(qnew)\n",
    "print(pnew)\n",
    "\n",
    "#Below shows you how to find the max value in an array, and how to find the\n",
    "#corresponding value at that same posistion in a paired array. You would\n",
    "# use this for example if you want to find the max of an y array, and find the x value\n",
    "# at the that max\n",
    "\n",
    "max_p = max(p)          # Find the maximum p value\n",
    "max_q = q[np.argmax(p)] # Find the p value corresponding to the maximum q value\n",
    "print max_x, max_y      # prints the max values\n",
    "\n",
    "#Sometimes your fit will look 'chunky' as the data points are far apart, and\n",
    "#python just plays connect the dots.  Using linspace you can create a new\n",
    "#array of poitns to use for the xvalues for when you replot the fit.  You would\n",
    "#just replace 'xdata' above with 'plotdat' that is below.  \n",
    "\n",
    "plotdata= np.linspace(10,60)\n",
    "\n",
    "#fit the data\n",
    "#The sigma = means you will be doing a fit weighted by the uncertainty in y\n",
    "\n",
    "parameters, covariance = opt.curve_fit(func, xdata, ydata,sigma = yerror)\n",
    "\n",
    "#If you have a fit that is not a line, you need to include initial guesses for the parameters\n",
    "guesses=[1,2,4]\n",
    "parameters, covariance = opt.curve_fit(func, xdata, ydata,sigma = yerror, p0=guesses)\n",
    "\n",
    "#Plots the data.  You can play around with the paramters of the plot to change color, shape, etc\n",
    "#You will likely want to give it a better name than 'data' and will want to change colors, etc\n",
    "# when you have multiple fits ont he same page\n",
    "plt.errorbar(xdata,ydata,yerr=yerror,capsize = 5,marker = 'o',linestyle = 'None', label = 'data')\n",
    "\n",
    "#Plots the fit\n",
    "plt.plot(xdata,func(xdata,*parameters),label = 'fit')\n",
    "\n",
    "\n",
    "#This code is for creating subplots.  It's a different way of plotting\n",
    "#(creating axes) but  it can make much prettier plots\n",
    "fig, ((ax1, ax2), (ax3, ax4)) = plt.subplots(2, 2)\n",
    "fig.suptitle('Sharing x per column, y per row')\n",
    "ax1.plot(x, y)\n",
    "ax2.plot(x, y**2, 'tab:orange')\n",
    "ax3.plot(x, -y, 'tab:green')\n",
    "ax4.plot(x, -y**2, 'tab:red')\n",
    "\n",
    "for ax in fig.get_axes():\n",
    "    ax.label_outer()\n",
    "\n",
    "#insert the legend\n",
    "plt.legend(loc = 'upper left')\n",
    "\n",
    "\n",
    "#This prints the fitting parameter\n",
    "print(parameters)\n",
    "\n",
    "#calculate the error on the fits from the covariance matrix\n",
    "perr = np.sqrt(np.diag(covariance))\n",
    "\n",
    "#Print the erros on the fits\n",
    "\n",
    "\n",
    "print(perr)\n",
    "\n",
    "#The covariance is related to the error, we don't use it in this course except\n",
    "#That it is used too calculate the chi_squred as seen below\n",
    "print(covariance)\n",
    "\n",
    "chi_squared = np.sum((func(xdata, *parameters) - ydata)**2/yerror**2)\n",
    "red_chi_squared = chi_squared/(np.size(ydata)-np.size(parameters))\n",
    "\n",
    "#Chi squared is really a 'goodness of fit', extremely useful if you want to tell\n",
    "#if your fit is good overall (not just if a parameter agrees with something)\n",
    "print(chi_squared)\n",
    "print(red_chi_squared)\n",
    "\n",
    "\n",
    "\n",
    "#changes the visible plot ranges\n",
    "plt.xlim(-1,6)\n",
    "plt.ylim(3,8)\n",
    "\n",
    "\n",
    "#axes titles\n",
    "\n",
    "\n",
    "plt.xlabel('x-axis name (units)', fontsize = 16)\n",
    "plt.ylabel('y-axis name (units)', fontsize = 16)\n",
    "\n",
    "plt.title('Plot title!', fontsize = 18)\n",
    "\n",
    "\n",
    "#change the x axis labels to scientific notation\n",
    "plt.ticklabel_format(axis=“x”, style=“sci”, scilimits=(0,0))\n",
    "\n",
    "#Sometimes you might want a log or semi-log scale for visualizing the data\n",
    "#You can use the code below to do that\n",
    "\n",
    "plt.yscale('log')\n",
    "plt.yscale('linear') \n",
    "\n",
    "\n",
    "#Show the plot!\n",
    "plt.show()\n",
    "\n",
    "\n",
    "#This lets you save the plot as a figure if you'd like to have\n",
    "#it outside the jupyter notebook\n",
    "plt.savefig(\"prelab_doubleslit.png\",dpi=200)\n",
    "\n",
    "\n",
    "\n",
    "#######\n",
    "\n",
    "#histogram code from before\n",
    "\n",
    "#example histogram plot routine\n",
    "#\n",
    "import matplotlib.pyplot as plt\n",
    "import numpy as np\n",
    "from numpy import *\n",
    "from pylab import *\n",
    "#\n",
    "data=[]\n",
    "n=0\n",
    "\n",
    "#this data is expecting a lest of charges\n",
    "\n",
    "data = np.loadtxt('Q.txt' ,unpack=True)\n",
    "\n",
    "#\n",
    "# note this data file had Qc's ranging from 0 to 12, that is, I ditched the x10^-19 \n",
    "# the histogram will go over this whole range with \"steps\" of 0.2\n",
    "#\n",
    "# you should adjust the min, max, and bin size as you need or like\n",
    "#\n",
    "bin_size = 0.2; min_edge = 0; max_edge =12.\n",
    "N = int((max_edge-min_edge)/bin_size)\n",
    "Nplus1 = N + 1\n",
    "bin_list = np.linspace(min_edge, max_edge, Nplus1)\n",
    "\n",
    "\n",
    "#This section lets you plot histograms in the classic bar graph\n",
    "# It is not particularly useful for fitting data but is useful for visualization\n",
    "plt.hist(data,bin_list)\n",
    "plt.title(\"Bin size 0.2E-19 C\")\n",
    "plt.xlabel(\"charge (C x 10-19)\")\n",
    "plt.ylabel('number of drops')\n",
    "#plt.axis([0.,12,0,120])\n",
    "plt.grid()\n",
    "plt.show()\n",
    "plt.close()\n",
    "\n",
    "\n",
    "#This calculates the histogram data so you can manipulate it later\n",
    "#The a value is the number of items in each bin\n",
    "#The b value is the edges of the bins\n",
    "a,b=np.histogram(data,bin_list)\n",
    "\n",
    "#This line is needed so you can find the middle x posistion for each bin,\n",
    "#as the line above gives you the left and right edges (and will have one more\n",
    "# data pointt han will the a values\n",
    "bplot = b+(b[0]+b[1])/2\n",
    "bplot = bplot[:-1] - min_edge\n",
    "\n",
    "plt.plot(bplot,a,'-o')\n",
    "plt.title(\"Bin size 0.2E-19 C\")\n",
    "plt.xlabel(\"charge (C x 10-19)\")\n",
    "plt.ylabel('number of drops')\n",
    "#plt.axis([0.,12,0,120])\n",
    "plt.grid()\n",
    "plt.show()\n",
    "plt.close()\n"
   ]
  },
  {
   "cell_type": "markdown",
   "metadata": {},
   "source": [
    "## A. McGowan, 05 Jan 2022, PARTNERs: my AdLab friends\n",
    "\n",
    "## PHYS316 Ad Lab (Jupyter Notebook)\n",
    "\n",
    "# Measuring the emission spectra of Quantum Dots and Modeling wavelength dependence on dot diameter\n",
    "\n",
    "[//]:# \"This is how you insert comments in Jupyter.  It's not nearly as elegant as it is in python (or other pure coding platforms) but you can do it.  If you see above you can use hashtags to bold/emphasize lines of text.  The more hashtags the smaller the line. This will not show up when you run this cell.\""
   ]
  },
  {
   "cell_type": "code",
   "execution_count": 24,
   "metadata": {},
   "outputs": [],
   "source": [
    "# if you want more functionality in your code, this is where you need to import packages/modules\n",
    "from IPython.display import Latex\n",
    "import matplotlib.pyplot as plt\n",
    "import numpy as np\n",
    "import scipy as sp\n",
    "from pylab import *\n",
    "from math import *\n",
    "from scipy.optimize import curve_fit\n",
    "from lmfit import Model, Parameters\n",
    "from scipy.constants import *"
   ]
  },
  {
   "cell_type": "markdown",
   "metadata": {},
   "source": [
    "# A. McGowan, Wed 05 Jan 2022\n",
    "# PreLab\n",
    "\n",
    "What even is a quantum dot?\n",
    "A 6.9nm-diameter sphere (for the 640nm sample, the largest size dots) can hold how many CdSe unit cells?\n",
    "Cd: https://periodictable.com/Elements/048/index.html gives a covalent radius of 0.144nm.\n",
    "Se: https://periodictable.com/Elements/034/index.html gives 0.120nm for the same.\n",
    "Roughly speaking, we're considering a total unit cell of about 0.264nm.  How many of those 'spheres' would fit into a 6.9nm-diameter sphere?  We have to take the ratio of the dot volume to the unit cell volume: (3.45nm radius)^3 / (0.264nm)^3 = about 2232 unit cells.  But on the smallest dot size sample, we have only about 83 unit cells!\n",
    "\n",
    "\n",
    "### 1. One-Dimensional Infinite Square Well\n",
    "\n",
    "Allowed wavefunction is a sine wave, argument looked something like a wavenumber $k$ times $x$.  Allowed energy levels were quantized as follows: $E_n = \\frac{n^2 h^2}{8 m D^2}$.  Emitted photon has energy $E = h \\nu = \\frac{h c}{\\lambda}$.  Electron is dropping from $n$=1 to $n$=0.  Emitted photon wavelength is then $$ \\lambda = \\frac{h c}{E_1} = \\frac{8 h m c D^2}{h^2} = \\frac{8 m c D^2}{h} $$.\n",
    "\n",
    "\n",
    "### 2. Three-Dimensional Cube Infinite Square Well\n",
    "\n",
    "Allowed energy levels were quantized as follows: $E_n = \\frac{(n_x^2 + n_y^2 + n_z^2) h^2}{8 m D^2}$.  We take all $n$=1 in the first excited state.\n",
    "Emitted photon wavelength is $$ \\lambda = \\frac{h c}{E_1} = \\frac{8 h m c D^2}{3 h^2} = \\frac{8 m c D^2}{3 h} $$.\n",
    "\n",
    "\n",
    "### 3. Cubical Semiconductor Dots\n",
    "\n",
    "Energy level in first excited state is $E = E_g + E_{q2} = E_g + \\frac{3 h^2}{8 m D^2}$.\n",
    "Emitted photon wavelength is $$ \\lambda = \\frac{h c}{E_{q3}} = \\frac{h c}{E_g + \\frac{3 h^2}{8 m D^2}} $$.\n",
    "\n",
    "### 4. Spherical Semiconductor Dots\n",
    "\n",
    "See hardcore theory here:\n",
    "http://farside.ph.utexas.edu/teaching/qmech/Quantum/node81.html\n",
    "\n",
    "The allowed energy levels are $E_{n,l} = \\frac{z_{1,0}^2 h^2}{8 \\pi^2 m r^2} $, with $n=1$ and $l=0$ because no angular momentum in first excited state.  The root of the spherical Bessel function is $z_{1,0}=\\pi$, so $$E_{q4} = E_g + \\frac{h^2}{8 m r^2}$$ and the wavelength is $$ \\lambda = \\frac{h c}{E_{q4}} = \\frac{h c}{E_g + \\frac{h^2}{2 m D^2}} $$.\n",
    "\n",
    "### 5. Spherical Semiconductor Dots with Free Electron and Hole\n",
    "\n",
    "Following the PreLab manual, we add a term for the 'hole' left behind in the valence band.\n",
    "The emitted photon wavelength is $$ \\lambda = \\frac{h c}{E_g + \\frac{h^2}{2 m_e^* D^2} + \\frac{h^2}{2 m_h^* D^2}} = \\frac{h c}{E_g + \\frac{h^2}{2 D^2} (1/m_e^* + 1/m_h^*)} = \\frac{h c}{E_g + \\frac{h^2}{2 D^2} (\\frac{m_e^* + m _h^*}{m_e^* m_h^*})} = \\frac{h c}{E_g + \\frac{h^2}{2 \\mu D^2}}$$.\n",
    "\n",
    "\n",
    "### 6. More Complete Models (Bonus)\n",
    "\n",
    "Check this out at the END of the experiment IFF you have time.  \n",
    "\n",
    "\n",
    "\n",
    "\n",
    "\n",
    "\n",
    "\n"
   ]
  },
  {
   "cell_type": "markdown",
   "metadata": {},
   "source": [
    "## This is a worksheet, meant to be filled in as you collect data together as a lab section.\n",
    "## A. McGowan, Mon 10 Jan 2022\n",
    "## Lab day 1 of 3\n",
    "\n",
    "Goal for today: Capture spectrum raw data for the LED spectrum and all six samples of quantum dots.  Record raw text data (for later analysis) as well as screenshot of spectrum (as your immediate record of raw data)."
   ]
  },
  {
   "cell_type": "markdown",
   "metadata": {},
   "source": [
    "### First trial, 640 nm vial\n",
    "\n",
    "Raw data collected for both the LED driving light (LED400nm_22dec2020_500ms_5scanAvg.txt) and the red640nm light emitted by the flourescing quantum dots (red640nm_22dec2020_500ms_5scanAvg.txt).  Data tables will not be presented in this notebook (they are ~2k lines each). \n",
    "\n",
    "[//]:# \"This is how to insert an image in a markdown cell (as long as the image and your jupyter notebook file are in the same folder.  You can control how large the image is by changing the width of it (in piexels)\"\n",
    "\n",
    "You must insert the shared image filenames here!  Your filenames will be different!\n",
    "\n",
    "#### LED spectrum:\n",
    "<img src=\"LED400nm_DATE.PNG\" width = \"1000\">\n",
    "\n",
    "#### red640nm spectrum:\n",
    "<img src=\"red640nm_DATE.PNG\" width = \"1000\">\n",
    "\n",
    "Manufacturer's CSE640 spectra:\n",
    "<img src=\"CSE640spectra.PNG\" width = \"1000\">"
   ]
  },
  {
   "cell_type": "markdown",
   "metadata": {},
   "source": [
    "Upload YOUR OWN basic sketch of experimental setup AND an example photo of the QD solution vial with LED.  You can do this directly in OneNote, or do it here and screenshot to OneNote.\n",
    "\n",
    "*Note: These Cadmium Selenide (CdSe) quantum dot samples are labeled by their peak absorbance wavelength, so I will keep those labels.  Manufacturer's plots of absorbance AND emission spectra will be included here later.\n",
    "\n",
    "Setup:\n",
    "LED is driven by power supply set to DC 4.39 V.\n",
    "<img src=\"SETUP_SKETCH.PNG\" width = \"600\">\n",
    "\n",
    "Vial photo of the 620-nm sample. Note the copper collar sitting on the LED to shield the camera:\n",
    "<img src=\"SETUP_PHOTO.jpg\" width = \"600\">"
   ]
  },
  {
   "cell_type": "markdown",
   "metadata": {},
   "source": [
    "Raw data collected for the *orange-red620nm* sample (orange-red620nm_07jan2021_500ms_5scanAvg.txt):\n",
    "<img src=\"red-orange620nm_DATE.PNG\" width = \"1000\">\n",
    "Manufacturer's CSE620 spectra:\n",
    "<img src=\"CSE620spectra.PNG\" width = \"1000\">\n",
    "\n",
    "Raw data collected for the *orange600nm* sample (orange60nm_07jan2021_500ms_5scanAvg.txt):\n",
    "<img src=\"orange600nm_DATE.PNG\" width = \"1000\">\n",
    "Manufacturer's CSE600 spectra:\n",
    "<img src=\"CSE600spectra.PNG\" width = \"1000\">\n",
    "\n",
    "Raw data collected for the *yellow560nm* sample (yellow560nm_07jan2021_500ms_5scanAvg.txt):\n",
    "<img src=\"yellow560nm_DATE.PNG\" width = \"1000\">\n",
    "Manufacturer's CSE560 spectra:\n",
    "<img src=\"CSE560spectra.PNG\" width = \"1000\">\n",
    "\n",
    "Raw data collected for the *yellow-green520nm* sample (yellow-green520nm_07jan2021_500ms_5scanAvg.txt):\n",
    "<img src=\"yellow-green520nm_DATE.PNG\" width = \"1000\">\n",
    "Manufacturer's CSE520 spectra:\n",
    "<img src=\"CSE520spectra.PNG\" width = \"1000\">\n",
    "\n",
    "Raw data collected for the *green500nm* sample (green500nm_07jan2021_500ms_5scanAvg.txt):\n",
    "<img src=\"green500nm_DATE.PNG\" width = \"1000\">\n",
    "Manufacturer's CSE500 spectra:\n",
    "<img src=\"CSE500spectra.PNG\" width = \"1000\">"
   ]
  },
  {
   "cell_type": "markdown",
   "metadata": {},
   "source": [
    "* NN-Labs manufacturer's measured absorption and emission spectra are provided for you above.  See https://nn-labs.com/collections/cadmium-based-quantum-dots/products/cadmium-selenide-quantum-dots-cse\n",
    "\n",
    "* Using the python module lmfit, explore both a standard Gaussian and a skewed Gaussian model for our data.\n",
    "\n",
    "* First, do a quick import and plot of a raw data set we won't be fitting (the LED spectrum).  Throw some simple Poisson error bars on the data points."
   ]
  },
  {
   "cell_type": "code",
   "execution_count": 6,
   "metadata": {},
   "outputs": [
    {
     "data": {
      "image/png": "[encoded data removed]",
      "text/plain": [
       "<Figure size 432x288 with 1 Axes>"
      ]
     },
     "metadata": {
      "needs_background": "light"
     },
     "output_type": "display_data"
    },
    {
     "data": {
      "text/plain": [
       "<Figure size 432x288 with 0 Axes>"
      ]
     },
     "metadata": {},
     "output_type": "display_data"
    }
   ],
   "source": [
    "# Import data from tab-delimited text file\n",
    "# genfromtxt is just another way of doing things. you can stick to loadtxt if you like it!\n",
    "#data=np.genfromtxt('LED400nm_22dec2020_500ms_5scanAvg.txt',skip_header=1,delimiter='\\t')\n",
    "#lambd = data[:,0] # wavelength (nm)\n",
    "#intensity = data[:,1] # counts acquired in 500 ms scans, averaged over five scans\n",
    "\n",
    "lambd, intensity = np.loadtxt('LED400nm_22dec2020_500ms_5scanAvg.txt', skiprows=1, unpack=True)\n",
    "d_intensity = np.sqrt(np.abs(5*intensity))/5 # average of five scans, but we don't know the five measurements and/or stand. dev. so we will use sqrt(5*data)/5\n",
    "\n",
    "plt.errorbar(lambd,intensity,yerr=d_intensity,fmt='.')\n",
    "plt.title('Emission intensity vs wavelength')\n",
    "plt.ylabel('intensity (counts per 500 ms)')\n",
    "plt.xlabel('wavelength (nm)')\n",
    "plt.savefig('data_LED.png')\n",
    "plt.show()\n",
    "plt.clf()\n"
   ]
  },
  {
   "cell_type": "markdown",
   "metadata": {},
   "source": [
    "* Looks good!  Now load up the CSE640 data and try a Gaussian fit.  I check first with scipy.optimize to get a comparison to lmfit performance."
   ]
  },
  {
   "cell_type": "code",
   "execution_count": 11,
   "metadata": {},
   "outputs": [
    {
     "name": "stdout",
     "output_type": "stream",
     "text": [
      "SciPy curve_fit best fit values [ Amp mu RMS ]:  [150.84943263 665.82373378  10.2864863 ]\n",
      "\n",
      "Lmfit Model fitting results:\n"
     ]
    },
    {
     "data": {
      "image/png": "[encoded data removed]",
      "text/plain": [
       "<Figure size 432x288 with 1 Axes>"
      ]
     },
     "metadata": {
      "needs_background": "light"
     },
     "output_type": "display_data"
    },
    {
     "data": {
      "text/html": [
       "<h2> Model</h2> Model(gauss) <h2>Fit Statistics</h2><table><tr><td>fitting method</td><td>leastsq</td><td></td></tr><tr><td># function evals</td><td>29</td><td></td></tr><tr><td># data points</td><td>191</td><td></td></tr><tr><td># variables</td><td>3</td><td></td></tr><tr><td>chi-square</td><td> 10444.8992</td><td></td></tr><tr><td>reduced chi-square</td><td> 55.5579744</td><td></td></tr><tr><td>Akaike info crit.</td><td> 770.304759</td><td></td></tr><tr><td>Bayesian info crit.</td><td> 780.061579</td><td></td></tr></table><h2>Variables</h2><table><tr><th> name </th><th> value </th><th> standard error </th><th> relative error </th><th> initial value </th><th> min </th><th> max </th><th> vary </th></tr><tr><td> a </td><td>  150.849225 </td><td>  1.19756340 </td><td> (0.79%) </td><td> 175 </td><td>  0.00000000 </td><td>         inf </td><td> True </td></tr><tr><td> mean </td><td>  665.823747 </td><td>  0.09425081 </td><td> (0.01%) </td><td> 660 </td><td>  0.00000000 </td><td>         inf </td><td> True </td></tr><tr><td> sigma </td><td>  10.2865146 </td><td>  0.09452608 </td><td> (0.92%) </td><td> 10 </td><td>  0.00000000 </td><td>         inf </td><td> True </td></tr></table><h2>Correlations (unreported correlations are < 0.100)</h2><table><tr><td>a</td><td>sigma</td><td>-0.5783</td></tr></table>"
      ],
      "text/plain": [
       "<lmfit.model.ModelResult at 0x7f7b077c05b0>"
      ]
     },
     "execution_count": 11,
     "metadata": {},
     "output_type": "execute_result"
    },
    {
     "data": {
      "text/plain": [
       "<Figure size 432x288 with 0 Axes>"
      ]
     },
     "metadata": {},
     "output_type": "display_data"
    }
   ],
   "source": [
    "# Import data from tab-delimited text file\n",
    "lambd, intensity = np.loadtxt('red640nm_22dec2020_500ms_5scanAvg.txt', skiprows=1, unpack=True)\n",
    "d_intensity = np.sqrt(np.abs(5*intensity))/5 # average of five scans\n",
    "    \n",
    "#Fit data to a simple gaussian, assuming dot sizes are gaussian distributed\n",
    "#set seeds for fit parameters (nominal values)\n",
    "Amp=175 # peak counts\n",
    "mu=660 # peak mean location\n",
    "RMS=10 # peak RootMeanSquare\n",
    "\n",
    "def gauss(v,a,mean,sigma):\n",
    "    return a*np.exp(-(v-mean)**2/(2*sigma**2))\n",
    "\n",
    "##############################\n",
    "# Modify fit range here!\n",
    "lamMin = 635\n",
    "lamMax = 695\n",
    "#############################\n",
    "\n",
    "Lambd = lambd[np.where((lambd>lamMin)&(lambd<lamMax))]\n",
    "Intensity = intensity[np.where((lambd>lamMin)&(lambd<lamMax))]\n",
    "D_intensity = d_intensity[np.where((lambd>lamMin)&(lambd<lamMax))]\n",
    "\n",
    "# This is a basic fit provided by scipy.optimize, which you can use if you do not have Lmfit installed\n",
    "init_vals = [Amp, mu, RMS]\n",
    "best_vals, covar = curve_fit(gauss, Lambd, Intensity, p0=init_vals)\n",
    "print(\"SciPy curve_fit best fit values [ Amp mu RMS ]: \",best_vals)\n",
    "\n",
    "# This is Lmfit\n",
    "gModel = Model(gauss)\n",
    "gModel.set_param_hint('a', value=Amp, min=0, max=Inf)\n",
    "gModel.set_param_hint('mean', value=mu, min=0, max=Inf)\n",
    "gModel.set_param_hint('sigma', value=RMS, min=0, max=Inf)\n",
    "params = gModel.make_params()\n",
    "result = gModel.fit(Intensity, v=Lambd, a=Amp, mean=mu, sigma=RMS, weights = 1.0/(D_intensity))\n",
    "#dely = result.eval_uncertainty(sigma=1)\n",
    "#plt.fill_between(Lambd, result.best_fit-dely, result.best_fit+dely, color=\"#ABABAB\")\n",
    "\n",
    "### lmfit specifically requests that residuals should be pre-normalized by the uncertainties, such that when it computes the sum of squared residuals (SSR) the reported chi-square will be an accurate determination!  \n",
    "### ...well, that's not quite right either.  red chi-square of 1.8 ?  \n",
    "### result = gModel.fit(Intensity/D_intensity, v=Lambd, a=Amp, mean=mu, sigma=RMS)\n",
    "\n",
    "print('')\n",
    "print('Lmfit Model fitting results:')\n",
    "#print(result.fit_report())               \n",
    "plt.errorbar(Lambd,Intensity,yerr=D_intensity,fmt='.')\n",
    "plt.plot(Lambd, result.best_fit, 'r-')\n",
    "plt.title('Gaussian Fit to emission spectrum')\n",
    "plt.ylabel('intensity')\n",
    "plt.xlabel('wavelength (nm)')\n",
    "plt.savefig('Gauss_640.png')\n",
    "plt.show()\n",
    "plt.clf()\n",
    "\n",
    "# this command produces a nicely formatted summary of your fit results\n",
    "result"
   ]
  },
  {
   "cell_type": "markdown",
   "metadata": {},
   "source": [
    "* Lmfit and scipy best fit values are nearly identical. Will use Lmfit for all future fitting purposes. \n",
    "* Lmfit chi-square values are not calculated in a standard way - they represent what is known as the \"Sum of Squared Residuals, or SSR\".  Define our own custom chi-square calculator (REUSE THIS CODE BLOCK FOR EVERY EXPERIMENT!):"
   ]
  },
  {
   "cell_type": "code",
   "execution_count": 9,
   "metadata": {},
   "outputs": [],
   "source": [
    "def chiSquare(modelValues,dataValues,dataErrorBars):\n",
    "    \"Pearson's chi-square: chiSquare(modelValues,dataValues,dataErrorBars)\"\n",
    "    \n",
    "    chiSqTot = -99999999\n",
    "    if modelValues.size != dataValues.size :\n",
    "        print('Your model and data value arrays have different lengths. Please check yourself before you wreck yourself.')\n",
    "        print('data length:',dataValues.size)\n",
    "        print('model length:',modelValues.size)\n",
    "        return chiSqTot\n",
    "    elif dataErrorBars.size != dataValues.size :\n",
    "        print('Your data value and error bar arrays have different lengths. Please check yourself before you wreck yourself.')\n",
    "        print('data length:',dataValues.size)\n",
    "        print('error bar length:',dataErrorBars.size)\n",
    "        return chiSqTot\n",
    "    else :\n",
    "        chiSqTot = 0\n",
    "    \n",
    "    i = 0\n",
    "    while i < dataValues.size :\n",
    "        chiSq = ( ( modelValues[i]-dataValues[i]) / (dataErrorBars[i]) )**2\n",
    "        chiSqTot += chiSq\n",
    "        # i++ # take the blue pill\n",
    "        i += 1 # take the red pill\n",
    "    return chiSqTot\n",
    "\n",
    "def reducedChiSquare(n_params,modelValues,dataValues,dataErrorBars):\n",
    "    if dataValues.size > n_params :\n",
    "        redChSq = chiSquare(modelValues,dataValues,dataErrorBars)/(dataValues.size-n_params)\n",
    "        print('Number of data points:',dataValues.size)\n",
    "        print('Number of fit parameters:',n_params)\n",
    "        print('Degrees of freedom:',dataValues.size-n_params)\n",
    "        return redChSq\n",
    "    else :\n",
    "        print('You either need to take more data, or use a simpler fit model!')\n",
    "        return -9999999"
   ]
  },
  {
   "cell_type": "markdown",
   "metadata": {},
   "source": [
    "* Try out that shiny new toy:"
   ]
  },
  {
   "cell_type": "code",
   "execution_count": 10,
   "metadata": {},
   "outputs": [
    {
     "name": "stdout",
     "output_type": "stream",
     "text": [
      "Total chi2:  1602.7936854195343\n",
      "Number of data points: 191\n",
      "Number of fit parameters: 3\n",
      "Degrees of freedom: 188\n",
      "Reduced chi2:  8.525498326699651\n",
      "Corresponding p-value:  0.0\n"
     ]
    }
   ],
   "source": [
    "nParams = 3 \n",
    "\n",
    "chi2 = chiSquare(result.best_fit,Intensity,D_intensity)\n",
    "print('Total chi2: ',chi2)\n",
    "redChi2 = reducedChiSquare(nParams,result.best_fit,Intensity,D_intensity)\n",
    "print('Reduced chi2: ',redChi2)\n",
    "print('Corresponding p-value: ',1.000-sp.stats.chi2.cdf(chi2,Intensity.size-nParams))"
   ]
  },
  {
   "cell_type": "markdown",
   "metadata": {},
   "source": [
    "* This is a terrible reduced $\\chi^2$ value! The p-value of zero should be interpreted in the following way: \"There is a 0.0% probability that a random experimental data set drawn from a true Gaussian distribution would produce a reduced $\\chi^2$ greater than 8.52.\"  In other words, the simple Gaussian model is not a good description of our data.\n",
    "* A large number of pre-defined fit models are included in lmfit.  You can also define your own custom fit functions.  See reference: https://lmfit.github.io/lmfit-py/builtin_models.html\n",
    "\n",
    "### Now try out a Skewed Voigt Fit.  The Voigt distribution is used primarily in spectroscopy to explain data that has more than one smearing sources.  See https://reference.wolfram.com/language/ref/VoigtDistribution.html\n",
    "\n",
    "### Our model will return a \"center\" fit parameter.  When the distribution is symmetric, that value corresponds to the peak wavelength.  However, when the spectral line is asymmetric, the \"center\" is more like \"what the wavelength would have been if this distribution were not skewed\".  For our purposes, we will stick to later analysis that uses the peak wavelength.\n"
   ]
  },
  {
   "cell_type": "code",
   "execution_count": 14,
   "metadata": {},
   "outputs": [
    {
     "name": "stdout",
     "output_type": "stream",
     "text": [
      "Total chi2:  233.81468028117493\n",
      "Number of data points: 191\n",
      "Number of fit parameters: 4\n",
      "Degrees of freedom: 187\n",
      "Reduced chi2:  1.2503458838565504\n",
      "Corresponding p-value:  0.011371753636323811\n",
      "max of curve: 157.37326464447054\n",
      " at  [665.25] nm\n"
     ]
    },
    {
     "data": {
      "text/html": [
       "<h2> Model</h2> Model(skewed_voigt) <h2>Fit Statistics</h2><table><tr><td>fitting method</td><td>leastsq</td><td></td></tr><tr><td># function evals</td><td>75</td><td></td></tr><tr><td># data points</td><td>191</td><td></td></tr><tr><td># variables</td><td>4</td><td></td></tr><tr><td>chi-square</td><td> 1636.40051</td><td></td></tr><tr><td>reduced chi-square</td><td> 8.75080489</td><td></td></tr><tr><td>Akaike info crit.</td><td> 418.264347</td><td></td></tr><tr><td>Bayesian info crit.</td><td> 431.273440</td><td></td></tr></table><h2>Variables</h2><table><tr><th> name </th><th> value </th><th> standard error </th><th> relative error </th><th> initial value </th><th> min </th><th> max </th><th> vary </th><th> expression </th></tr><tr><td> amplitude </td><td>  4565.62611 </td><td>  15.9024251 </td><td> (0.35%) </td><td> 150.84943262956457 </td><td>        -inf </td><td>         inf </td><td> True </td><td>  </td></tr><tr><td> center </td><td>  662.928303 </td><td>  0.16482875 </td><td> (0.02%) </td><td> 665.8237337764169 </td><td>        -inf </td><td>         inf </td><td> True </td><td>  </td></tr><tr><td> sigma </td><td>  6.23920159 </td><td>  0.03495565 </td><td> (0.56%) </td><td> 10.286486301352648 </td><td>  0.00000000 </td><td>         inf </td><td> True </td><td>  </td></tr><tr><td> skew </td><td>  0.21822882 </td><td>  0.01396037 </td><td> (6.40%) </td><td> 0.0 </td><td>        -inf </td><td>         inf </td><td> True </td><td>  </td></tr><tr><td> gamma </td><td>  6.23920159 </td><td>  0.03495565 </td><td> (0.56%) </td><td> 10.286486301352648 </td><td>        -inf </td><td>         inf </td><td> False </td><td> sigma </td></tr></table><h2>Correlations (unreported correlations are < 0.100)</h2><table><tr><td>center</td><td>skew</td><td>-0.9745</td></tr><tr><td>center</td><td>sigma</td><td>-0.6178</td></tr><tr><td>sigma</td><td>skew</td><td>0.6087</td></tr><tr><td>amplitude</td><td>sigma</td><td>0.4040</td></tr><tr><td>amplitude</td><td>skew</td><td>-0.1855</td></tr><tr><td>amplitude</td><td>center</td><td>0.1608</td></tr></table>"
      ],
      "text/plain": [
       "<lmfit.model.ModelResult at 0x7f7b031522e0>"
      ]
     },
     "execution_count": 14,
     "metadata": {},
     "output_type": "execute_result"
    },
    {
     "data": {
      "image/png": "[encoded data removed]",
      "text/plain": [
       "<Figure size 432x288 with 1 Axes>"
      ]
     },
     "metadata": {
      "needs_background": "light"
     },
     "output_type": "display_data"
    }
   ],
   "source": [
    "from lmfit.models import SkewedVoigtModel\n",
    "\n",
    "model = SkewedVoigtModel()\n",
    "\n",
    "# set initial parameter guesses from earlier scipy.optimize fit. add a guess for gamma (skewness)\n",
    "params = model.make_params(amplitude=best_vals[0], center=best_vals[1], sigma=best_vals[2], gamma=best_vals[2])\n",
    "\n",
    "# adjust parameters to best fit data\n",
    "result = model.fit(Intensity, params, x=Lambd)\n",
    "\n",
    "nParams = 4\n",
    "chi2 = chiSquare(result.best_fit,Intensity,D_intensity)\n",
    "print('Total chi2: ',chi2)\n",
    "redChi2 = reducedChiSquare(nParams,result.best_fit,Intensity,D_intensity)\n",
    "print('Reduced chi2: ',redChi2)\n",
    "print('Corresponding p-value: ',1.000-sp.stats.chi2.cdf(chi2,Intensity.size-nParams))\n",
    "\n",
    "plt.errorbar(Lambd, Intensity,yerr=D_intensity,fmt='.')\n",
    "plot(Lambd, result.best_fit) \n",
    "plt.title('Skewed Voigt Fit to RED emission spectrum')\n",
    "plt.ylabel('intensity')\n",
    "plt.xlabel('wavelength (nm)')\n",
    "plt.savefig('skewVoigt_640.png')\n",
    "\n",
    "# also report peak wavelength (max from fit curve)\n",
    "print('max of curve:',np.max(result.best_fit))\n",
    "peakLambda_red640 = Lambd[np.where(result.best_fit==np.max(result.best_fit))]\n",
    "print(' at ',peakLambda_red640,'nm')\n",
    "\n",
    "# store fit results for later use\n",
    "λ640 = result.params['center'].value\n",
    "σ640 = result.params['sigma'].value\n",
    "\n",
    "result"
   ]
  },
  {
   "cell_type": "markdown",
   "metadata": {},
   "source": [
    "## Reflections on the first vial data set\n",
    "* We see vast(!) improvement in the reduced $\\chi^2$ value using the skewed Voigt fit model!\n",
    "* Before Friday's lecture, simply put, reduced $\\chi^2$ should be about 1 for 'good agreement' between your fit model and your data.  This is a good rule of thumb for interpreting chi-square values for a single 'goodness of fit' question.  \n",
    "* If we are comparing two or more fit models, the model with the lowest chi-square value (given the same number of fit parameters) is generally superior.  You should gain at least a reduction of 1.0 in the reduced $\\chi^2$ for every additional fit parameter that you introduce... although if you had to add too many fit parameters to gain that improvement, it's not useful for a physically-motivated description or model for you data.\n",
    "* Based on p-value interpretation, neither of these models represents this data well.  A \"good\" p-value should be around 0.5 but we will elaborate on this later.  However, as a reasonable physically-motivated model, the Skewed Voigt model does the 'best' job of the two!   \n",
    "\n",
    "| Model for red | reduced $\\chi^2$   | p-value | fit parameters |\n",
    "|----------|-----------------|---------|----------------|\n",
    "| Gaussian  | 8.525 | 0.000 | 3 |\n",
    "| SkewVoigt | 1.250 | 0.011 | 4 |\n",
    "\n",
    "## Next Up: \n",
    "1. We have collected data for six vials and fit the data with a reasonable model for one data set.  We need to repeat the best model fit (Skewed Voigt) for the other five data sets (no need to use Gaussian), extract the peak wavelength as lambda, and error bars on lambda.  Really, we need to account for the spread in dot sizes, which is described by either sigma or HWHM.\n",
    "2. Explore the relationship between wavelength and diameter, as defined in the five models of the PreLab!  We need to plot wavelength versus dot diameter D, with accurate error bars on $\\lambda$.  "
   ]
  },
  {
   "cell_type": "markdown",
   "metadata": {},
   "source": [
    "## A. McGowan, DATE\n",
    "## Day ? of 3\n",
    "* Begin fitting the other five data samples"
   ]
  },
  {
   "cell_type": "code",
   "execution_count": 17,
   "metadata": {},
   "outputs": [
    {
     "name": "stdout",
     "output_type": "stream",
     "text": [
      "Total chi2:  9783.792818534308\n",
      "Number of data points: 256\n",
      "Number of fit parameters: 4\n",
      "Degrees of freedom: 252\n",
      "Reduced chi2:  38.824574676723444\n",
      "Corresponding p-value:  0.0\n",
      "max of curve: 3597.51112558675\n",
      " at  [658.347] nm\n"
     ]
    },
    {
     "data": {
      "text/html": [
       "<h2> Model</h2> Model(skewed_voigt) <h2>Fit Statistics</h2><table><tr><td>fitting method</td><td>leastsq</td><td></td></tr><tr><td># function evals</td><td>73</td><td></td></tr><tr><td># data points</td><td>256</td><td></td></tr><tr><td># variables</td><td>4</td><td></td></tr><tr><td>chi-square</td><td> 623480.136</td><td></td></tr><tr><td>reduced chi-square</td><td> 2474.12752</td><td></td></tr><tr><td>Akaike info crit.</td><td> 2004.26105</td><td></td></tr><tr><td>Bayesian info crit.</td><td> 2018.44176</td><td></td></tr></table><h2>Variables</h2><table><tr><th> name </th><th> value </th><th> standard error </th><th> relative error </th><th> initial value </th><th> min </th><th> max </th><th> vary </th><th> expression </th></tr><tr><td> amplitude </td><td>  109335.914 </td><td>  281.959943 </td><td> (0.26%) </td><td> 3500 </td><td>        -inf </td><td>         inf </td><td> True </td><td>  </td></tr><tr><td> center </td><td>  650.893792 </td><td>  0.05946123 </td><td> (0.01%) </td><td> 650 </td><td>        -inf </td><td>         inf </td><td> True </td><td>  </td></tr><tr><td> sigma </td><td>  9.65159196 </td><td>  0.06402536 </td><td> (0.66%) </td><td> 10 </td><td>  0.00000000 </td><td>         inf </td><td> True </td><td>  </td></tr><tr><td> skew </td><td>  1.48501837 </td><td>  0.02681383 </td><td> (1.81%) </td><td> 0.0 </td><td>        -inf </td><td>         inf </td><td> True </td><td>  </td></tr><tr><td> gamma </td><td>  9.65159196 </td><td>  0.06402536 </td><td> (0.66%) </td><td> 10 </td><td>        -inf </td><td>         inf </td><td> False </td><td> sigma </td></tr></table><h2>Correlations (unreported correlations are < 0.100)</h2><table><tr><td>center</td><td>sigma</td><td>-0.8848</td></tr><tr><td>sigma</td><td>skew</td><td>0.8819</td></tr><tr><td>center</td><td>skew</td><td>-0.8585</td></tr><tr><td>amplitude</td><td>sigma</td><td>0.5817</td></tr><tr><td>amplitude</td><td>center</td><td>-0.4515</td></tr><tr><td>amplitude</td><td>skew</td><td>0.3319</td></tr></table>"
      ],
      "text/plain": [
       "<lmfit.model.ModelResult at 0x7f7b03133f40>"
      ]
     },
     "execution_count": 17,
     "metadata": {},
     "output_type": "execute_result"
    },
    {
     "data": {
      "image/png": "[encoded data removed]",
      "text/plain": [
       "<Figure size 432x288 with 1 Axes>"
      ]
     },
     "metadata": {
      "needs_background": "light"
     },
     "output_type": "display_data"
    }
   ],
   "source": [
    "# Import data from tab-delimited text file\n",
    "lambd, intensity = np.loadtxt('orange-red620nm_07jan2021_500ms_5scanAvg.txt', skiprows=1, unpack=True)\n",
    "d_intensity = np.sqrt(np.abs(5*intensity))/5 # average of five scans\n",
    "\n",
    "#Fit data to a simple gaussian, assuming dot sizes are gaussian distributed\n",
    "#set seeds for fit parameters (nominal values)\n",
    "Amp=3500 # peak counts\n",
    "mu=650 # peak mean location\n",
    "RMS=10 # peak RootMeanSquare\n",
    "\n",
    "##############################\n",
    "# Modify fit range here!\n",
    "lamMin = 625\n",
    "lamMax = 705\n",
    "#############################\n",
    "\n",
    "Lambd = lambd[np.where((lambd>lamMin)&(lambd<lamMax))]\n",
    "Intensity = intensity[np.where((lambd>lamMin)&(lambd<lamMax))]\n",
    "D_intensity = d_intensity[np.where((lambd>lamMin)&(lambd<lamMax))]\n",
    "\n",
    "\n",
    "from lmfit.models import SkewedVoigtModel\n",
    "\n",
    "model = SkewedVoigtModel()\n",
    "\n",
    "# set initial parameter guesses from earlier scipy.optimize fit. add a guess for gamma (skewness)\n",
    "params = model.make_params(amplitude=Amp, center=mu, sigma=RMS, gamma=RMS)\n",
    "\n",
    "# adjust parameters to best fit data\n",
    "result = model.fit(Intensity, params, x=Lambd)\n",
    "\n",
    "nParams = 4\n",
    "chi2 = chiSquare(result.best_fit,Intensity,D_intensity)\n",
    "print('Total chi2: ',chi2)\n",
    "redChi2 = reducedChiSquare(nParams,result.best_fit,Intensity,D_intensity)\n",
    "print('Reduced chi2: ',redChi2)\n",
    "print('Corresponding p-value: ',1.000-sp.stats.chi2.cdf(chi2,Intensity.size-nParams))\n",
    "\n",
    "plt.errorbar(Lambd, Intensity,yerr=D_intensity,fmt='.')\n",
    "plot(Lambd, result.best_fit) \n",
    "plt.title('Skewed Voigt Fit to ORANGE-RED emission spectrum')\n",
    "plt.ylabel('intensity')\n",
    "plt.xlabel('wavelength (nm)')\n",
    "plt.savefig('skewVoigt_620.png')\n",
    "\n",
    "# also report peak wavelength (max from fit curve)\n",
    "print('max of curve:',np.max(result.best_fit))\n",
    "peakLambda_orangeRed620 = Lambd[np.where(result.best_fit==np.max(result.best_fit))]\n",
    "print(' at ',peakLambda_orangeRed620,'nm')\n",
    "\n",
    "# store fit results for later use\n",
    "λ620 = result.params['center'].value\n",
    "σ620 = result.params['sigma'].value\n",
    "\n",
    "result"
   ]
  },
  {
   "cell_type": "code",
   "execution_count": 18,
   "metadata": {},
   "outputs": [
    {
     "name": "stdout",
     "output_type": "stream",
     "text": [
      "Total chi2:  643.6533851264952\n",
      "Number of data points: 221\n",
      "Number of fit parameters: 4\n",
      "Degrees of freedom: 217\n",
      "Reduced chi2:  2.9661446319193328\n",
      "Corresponding p-value:  0.0\n",
      "max of curve: 119.55767301222006\n",
      " at  [626.689] nm\n"
     ]
    },
    {
     "data": {
      "text/html": [
       "<h2> Model</h2> Model(skewed_voigt) <h2>Fit Statistics</h2><table><tr><td>fitting method</td><td>leastsq</td><td></td></tr><tr><td># function evals</td><td>80</td><td></td></tr><tr><td># data points</td><td>221</td><td></td></tr><tr><td># variables</td><td>4</td><td></td></tr><tr><td>chi-square</td><td> 1089.38309</td><td></td></tr><tr><td>reduced chi-square</td><td> 5.02019859</td><td></td></tr><tr><td>Akaike info crit.</td><td> 360.540116</td><td></td></tr><tr><td>Bayesian info crit.</td><td> 374.132767</td><td></td></tr></table><h2>Variables</h2><table><tr><th> name </th><th> value </th><th> standard error </th><th> relative error </th><th> initial value </th><th> min </th><th> max </th><th> vary </th><th> expression </th></tr><tr><td> amplitude </td><td>  3651.91099 </td><td>  12.7332547 </td><td> (0.35%) </td><td> 3500 </td><td>        -inf </td><td>         inf </td><td> True </td><td>  </td></tr><tr><td> center </td><td>  619.375763 </td><td>  0.05964341 </td><td> (0.01%) </td><td> 650 </td><td>        -inf </td><td>         inf </td><td> True </td><td>  </td></tr><tr><td> sigma </td><td>  10.3946346 </td><td>  0.07712260 </td><td> (0.74%) </td><td> 10 </td><td>  0.00000000 </td><td>         inf </td><td> True </td><td>  </td></tr><tr><td> skew </td><td>  1.95320344 </td><td>  0.04128204 </td><td> (2.11%) </td><td> 0.0 </td><td>        -inf </td><td>         inf </td><td> True </td><td>  </td></tr><tr><td> gamma </td><td>  10.3946346 </td><td>  0.07712260 </td><td> (0.74%) </td><td> 10 </td><td>        -inf </td><td>         inf </td><td> False </td><td> sigma </td></tr></table><h2>Correlations (unreported correlations are < 0.100)</h2><table><tr><td>sigma</td><td>skew</td><td>0.8114</td></tr><tr><td>center</td><td>sigma</td><td>-0.8060</td></tr><tr><td>center</td><td>skew</td><td>-0.7360</td></tr><tr><td>amplitude</td><td>sigma</td><td>0.5930</td></tr><tr><td>amplitude</td><td>center</td><td>-0.4296</td></tr><tr><td>amplitude</td><td>skew</td><td>0.2776</td></tr></table>"
      ],
      "text/plain": [
       "<lmfit.model.ModelResult at 0x7f7b031fc550>"
      ]
     },
     "execution_count": 18,
     "metadata": {},
     "output_type": "execute_result"
    },
    {
     "data": {
      "image/png": "[encoded data removed]",
      "text/plain": [
       "<Figure size 432x288 with 1 Axes>"
      ]
     },
     "metadata": {
      "needs_background": "light"
     },
     "output_type": "display_data"
    }
   ],
   "source": [
    "# Import data from tab-delimited text file\n",
    "lambd, intensity = np.loadtxt('orange600nm_07jan2021_500ms_5scanAvg.txt', skiprows=1, unpack=True)\n",
    "d_intensity = np.sqrt(np.abs(5*intensity))/5 # average of five scans\n",
    "\n",
    "#Fit data to a simple gaussian, assuming dot sizes are gaussian distributed\n",
    "#set seeds for fit parameters (nominal values)\n",
    "Amp=3500 # peak counts\n",
    "mu=650 # peak mean location\n",
    "RMS=10 # peak RootMeanSquare\n",
    "\n",
    "##############################\n",
    "# Modify fit range here!\n",
    "lamMin = 605\n",
    "lamMax = 675\n",
    "#############################\n",
    "\n",
    "Lambd = lambd[np.where((lambd>lamMin)&(lambd<lamMax))]\n",
    "Intensity = intensity[np.where((lambd>lamMin)&(lambd<lamMax))]\n",
    "D_intensity = d_intensity[np.where((lambd>lamMin)&(lambd<lamMax))]\n",
    "\n",
    "\n",
    "from lmfit.models import SkewedVoigtModel\n",
    "\n",
    "model = SkewedVoigtModel()\n",
    "\n",
    "# set initial parameter guesses from earlier scipy.optimize fit. add a guess for gamma (skewness)\n",
    "params = model.make_params(amplitude=Amp, center=mu, sigma=RMS, gamma=RMS)\n",
    "\n",
    "# adjust parameters to best fit data\n",
    "result = model.fit(Intensity, params, x=Lambd)\n",
    "\n",
    "nParams = 4\n",
    "chi2 = chiSquare(result.best_fit,Intensity,D_intensity)\n",
    "print('Total chi2: ',chi2)\n",
    "redChi2 = reducedChiSquare(nParams,result.best_fit,Intensity,D_intensity)\n",
    "print('Reduced chi2: ',redChi2)\n",
    "print('Corresponding p-value: ',1.000-sp.stats.chi2.cdf(chi2,Intensity.size-nParams))\n",
    "\n",
    "plt.errorbar(Lambd, Intensity,yerr=D_intensity,fmt='.')\n",
    "plot(Lambd, result.best_fit) \n",
    "plt.title('Skewed Voigt Fit to ORANGE emission spectrum')\n",
    "plt.ylabel('intensity')\n",
    "plt.xlabel('wavelength (nm)')\n",
    "plt.savefig('skewVoigt_600.png')\n",
    "\n",
    "# also report peak wavelength (max from fit curve)\n",
    "print('max of curve:',np.max(result.best_fit))\n",
    "peakLambda_orange600 = Lambd[np.where(result.best_fit==np.max(result.best_fit))]\n",
    "print(' at ',peakLambda_orange600,'nm')\n",
    "\n",
    "# store fit results for later use\n",
    "λ600 = result.params['center'].value\n",
    "σ600 = result.params['sigma'].value\n",
    "\n",
    "result"
   ]
  },
  {
   "cell_type": "code",
   "execution_count": 19,
   "metadata": {},
   "outputs": [
    {
     "name": "stdout",
     "output_type": "stream",
     "text": [
      "Total chi2:  5054.453170621043\n",
      "Number of data points: 185\n",
      "Number of fit parameters: 4\n",
      "Degrees of freedom: 181\n",
      "Reduced chi2:  27.92515563879029\n",
      "Corresponding p-value:  0.0\n",
      "max of curve: 2828.2905906664223\n",
      " at  [584.875] nm\n"
     ]
    },
    {
     "data": {
      "text/html": [
       "<h2> Model</h2> Model(skewed_voigt) <h2>Fit Statistics</h2><table><tr><td>fitting method</td><td>leastsq</td><td></td></tr><tr><td># function evals</td><td>188</td><td></td></tr><tr><td># data points</td><td>185</td><td></td></tr><tr><td># variables</td><td>4</td><td></td></tr><tr><td>chi-square</td><td> 235026.955</td><td></td></tr><tr><td>reduced chi-square</td><td> 1298.49147</td><td></td></tr><tr><td>Akaike info crit.</td><td> 1330.21344</td><td></td></tr><tr><td>Bayesian info crit.</td><td> 1343.09486</td><td></td></tr></table><h2>Variables</h2><table><tr><th> name </th><th> value </th><th> standard error </th><th> relative error </th><th> initial value </th><th> min </th><th> max </th><th> vary </th><th> expression </th></tr><tr><td> amplitude </td><td>  72392.8455 </td><td>  183.715162 </td><td> (0.25%) </td><td> 3500 </td><td>        -inf </td><td>         inf </td><td> True </td><td>  </td></tr><tr><td> center </td><td>  580.425715 </td><td>  0.19450567 </td><td> (0.03%) </td><td> 650 </td><td>        -inf </td><td>         inf </td><td> True </td><td>  </td></tr><tr><td> sigma </td><td>  6.24242928 </td><td>  0.08669579 </td><td> (1.39%) </td><td> 10 </td><td>  0.00000000 </td><td>         inf </td><td> True </td><td>  </td></tr><tr><td> skew </td><td>  0.57080404 </td><td>  0.03127723 </td><td> (5.48%) </td><td> 0.0 </td><td>        -inf </td><td>         inf </td><td> True </td><td>  </td></tr><tr><td> gamma </td><td>  6.24242928 </td><td>  0.08669579 </td><td> (1.39%) </td><td> 10 </td><td>        -inf </td><td>         inf </td><td> False </td><td> sigma </td></tr></table><h2>Correlations (unreported correlations are < 0.100)</h2><table><tr><td>center</td><td>skew</td><td>-0.9916</td></tr><tr><td>center</td><td>sigma</td><td>-0.9768</td></tr><tr><td>sigma</td><td>skew</td><td>0.9743</td></tr><tr><td>amplitude</td><td>sigma</td><td>0.3941</td></tr><tr><td>amplitude</td><td>center</td><td>-0.2871</td></tr><tr><td>amplitude</td><td>skew</td><td>0.2598</td></tr></table>"
      ],
      "text/plain": [
       "<lmfit.model.ModelResult at 0x7f7b052e99a0>"
      ]
     },
     "execution_count": 19,
     "metadata": {},
     "output_type": "execute_result"
    },
    {
     "data": {
      "image/png": "[encoded data removed]",
      "text/plain": [
       "<Figure size 432x288 with 1 Axes>"
      ]
     },
     "metadata": {
      "needs_background": "light"
     },
     "output_type": "display_data"
    }
   ],
   "source": [
    "# Import data from tab-delimited text file\n",
    "lambd, intensity = np.loadtxt('yellow560nm_07jan2021_500ms_5scanAvg.txt', skiprows=1, unpack=True)\n",
    "d_intensity = np.sqrt(np.abs(5*intensity))/5 # average of five scans\n",
    "\n",
    "#Fit data to a simple gaussian, assuming dot sizes are gaussian distributed\n",
    "#set seeds for fit parameters (nominal values)\n",
    "Amp=3500 # peak counts\n",
    "mu=650 # peak mean location\n",
    "RMS=10 # peak RootMeanSquare\n",
    "\n",
    "##############################\n",
    "# Modify fit range here!\n",
    "lamMin = 555\n",
    "lamMax = 615\n",
    "#############################\n",
    "\n",
    "Lambd = lambd[np.where((lambd>lamMin)&(lambd<lamMax))]\n",
    "Intensity = intensity[np.where((lambd>lamMin)&(lambd<lamMax))]\n",
    "D_intensity = d_intensity[np.where((lambd>lamMin)&(lambd<lamMax))]\n",
    "\n",
    "\n",
    "from lmfit.models import SkewedVoigtModel\n",
    "\n",
    "model = SkewedVoigtModel()\n",
    "\n",
    "# set initial parameter guesses from earlier scipy.optimize fit. add a guess for gamma (skewness)\n",
    "params = model.make_params(amplitude=Amp, center=mu, sigma=RMS, gamma=RMS)\n",
    "\n",
    "# adjust parameters to best fit data\n",
    "result = model.fit(Intensity, params, x=Lambd)\n",
    "\n",
    "nParams = 4\n",
    "chi2 = chiSquare(result.best_fit,Intensity,D_intensity)\n",
    "print('Total chi2: ',chi2)\n",
    "redChi2 = reducedChiSquare(nParams,result.best_fit,Intensity,D_intensity)\n",
    "print('Reduced chi2: ',redChi2)\n",
    "print('Corresponding p-value: ',1.000-sp.stats.chi2.cdf(chi2,Intensity.size-nParams))\n",
    "\n",
    "plt.errorbar(Lambd, Intensity,yerr=D_intensity,fmt='.')\n",
    "plot(Lambd, result.best_fit) \n",
    "plt.title('Skewed Voigt Fit to YELLOW emission spectrum')\n",
    "plt.ylabel('intensity')\n",
    "plt.xlabel('wavelength (nm)')\n",
    "plt.savefig('skewVoigt_560.png')\n",
    "\n",
    "# also report peak wavelength (max from fit curve)\n",
    "print('max of curve:',np.max(result.best_fit))\n",
    "peakLambda_yellow560 = Lambd[np.where(result.best_fit==np.max(result.best_fit))]\n",
    "print(' at ',peakLambda_yellow560,'nm')\n",
    "\n",
    "# store fit results for later use\n",
    "λ560 = result.params['center'].value\n",
    "σ560 = result.params['sigma'].value\n",
    "\n",
    "result"
   ]
  },
  {
   "cell_type": "code",
   "execution_count": 20,
   "metadata": {},
   "outputs": [
    {
     "name": "stdout",
     "output_type": "stream",
     "text": [
      "Total chi2:  2318.178154528378\n",
      "Number of data points: 182\n",
      "Number of fit parameters: 4\n",
      "Degrees of freedom: 178\n",
      "Reduced chi2:  13.023472778249314\n",
      "Corresponding p-value:  0.0\n",
      "max of curve: 1923.9523391567654\n",
      " at  [540.037] nm\n"
     ]
    },
    {
     "data": {
      "text/html": [
       "<h2> Model</h2> Model(skewed_voigt) <h2>Fit Statistics</h2><table><tr><td>fitting method</td><td>leastsq</td><td></td></tr><tr><td># function evals</td><td>3083</td><td></td></tr><tr><td># data points</td><td>182</td><td></td></tr><tr><td># variables</td><td>4</td><td></td></tr><tr><td>chi-square</td><td> 66714.4953</td><td></td></tr><tr><td>reduced chi-square</td><td> 374.800536</td><td></td></tr><tr><td>Akaike info crit.</td><td> 1082.55909</td><td></td></tr><tr><td>Bayesian info crit.</td><td> 1095.37512</td><td></td></tr></table><h2>Variables</h2><table><tr><th> name </th><th> value </th><th> standard error </th><th> relative error </th><th> initial value </th><th> min </th><th> max </th><th> vary </th><th> expression </th></tr><tr><td> amplitude </td><td>  54511.2756 </td><td>  110.638677 </td><td> (0.20%) </td><td> 3500 </td><td>        -inf </td><td>         inf </td><td> True </td><td>  </td></tr><tr><td> center </td><td>  533.211390 </td><td>  0.03667917 </td><td> (0.01%) </td><td> 650 </td><td>        -inf </td><td>         inf </td><td> True </td><td>  </td></tr><tr><td> sigma </td><td>  9.33691083 </td><td>  0.04424870 </td><td> (0.47%) </td><td> 10 </td><td>  0.00000000 </td><td>         inf </td><td> True </td><td>  </td></tr><tr><td> skew </td><td>  1.71055046 </td><td>  0.02216017 </td><td> (1.30%) </td><td> 0.0 </td><td>        -inf </td><td>         inf </td><td> True </td><td>  </td></tr><tr><td> gamma </td><td>  9.33691083 </td><td>  0.04424870 </td><td> (0.47%) </td><td> 10 </td><td>        -inf </td><td>         inf </td><td> False </td><td> sigma </td></tr></table><h2>Correlations (unreported correlations are < 0.100)</h2><table><tr><td>sigma</td><td>skew</td><td>0.8528</td></tr><tr><td>center</td><td>sigma</td><td>-0.8517</td></tr><tr><td>center</td><td>skew</td><td>-0.8066</td></tr><tr><td>amplitude</td><td>sigma</td><td>0.6081</td></tr><tr><td>amplitude</td><td>center</td><td>-0.4618</td></tr><tr><td>amplitude</td><td>skew</td><td>0.3304</td></tr></table>"
      ],
      "text/plain": [
       "<lmfit.model.ModelResult at 0x7f7b03194d90>"
      ]
     },
     "execution_count": 20,
     "metadata": {},
     "output_type": "execute_result"
    },
    {
     "data": {
      "image/png": "[encoded data removed]",
      "text/plain": [
       "<Figure size 432x288 with 1 Axes>"
      ]
     },
     "metadata": {
      "needs_background": "light"
     },
     "output_type": "display_data"
    }
   ],
   "source": [
    "# Import data from tab-delimited text file\n",
    "lambd, intensity = np.loadtxt('yellow-green520nm_07jan2021_500ms_5scanAvg.txt', skiprows=1, unpack=True)\n",
    "d_intensity = np.sqrt(np.abs(5*intensity))/5 # average of five scans\n",
    "\n",
    "#Fit data to a simple gaussian, assuming dot sizes are gaussian distributed\n",
    "#set seeds for fit parameters (nominal values)\n",
    "Amp=3500 # peak counts\n",
    "mu=650 # peak mean location\n",
    "RMS=10 # peak RootMeanSquare\n",
    "\n",
    "##############################\n",
    "# Modify fit range here!\n",
    "lamMin = 515\n",
    "lamMax = 575\n",
    "#############################\n",
    "\n",
    "Lambd = lambd[np.where((lambd>lamMin)&(lambd<lamMax))]\n",
    "Intensity = intensity[np.where((lambd>lamMin)&(lambd<lamMax))]\n",
    "D_intensity = d_intensity[np.where((lambd>lamMin)&(lambd<lamMax))]\n",
    "\n",
    "\n",
    "from lmfit.models import SkewedVoigtModel\n",
    "\n",
    "model = SkewedVoigtModel()\n",
    "\n",
    "# set initial parameter guesses from earlier scipy.optimize fit. add a guess for gamma (skewness)\n",
    "params = model.make_params(amplitude=Amp, center=mu, sigma=RMS, gamma=RMS)\n",
    "\n",
    "# adjust parameters to best fit data\n",
    "result = model.fit(Intensity, params, x=Lambd)\n",
    "\n",
    "nParams = 4\n",
    "chi2 = chiSquare(result.best_fit,Intensity,D_intensity)\n",
    "print('Total chi2: ',chi2)\n",
    "redChi2 = reducedChiSquare(nParams,result.best_fit,Intensity,D_intensity)\n",
    "print('Reduced chi2: ',redChi2)\n",
    "print('Corresponding p-value: ',1.000-sp.stats.chi2.cdf(chi2,Intensity.size-nParams))\n",
    "\n",
    "plt.errorbar(Lambd, Intensity,yerr=D_intensity,fmt='.')\n",
    "plot(Lambd, result.best_fit) \n",
    "plt.title('Skewed Voigt Fit to YELLOW-GREEN emission spectrum')\n",
    "plt.ylabel('intensity')\n",
    "plt.xlabel('wavelength (nm)')\n",
    "plt.savefig('skewVoigt_520.png')\n",
    "\n",
    "# also report peak wavelength (max from fit curve)\n",
    "print('max of curve:',np.max(result.best_fit))\n",
    "peakLambda_yellowGreen520 = Lambd[np.where(result.best_fit==np.max(result.best_fit))]\n",
    "print(' at ',peakLambda_yellowGreen520,'nm')\n",
    "\n",
    "# store fit results for later use\n",
    "λ520 = result.params['center'].value\n",
    "σ520 = result.params['sigma'].value\n",
    "\n",
    "result"
   ]
  },
  {
   "cell_type": "code",
   "execution_count": 21,
   "metadata": {},
   "outputs": [
    {
     "name": "stdout",
     "output_type": "stream",
     "text": [
      "Total chi2:  907.2872797974051\n",
      "Number of data points: 182\n",
      "Number of fit parameters: 4\n",
      "Degrees of freedom: 178\n",
      "Reduced chi2:  5.097119549423624\n",
      "Corresponding p-value:  0.0\n",
      "max of curve: 2341.1665120035595\n",
      " at  [537.065] nm\n"
     ]
    },
    {
     "data": {
      "text/html": [
       "<h2> Model</h2> Model(skewed_voigt) <h2>Fit Statistics</h2><table><tr><td>fitting method</td><td>leastsq</td><td></td></tr><tr><td># function evals</td><td>608</td><td></td></tr><tr><td># data points</td><td>182</td><td></td></tr><tr><td># variables</td><td>4</td><td></td></tr><tr><td>chi-square</td><td> 194033.304</td><td></td></tr><tr><td>reduced chi-square</td><td> 1090.07474</td><td></td></tr><tr><td>Akaike info crit.</td><td> 1276.86367</td><td></td></tr><tr><td>Bayesian info crit.</td><td> 1289.67970</td><td></td></tr></table><h2>Variables</h2><table><tr><th> name </th><th> value </th><th> standard error </th><th> relative error </th><th> initial value </th><th> min </th><th> max </th><th> vary </th><th> expression </th></tr><tr><td> amplitude </td><td>  126943.578 </td><td>  354.747344 </td><td> (0.28%) </td><td> 3500 </td><td>        -inf </td><td>         inf </td><td> True </td><td>  </td></tr><tr><td> center </td><td>  526.538602 </td><td>  0.04038865 </td><td> (0.01%) </td><td> 650 </td><td>        -inf </td><td>         inf </td><td> True </td><td>  </td></tr><tr><td> sigma </td><td>  20.7256351 </td><td>  0.09727998 </td><td> (0.47%) </td><td> 10 </td><td>  0.00000000 </td><td>         inf </td><td> True </td><td>  </td></tr><tr><td> skew </td><td>  3.79631106 </td><td>  0.04988281 </td><td> (1.31%) </td><td> 0.0 </td><td>        -inf </td><td>         inf </td><td> True </td><td>  </td></tr><tr><td> gamma </td><td>  20.7256351 </td><td>  0.09727998 </td><td> (0.47%) </td><td> 10 </td><td>        -inf </td><td>         inf </td><td> False </td><td> sigma </td></tr></table><h2>Correlations (unreported correlations are < 0.100)</h2><table><tr><td>amplitude</td><td>sigma</td><td>0.8153</td></tr><tr><td>sigma</td><td>skew</td><td>0.7034</td></tr><tr><td>center</td><td>sigma</td><td>-0.6384</td></tr><tr><td>center</td><td>skew</td><td>-0.4975</td></tr><tr><td>amplitude</td><td>center</td><td>-0.4877</td></tr><tr><td>amplitude</td><td>skew</td><td>0.4308</td></tr></table>"
      ],
      "text/plain": [
       "<lmfit.model.ModelResult at 0x7f7b03081be0>"
      ]
     },
     "execution_count": 21,
     "metadata": {},
     "output_type": "execute_result"
    },
    {
     "data": {
      "image/png": "[encoded data removed]",
      "text/plain": [
       "<Figure size 432x288 with 1 Axes>"
      ]
     },
     "metadata": {
      "needs_background": "light"
     },
     "output_type": "display_data"
    }
   ],
   "source": [
    "# Import data from tab-delimited text file\n",
    "lambd, intensity = np.loadtxt('green500nm_07jan2021_500ms_5scanAvg.txt', skiprows=1, unpack=True)\n",
    "d_intensity = np.sqrt(np.abs(5*intensity))/5 # average of five scans\n",
    "\n",
    "#Fit data to a simple gaussian, assuming dot sizes are gaussian distributed\n",
    "#set seeds for fit parameters (nominal values)\n",
    "Amp=3500 # peak counts\n",
    "mu=650 # peak mean location\n",
    "RMS=10 # peak RootMeanSquare\n",
    "\n",
    "##############################\n",
    "# Modify fit range here!\n",
    "lamMin = 515\n",
    "lamMax = 575\n",
    "#############################\n",
    "\n",
    "Lambd = lambd[np.where((lambd>lamMin)&(lambd<lamMax))]\n",
    "Intensity = intensity[np.where((lambd>lamMin)&(lambd<lamMax))]\n",
    "D_intensity = d_intensity[np.where((lambd>lamMin)&(lambd<lamMax))]\n",
    "\n",
    "\n",
    "from lmfit.models import SkewedVoigtModel\n",
    "\n",
    "model = SkewedVoigtModel()\n",
    "\n",
    "# set initial parameter guesses from earlier scipy.optimize fit. add a guess for gamma (skewness)\n",
    "params = model.make_params(amplitude=Amp, center=mu, sigma=RMS, gamma=RMS)\n",
    "\n",
    "# adjust parameters to best fit data\n",
    "result = model.fit(Intensity, params, x=Lambd)\n",
    "\n",
    "nParams = 4\n",
    "chi2 = chiSquare(result.best_fit,Intensity,D_intensity)\n",
    "print('Total chi2: ',chi2)\n",
    "redChi2 = reducedChiSquare(nParams,result.best_fit,Intensity,D_intensity)\n",
    "print('Reduced chi2: ',redChi2)\n",
    "print('Corresponding p-value: ',1.000-sp.stats.chi2.cdf(chi2,Intensity.size-nParams))\n",
    "\n",
    "plt.errorbar(Lambd, Intensity,yerr=D_intensity,fmt='.')\n",
    "plot(Lambd, result.best_fit) \n",
    "plt.title('Skewed Voigt Fit to GREEN emission spectrum')\n",
    "plt.ylabel('intensity')\n",
    "plt.xlabel('wavelength (nm)')\n",
    "plt.savefig('skewVoigt_500.png')\n",
    "\n",
    "# also report peak wavelength (max from fit curve)\n",
    "print('max of curve:',np.max(result.best_fit))\n",
    "peakLambda_green500 = Lambd[np.where(result.best_fit==np.max(result.best_fit))]\n",
    "print(' at ',peakLambda_green500,'nm')\n",
    "\n",
    "# store fit results for later use\n",
    "λ500 = result.params['center'].value\n",
    "σ500 = result.params['sigma'].value\n",
    "\n",
    "result"
   ]
  },
  {
   "cell_type": "markdown",
   "metadata": {},
   "source": [
    "## Super Key: Python dictionaries...this is how you access Lmfit parameters!"
   ]
  },
  {
   "cell_type": "code",
   "execution_count": 22,
   "metadata": {},
   "outputs": [
    {
     "name": "stdout",
     "output_type": "stream",
     "text": [
      "526.5386024137199\n",
      "peak wavelengths, in decreasing order, all in nm\n",
      "[665.25]\n",
      "[658.347]\n",
      "[626.689]\n",
      "[584.875]\n",
      "[540.037]\n",
      "[537.065]\n"
     ]
    }
   ],
   "source": [
    "print(result.params['center'].value)\n",
    "\n",
    "print('peak wavelengths, in decreasing order, all in nm')\n",
    "print(peakLambda_red640)\n",
    "print(peakLambda_orangeRed620)\n",
    "print(peakLambda_orange600)\n",
    "print(peakLambda_yellow560)\n",
    "print(peakLambda_yellowGreen520)\n",
    "print(peakLambda_green500)\n",
    "\n",
    "pλ640 = peakLambda_red640\n",
    "pλ620 = peakLambda_orangeRed620\n",
    "pλ600 = peakLambda_orange600\n",
    "pλ560 = peakLambda_yellow560\n",
    "pλ520 = peakLambda_yellowGreen520\n",
    "pλ500 = peakLambda_green500"
   ]
  },
  {
   "cell_type": "markdown",
   "metadata": {},
   "source": [
    "### Summarize the fit parameter results (all used Skewed Voigt and describe peak region reasonably well) - no need to summarize $\\chi^2$ here.\n",
    "| Data Sample  | Center $\\lambda$ (nm) | peak $\\lambda$ (nm) | $\\sigma$ (nm)    | Amplitude (normalization constant, total counts) |\n",
    "|--------------|-----------------------|--------|------------------|--------------------------------------------------|\n",
    "| Red          | 662.93 $\\pm$ 0.17     | 665.25 |  6.24 $\\pm$ 0.04 |   4566 $\\pm$  16                                 |\n",
    "| Orange-Red   | 650.89 $\\pm$ 0.06     | 658.35 |  9.65 $\\pm$ 0.07 | 109336 $\\pm$ 282                                 |\n",
    "| Orange       | 619.38 $\\pm$ 0.06     | 626.69 | 10.39 $\\pm$ 0.08 |   3652 $\\pm$  13                                 |\n",
    "| Yellow       | 580.43 $\\pm$ 0.20     | 584.88 |  6.24 $\\pm$ 0.09 |  72393 $\\pm$ 184                                 |\n",
    "| Yellow-Green | 533.21 $\\pm$ 0.04     | 540.04 |  9.34 $\\pm$ 0.05 |  54511 $\\pm$ 111                                 |\n",
    "| Green        | 526.54 $\\pm$ 0.05     | 537.07 | 20.73 $\\pm$ 0.10 | 126944 $\\pm$ 355                                 |\n",
    "\n",
    "* Note: 'center' wavelengths are defined in the fit function below and do not correspond to 'peak' or 'most probable' wavelength unless the distribution is symmetric!\n",
    "<img src=\"skewVoigtDefn.PNG\" width = \"800\">\n",
    "* We will use sigma as our starting best estimate for error bars on center wavelengths when we construct our $\\lambda$ vs. $D$ plot and fits.\n",
    "### Make the wavelength vs. diameter plot\n",
    "* Here are the NN-labs provided dot 'size' (diameter $D$ in nm)\n",
    "<img src=\"dotDiameters.PNG\" width = \"600\">"
   ]
  },
  {
   "cell_type": "code",
   "execution_count": 4,
   "metadata": {},
   "outputs": [
    {
     "ename": "NameError",
     "evalue": "name 'peakLambda_green500' is not defined",
     "output_type": "error",
     "traceback": [
      "\u001b[0;31m---------------------------------------------------------------------------\u001b[0m",
      "\u001b[0;31mNameError\u001b[0m                                 Traceback (most recent call last)",
      "\u001b[0;32m<ipython-input-4-e9c43f2c18d9>\u001b[0m in \u001b[0;36m<module>\u001b[0;34m\u001b[0m\n\u001b[1;32m     14\u001b[0m \u001b[0mlambdas_all\u001b[0m \u001b[0;34m=\u001b[0m \u001b[0mnp\u001b[0m\u001b[0;34m.\u001b[0m\u001b[0marray\u001b[0m\u001b[0;34m(\u001b[0m\u001b[0mlambdas_data\u001b[0m\u001b[0;34m)\u001b[0m\u001b[0;34m\u001b[0m\u001b[0;34m\u001b[0m\u001b[0m\n\u001b[1;32m     15\u001b[0m \u001b[0md_lambda_all\u001b[0m \u001b[0;34m=\u001b[0m \u001b[0mnp\u001b[0m\u001b[0;34m.\u001b[0m\u001b[0marray\u001b[0m\u001b[0;34m(\u001b[0m\u001b[0md_lambda_data\u001b[0m\u001b[0;34m)\u001b[0m\u001b[0;34m\u001b[0m\u001b[0;34m\u001b[0m\u001b[0m\n\u001b[0;32m---> 16\u001b[0;31m \u001b[0mpeak_lambdas_all\u001b[0m \u001b[0;34m=\u001b[0m \u001b[0mnp\u001b[0m\u001b[0;34m.\u001b[0m\u001b[0marray\u001b[0m\u001b[0;34m(\u001b[0m\u001b[0;34m[\u001b[0m\u001b[0mpeakLambda_green500\u001b[0m\u001b[0;34m,\u001b[0m\u001b[0mpeakLambda_yellowGreen520\u001b[0m\u001b[0;34m,\u001b[0m\u001b[0mpeakLambda_yellow560\u001b[0m\u001b[0;34m,\u001b[0m\u001b[0mpeakLambda_orange600\u001b[0m\u001b[0;34m,\u001b[0m\u001b[0mpeakLambda_orangeRed620\u001b[0m\u001b[0;34m,\u001b[0m\u001b[0mpeakLambda_red640\u001b[0m\u001b[0;34m]\u001b[0m\u001b[0;34m)\u001b[0m\u001b[0;34m\u001b[0m\u001b[0;34m\u001b[0m\u001b[0m\n\u001b[0m\u001b[1;32m     17\u001b[0m \u001b[0;34m\u001b[0m\u001b[0m\n\u001b[1;32m     18\u001b[0m \u001b[0;31m##############################\u001b[0m\u001b[0;34m\u001b[0m\u001b[0;34m\u001b[0m\u001b[0;34m\u001b[0m\u001b[0m\n",
      "\u001b[0;31mNameError\u001b[0m: name 'peakLambda_green500' is not defined"
     ]
    }
   ],
   "source": [
    "\n",
    "#import numpy to handle arrays\n",
    "import numpy as np\n",
    "\n",
    "#import matplotlib to create plots\n",
    "import matplotlib.pyplot as plt\n",
    "\n",
    "D_data = [2.3,2.6,3.3,4.6,5.6,6.9] # dot diamters (nm)\n",
    "d_D_data = [0.1,0.1,0.1,0.1,0.1,0.1] # estimate NN-labs uncertainty, but isn't describing spread of size distribution\n",
    "lambdas_data = [526.54,533.21,580.43,619.38,650.89,662.93]\n",
    "d_lambda_data = [20.73,9.34,6.24,10.39,9.65,6.24]\n",
    "\n",
    "D_all = np.array(D_data) # dot diamters (nm)\n",
    "d_D_all = np.array(d_D_data) # estimate NN-labs uncertainty, but isn't describing spread of size distribution\n",
    "lambdas_all = np.array(lambdas_data)\n",
    "d_lambda_all = np.array(d_lambda_data)\n",
    "peak_lambdas_all = np.array([peakLambda_green500,peakLambda_yellowGreen520,peakLambda_yellow560,peakLambda_orange600,peakLambda_orangeRed620,peakLambda_red640])\n",
    "\n",
    "##############################\n",
    "# Modify fit range here, in nm\n",
    "dMin = 1\n",
    "dMax = 10\n",
    "\n",
    "D = D_all[np.where((D_all>dMin)&(D_all<dMax))]\n",
    "d_D = d_D_all[np.where((D_all>dMin)&(D_all<dMax))]\n",
    "lambdas = lambdas_all[np.where((D_all>dMin)&(D_all<dMax))]\n",
    "d_lambda = d_lambda_all[np.where((D_all>dMin)&(D_all<dMax))]\n",
    "peak_lambdas = peak_lambdas_all[np.where((D_all>dMin)&(D_all<dMax))]\n",
    "##############################\n",
    "\n",
    "# define semiconductor properties of CdSe, in base SI units\n",
    "E_g = 1.74 * e# converted to J from eV\n",
    "me = 0.13*m_e\n",
    "print('Effective electron mass:',me,'kg')\n",
    "mh = 0.45*m_e\n",
    "print('Effective hole mass:',mh,'kg')\n",
    "print('E_g:',E_g,'J')\n",
    "\n",
    "plt.errorbar(D, lambdas,yerr=d_lambda,fmt='.',label='center $\\lambda$') \n",
    "plt.errorbar(D, peak_lambdas,yerr=d_lambda,fmt='.',label='peak $\\lambda$') \n",
    "plt.title('Emitted photon wavelength vs. quantum dot diameter')\n",
    "plt.ylabel('$\\lambda$ (nm)')\n",
    "plt.xlabel('D (nm)')\n",
    "plt.legend()\n",
    "plt.savefig('dot_lambda_vs_D.png')"
   ]
  },
  {
   "cell_type": "markdown",
   "metadata": {},
   "source": [
    "### We will use peak wavelength for our comparison to the PreLab models, but you can see they do not differ much from the 'center' wavelength given by the Skewed Voigt fit. \n",
    "\n",
    "### Keep in mind that we are not fitting our models to this diameter data!  All parameters in our PreLab models are fixed by the physical theory, so we must simply plot each model and compute $\\chi^2$ agreement with our data.  Then we can select the best model by comparing the $\\chi^2$ values."
   ]
  },
  {
   "cell_type": "code",
   "execution_count": 2,
   "metadata": {},
   "outputs": [
    {
     "ename": "NameError",
     "evalue": "name 'me' is not defined",
     "output_type": "error",
     "traceback": [
      "\u001b[0;31m---------------------------------------------------------------------------\u001b[0m",
      "\u001b[0;31mNameError\u001b[0m                                 Traceback (most recent call last)",
      "\u001b[0;32m<ipython-input-2-bb54aa18b311>\u001b[0m in \u001b[0;36m<module>\u001b[0;34m\u001b[0m\n\u001b[1;32m      1\u001b[0m \u001b[0;31m# define reduced mass of electron-hole system\u001b[0m\u001b[0;34m\u001b[0m\u001b[0;34m\u001b[0m\u001b[0;34m\u001b[0m\u001b[0m\n\u001b[0;32m----> 2\u001b[0;31m \u001b[0mmu\u001b[0m \u001b[0;34m=\u001b[0m \u001b[0;34m(\u001b[0m\u001b[0mme\u001b[0m\u001b[0;34m*\u001b[0m\u001b[0mmh\u001b[0m\u001b[0;34m)\u001b[0m\u001b[0;34m/\u001b[0m\u001b[0;34m(\u001b[0m\u001b[0mme\u001b[0m\u001b[0;34m+\u001b[0m\u001b[0mmh\u001b[0m\u001b[0;34m)\u001b[0m\u001b[0;34m\u001b[0m\u001b[0;34m\u001b[0m\u001b[0m\n\u001b[0m\u001b[1;32m      3\u001b[0m \u001b[0;34m\u001b[0m\u001b[0m\n\u001b[1;32m      4\u001b[0m \u001b[0;31m# define each model from our PreLab theory work.  Each mN is a function lambda(D)\u001b[0m\u001b[0;34m\u001b[0m\u001b[0;34m\u001b[0m\u001b[0;34m\u001b[0m\u001b[0m\n\u001b[1;32m      5\u001b[0m \u001b[0;32mdef\u001b[0m \u001b[0mm1\u001b[0m\u001b[0;34m(\u001b[0m\u001b[0md\u001b[0m\u001b[0;34m)\u001b[0m\u001b[0;34m:\u001b[0m\u001b[0;34m\u001b[0m\u001b[0;34m\u001b[0m\u001b[0m\n",
      "\u001b[0;31mNameError\u001b[0m: name 'me' is not defined"
     ]
    }
   ],
   "source": [
    "# define reduced mass of electron-hole system\n",
    "mu = (me*mh)/(me+mh)\n",
    "\n",
    "# define each model from our PreLab theory work.  Each mN is a function lambda(D)\n",
    "def m1(d):\n",
    "    return (8 * m_e * c * (d*1e-9)**2 / h) *1e9 # convert to nm\n",
    "\n",
    "def m2(d):\n",
    "    return (8/3 * m_e * c * (d*1e-9)**2 / h) *1e9 # convert to nm\n",
    "\n",
    "def m3(d):\n",
    "    return (h * c / (E_g +(3 * h**2 / (8 * m_e * (d*1e-9)**2) ))) *1e9 # convert to nm\n",
    "\n",
    "def m4(d):\n",
    "    return (h * c / (E_g +(  h**2 / (2 * m_e * (d*1e-9)**2) ))) *1e9 # convert to nm\n",
    "\n",
    "def m5(d):\n",
    "    return (h * c / (E_g + (h**2 / (2 * mu  * (d*1e-9)**2) ))) *1e9 # convert to nm\n",
    "\n",
    "# model from \"ESI The Owner Societies 2013\" adds exciton binding energy.  Shows wacky ~few micron for the largest 3, \n",
    "#  and is crazy for the smallest three dots, where the binding energy becomes larger than the other two terms, \n",
    "#  causing negative wavelengths!\n",
    "#def m6(d):\n",
    "#    E_binding = 1.8*e**2/(6.2*epsilon_0)/(d/2*1e-9)\n",
    "#    return (h * c / (E_g - E_binding + ((h**2 / (2*(d*1e-9)**2)) * (me+mh)/(me*mh)))) *1e9 # convert to nm\n",
    "\n",
    "chi2 = chiSquare(m1(D),lambdas,d_lambda)\n",
    "print('Total chi2: ',chi2)\n",
    "redChi2 = reducedChiSquare(nParams,m1(D),lambdas,d_lambda)\n",
    "print('m1 Reduced chi2: ',redChi2)\n",
    "print('Corresponding p-value: ',1.000-sp.stats.chi2.cdf(chi2,m1(D).size-nParams))\n",
    "\n",
    "chi2 = chiSquare(m2(D),lambdas,d_lambda)\n",
    "print('Total chi2: ',chi2)\n",
    "redChi2 = reducedChiSquare(nParams,m2(D),lambdas,d_lambda)\n",
    "print('m2 Reduced chi2: ',redChi2)\n",
    "print('Corresponding p-value: ',1.000-sp.stats.chi2.cdf(chi2,m2(D).size-nParams))\n",
    "\n",
    "plt.errorbar(D, lambdas,yerr=d_lambda,fmt='.',label='data')\n",
    "plot(D, m1(D),label='m1')\n",
    "plot(D, m2(D),label='m2')\n",
    "plot(D, m3(D),label='m3')\n",
    "plt.title('Emitted photon wavelength vs. quantum dot diameter')\n",
    "plt.ylabel('$\\lambda$ (nm)')\n",
    "plt.xlabel('D (nm)')\n",
    "plt.legend()\n",
    "plt.savefig('CdSe_dotModel.png')"
   ]
  },
  {
   "cell_type": "markdown",
   "metadata": {},
   "source": [
    "### Clearly, the first two models (infinite wells in vacuum) are garbage.  Let's compare models 3, 4, and 5:"
   ]
  },
  {
   "cell_type": "code",
   "execution_count": 1,
   "metadata": {
    "scrolled": true
   },
   "outputs": [
    {
     "ename": "NameError",
     "evalue": "name 'm3' is not defined",
     "output_type": "error",
     "traceback": [
      "\u001b[0;31m---------------------------------------------------------------------------\u001b[0m",
      "\u001b[0;31mNameError\u001b[0m                                 Traceback (most recent call last)",
      "\u001b[0;32m<ipython-input-1-a70f5d62caf0>\u001b[0m in \u001b[0;36m<module>\u001b[0;34m\u001b[0m\n\u001b[1;32m      1\u001b[0m \u001b[0;31m# choose model to compute agreement with data\u001b[0m\u001b[0;34m\u001b[0m\u001b[0;34m\u001b[0m\u001b[0;34m\u001b[0m\u001b[0m\n\u001b[0;32m----> 2\u001b[0;31m \u001b[0mmodel\u001b[0m \u001b[0;34m=\u001b[0m \u001b[0mm3\u001b[0m\u001b[0;34m\u001b[0m\u001b[0;34m\u001b[0m\u001b[0m\n\u001b[0m\u001b[1;32m      3\u001b[0m \u001b[0mnParams\u001b[0m \u001b[0;34m=\u001b[0m \u001b[0;36m0\u001b[0m\u001b[0;34m\u001b[0m\u001b[0;34m\u001b[0m\u001b[0m\n\u001b[1;32m      4\u001b[0m \u001b[0;34m\u001b[0m\u001b[0m\n\u001b[1;32m      5\u001b[0m \u001b[0mchi2\u001b[0m \u001b[0;34m=\u001b[0m \u001b[0mchiSquare\u001b[0m\u001b[0;34m(\u001b[0m\u001b[0mm3\u001b[0m\u001b[0;34m(\u001b[0m\u001b[0mD\u001b[0m\u001b[0;34m)\u001b[0m\u001b[0;34m,\u001b[0m\u001b[0mlambdas\u001b[0m\u001b[0;34m,\u001b[0m\u001b[0md_lambda\u001b[0m\u001b[0;34m)\u001b[0m\u001b[0;34m\u001b[0m\u001b[0;34m\u001b[0m\u001b[0m\n",
      "\u001b[0;31mNameError\u001b[0m: name 'm3' is not defined"
     ]
    }
   ],
   "source": [
    "# choose model to compute agreement with data\n",
    "model = m3\n",
    "nParams = 0\n",
    "\n",
    "chi2 = chiSquare(m3(D),lambdas,d_lambda)\n",
    "print('Total chi2: ',chi2)\n",
    "redChi2 = reducedChiSquare(nParams,m3(D),lambdas,d_lambda)\n",
    "print('m3 Reduced chi2: ',redChi2)\n",
    "print('Corresponding p-value: ',1.000-sp.stats.chi2.cdf(chi2,m3(D).size-nParams))\n",
    "\n",
    "chi2 = chiSquare(m4(D),lambdas,d_lambda)\n",
    "print('Total chi2: ',chi2)\n",
    "redChi2 = reducedChiSquare(nParams,m4(D),lambdas,d_lambda)\n",
    "print('m4 Reduced chi2: ',redChi2)\n",
    "print('Corresponding p-value: ',1.000-sp.stats.chi2.cdf(chi2,m4(D).size-nParams))\n",
    "\n",
    "chi2 = chiSquare(m5(D),lambdas,d_lambda)\n",
    "print('Total chi2: ',chi2)\n",
    "redChi2 = reducedChiSquare(nParams,m5(D),lambdas,d_lambda)\n",
    "print('m5 Reduced chi2: ',redChi2)\n",
    "print('Corresponding p-value: ',1.000-sp.stats.chi2.cdf(chi2,m5(D).size-nParams))\n",
    "\n",
    "plt.errorbar(D, lambdas,yerr=d_lambda,fmt='.',label='data')\n",
    "plot(D, m3(D),label='m3')\n",
    "plot(D, m4(D),label='m4')\n",
    "plot(D, m5(D),label='m5')\n",
    "#plot(D, m6(D),label='m6')\n",
    "plt.title('Emitted photon wavelength vs. quantum dot diameter')\n",
    "plt.ylabel('$\\lambda$ (nm)')\n",
    "plt.xlabel('D (nm)')\n",
    "plt.legend()\n",
    "plt.savefig('CdSe_dotModel.png')"
   ]
  },
  {
   "cell_type": "markdown",
   "metadata": {},
   "source": [
    "### The most complete model 5 (includes the kinetic energy of the free electron-hole pair) does not give good agreement for these CdSe dots.  Model 4 (simple spherical semiconductor dots) has the best reduced chi-square.\n",
    "\n",
    "### Check Model 5 against our old data from a different manufacturer and different semiconductor, Indium-Phosphide (InP) dots.\n"
   ]
  },
  {
   "cell_type": "code",
   "execution_count": 28,
   "metadata": {},
   "outputs": [
    {
     "name": "stdout",
     "output_type": "stream",
     "text": [
      "Effective electron mass: 7.2875069612e-32 kg\n",
      "Effective hole mass: 5.4656302209e-31 kg\n",
      "E_g: 2.153325396096e-19 J\n",
      "mu: 6.430153201058824e-32\n",
      "lambda data [529 568 598 623] nm\n",
      "model fit [230.795015   275.75780043 375.63092354 527.3652093  612.72869944\n",
      " 692.04567007] nm\n",
      "Total chi2:  0.19242849972868775\n",
      "Number of data points: 4\n",
      "Number of fit parameters: 0\n",
      "Degrees of freedom: 4\n",
      "Reduced chi2:  0.04810712493217194\n",
      "Corresponding p-value:  0.9956578574891304\n"
     ]
    },
    {
     "data": {
      "image/png": "[encoded data removed]",
      "text/plain": [
       "<Figure size 432x288 with 1 Axes>"
      ]
     },
     "metadata": {
      "needs_background": "light"
     },
     "output_type": "display_data"
    }
   ],
   "source": [
    "# uses my InP 2014 data for emission spectra, and CENCO provided dot diameters\n",
    "D_inp = np.array([4.7,5.1,5.4,5.8]) # dot diamters (nm)\n",
    "d_D_inp = np.array([0.1,0.1,0.1,0.1]) # estimate manufacturer uncertainty, but isn't describing spread of size distribution\n",
    "λs_inp = np.array([529,568,598,623])\n",
    "d_λ_inp = np.array([23,24,21,26])\n",
    "\n",
    "##############################\n",
    "# Modify fit range here, in nm\n",
    "dMin = 1\n",
    "dMax = 10\n",
    "\n",
    "D_InP = D_inp[np.where((D_inp>dMin)&(D_inp<dMax))]\n",
    "d_D = d_D_inp[np.where((D_inp>dMin)&(D_inp<dMax))]\n",
    "λs = λs_inp[np.where((D_inp>dMin)&(D_inp<dMax))]\n",
    "d_λ = d_λ_inp[np.where((D_inp>dMin)&(D_inp<dMax))]\n",
    "##############################\n",
    "\n",
    "# define semiconductor properties of InP, in base SI units\n",
    "E_g_inp = 1.344 * e# converted to J from eV\n",
    "me_inp = 0.080*m_e\n",
    "print('Effective electron mass:',me_inp,'kg')\n",
    "mh_inp = 0.60*m_e\n",
    "print('Effective hole mass:',mh_inp,'kg')\n",
    "print('E_g:',E_g_inp,'J')\n",
    "\n",
    "# define reduced mass of electron-hole system\n",
    "mu_inp = (me_inp*mh_inp)/(me_inp+mh_inp)\n",
    "print('mu:',mu_inp)\n",
    "\n",
    "## Must re-compute the model predictions for InP!\n",
    "# define each model from our PreLab theory work.  Each mN is a function lambda(D)\n",
    "def m1_inp(d):\n",
    "    return (8 * m_e * c * (d*1e-9)**2 / h) *1e9 # convert to nm\n",
    "\n",
    "def m2_inp(d):\n",
    "    return (8/3 * m_e * c * (d*1e-9)**2 / h) *1e9 # convert to nm\n",
    "\n",
    "def m3_inp(d):\n",
    "    return (h * c / (E_g_inp +(3 * h**2 / (8 * m_e * (d*1e-9)**2) ))) *1e9 # convert to nm\n",
    "\n",
    "def m4_inp(d):\n",
    "    return (h * c / (E_g_inp +(  h**2 / (2 * m_e * (d*1e-9)**2) ))) *1e9 # convert to nm\n",
    "\n",
    "def m5_inp(d):\n",
    "    return (h * c / (E_g_inp + (h**2 / (2 * mu_inp  * (d*1e-9)**2) ))) *1e9 # convert to nm\n",
    "\n",
    "# model from \"ESI The Owner Societies 2013\" adds exciton binding energy.  Shows wacky ~few micron for the largest 3, \n",
    "#  and is crazy for the smallest three dots, where the binding energy becomes larger than the other two terms, \n",
    "#  causing negative wavelengths!\n",
    "def m6_inp(d):\n",
    "    E_binding = 1.8*e**2/(6.2*epsilon_0)/(d/2*1e-9)\n",
    "    return (h * c / (E_g_inp - E_binding + (h**2 / (2*mu_inp*(d*1e-9)**2)))) *1e9 # convert to nm\n",
    "\n",
    "# choose model to compute agreement with data\n",
    "model = m5_inp\n",
    "nParams = 0\n",
    "\n",
    "print('lambda data',λs,'nm')\n",
    "print('model fit',model(D),'nm')\n",
    "\n",
    "chi2 = chiSquare(model(D_InP),λs,d_λ)\n",
    "print('Total chi2: ',chi2)\n",
    "redChi2 = reducedChiSquare(nParams,model(D_InP),λs,d_λ)\n",
    "print('Reduced chi2: ',redChi2)\n",
    "print('Corresponding p-value: ',1.000-sp.stats.chi2.cdf(chi2,model(D_InP).size-nParams))\n",
    "\n",
    "plt.errorbar(D_InP, λs,yerr=d_λ,fmt='.',label='data')\n",
    "#plot(D, m1_inp(D),label='m1')\n",
    "#plot(D, m2_inp(D),label='m2')\n",
    "#plot(D, m3_inp(D),label='m3')\n",
    "#plot(D, m4_inp(D),label='m4')\n",
    "plot(D_InP, m5_inp(D_InP),label='m5')\n",
    "#plot(D_InP, m6_inp(D_InP),label='m6')\n",
    "plt.title('Emitted photon wavelength vs. quantum dot diameter')\n",
    "plt.ylabel('λ (nm)')\n",
    "plt.xlabel('D (nm)')\n",
    "plt.legend()\n",
    "plt.savefig('InP_dotModel.png')"
   ]
  },
  {
   "cell_type": "markdown",
   "metadata": {},
   "source": [
    "### Clearly, Model 5 does a better job of describing the InP quantum dot spectra than the CdSe.  It is likely that their exciton Bohr radii are significantly smaller than their dot radii.  Perhaps the electron and hole are essentially 'free' in the larger InP dots.\n",
    "\n",
    "### But, at least Model 5 is closer to the CdSe behavior for the largest of the dots, which are larger than the exciton Bohr radius...need to look up those values for both CdSe and InP..."
   ]
  },
  {
   "cell_type": "markdown",
   "metadata": {},
   "source": [
    "## A. McGowan, DATE\n",
    "\n",
    "### Experiment section\n",
    "\n",
    "* Qualitatively, which of the vials is showing the highest energy emission?\n",
    "\n",
    "\n",
    "\n",
    "* Which of the vials has the smallest particles? \n",
    "\n",
    "\n",
    "\n",
    "* What physical principal allows you to predict these answers without taking any data?\n",
    "\n",
    "\n",
    "\n",
    "### Analysis section\n",
    "\n",
    "* Does one emission spectra model fit all of the samples well?\n",
    "\n",
    "\n",
    "\n",
    "* Do all samples have the same overall photon rate (intensity of emission)? If not, what factor(s) do you believe could be causing differences?\n",
    "\n",
    "\n",
    "\n",
    "* Using a reasonable estimate for the variation in wavelengths, determine the variation in dot diameters for each sample. Do all samples have the same variation?\n"
   ]
  },
  {
   "cell_type": "code",
   "execution_count": 29,
   "metadata": {},
   "outputs": [
    {
     "name": "stdout",
     "output_type": "stream",
     "text": [
      "[1.05487976e-07 8.70632270e-08 5.48724895e-08 3.70307097e-08\n",
      " 2.50112145e-08 2.25533939e-08]\n",
      "[1.40147998e-07 1.28496631e-07 7.23489252e-08 4.17189994e-08\n",
      " 2.88542267e-08 3.08895651e-08]\n",
      "Diameter ranges (in m): [3.46600228e-08 4.14334043e-08 1.74764357e-08 4.68828973e-09\n",
      " 3.84301228e-09 8.33617122e-09]\n"
     ]
    }
   ],
   "source": [
    "# invert the wavelength-diameter relationship for model 5\n",
    "\n",
    "def diameterRange_m5(peakLambda,sigma):\n",
    "    minλ = (peakLambda-sigma)*1e-9\n",
    "    maxλ = (peakLambda+sigma)*1e-9\n",
    "    #print(minλ)\n",
    "    minD = 1e9 * minλ * h**2 / (2 * mu * (h * c - minλ * E_g))\n",
    "    #print(minD)\n",
    "    maxD = 1e9 * maxλ * h**2 / (2 * mu * (h * c - maxλ * E_g))\n",
    "    #print(maxD)\n",
    "    return minD,maxD\n",
    "    \n",
    "peakλs = np.array([float(pλ640),float(pλ620),float(pλ600),float(pλ560),float(pλ520),float(pλ500)])\n",
    "sigmas = np.array([σ640,σ620,σ600,σ560,σ520,σ500])\n",
    "\n",
    "minDiameters,maxDiameters = diameterRange_m5(peakλs,sigmas)\n",
    "print(minDiameters)\n",
    "print(maxDiameters)\n",
    "print('Diameter ranges (in m):',maxDiameters-minDiameters)"
   ]
  },
  {
   "cell_type": "markdown",
   "metadata": {},
   "source": [
    "### Follow-up Questions\n",
    "\n",
    "1. What other factor(s), in addition to size variations, might cause the spread in emitted wavelengths?\n",
    "\n",
    "\n",
    "\n",
    "2. Determine if we could ever observe n = 2 to n = 0 photon emissions in this experiment, given our measured UV LED wavelength. Show your calculations!\n",
    "\n",
    "\n",
    "\n",
    "3. Why do you think that our data agree with the dot size model better at larger dot sizes? If there is a 'natural' exciton Bohr radius for each bulk semiconductor, and you confine an exciton to a region smaller than it would naturally occupy in bulk material, what do you think the consequence would be? Will the emitted photon energy be larger or smaller than predicted by our model?\n",
    "\n"
   ]
  },
  {
   "cell_type": "code",
   "execution_count": 30,
   "metadata": {},
   "outputs": [
    {
     "name": "stdout",
     "output_type": "stream",
     "text": [
      "[2.3 2.6 3.3 4.6 5.6 6.9]\n",
      "[ 95.25445294 117.36423616 171.78138925 271.95324173 340.41732614\n",
      " 414.26099869]\n"
     ]
    }
   ],
   "source": [
    "def m5_n2(d):\n",
    "    return (h * c / (E_g + (2* h**2 / (mu  * (d*1e-9)**2) ))) *1e9 # convert to nm\n",
    "\n",
    "print(D)\n",
    "print(m5_n2(D))"
   ]
  },
  {
   "cell_type": "code",
   "execution_count": null,
   "metadata": {},
   "outputs": [],
   "source": []
  }
 ],
 "metadata": {
  "kernelspec": {
   "display_name": "Python 3",
   "language": "python",
   "name": "python3"
  },
  "language_info": {
   "codemirror_mode": {
    "name": "ipython",
    "version": 3
   },
   "file_extension": ".py",
   "mimetype": "text/x-python",
   "name": "python",
   "nbconvert_exporter": "python",
   "pygments_lexer": "ipython3",
   "version": "3.8.8"
  }
 },
 "nbformat": 4,
 "nbformat_minor": 4
}
