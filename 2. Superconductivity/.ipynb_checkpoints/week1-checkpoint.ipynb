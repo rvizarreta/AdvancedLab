{
 "cells": [
  {
   "cell_type": "code",
   "execution_count": 1,
   "id": "b623b7b8-67db-4a79-8f3d-99d98079ea06",
   "metadata": {},
   "outputs": [],
   "source": [
    "import numpy as np\n",
    "from math import e\n",
    "import matplotlib.pyplot as plt\n",
    "from ipywidgets import interact\n",
    "from scipy.optimize import curve_fit\n",
    "import pandas as pd\n",
    "plt.style.reload_library()\n",
    "plt.style.use(['science', 'grid'])\n",
    "from scipy.odr import ODR, Model, Data, RealData\n",
    "import scipy.optimize as opt; #allows for curve fitting\n",
    "from scipy.odr import *"
   ]
  },
  {
   "cell_type": "code",
   "execution_count": null,
   "id": "da6ce74e-a719-458f-a2bf-e07d01372b7c",
   "metadata": {},
   "outputs": [],
   "source": []
  }
 ],
 "metadata": {
  "kernelspec": {
   "display_name": "Python 3",
   "language": "python",
   "name": "python3"
  },
  "language_info": {
   "codemirror_mode": {
    "name": "ipython",
    "version": 3
   },
   "file_extension": ".py",
   "mimetype": "text/x-python",
   "name": "python",
   "nbconvert_exporter": "python",
   "pygments_lexer": "ipython3",
   "version": "3.8.8"
  }
 },
 "nbformat": 4,
 "nbformat_minor": 5
}
